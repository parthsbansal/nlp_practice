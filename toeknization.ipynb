{
 "cells": [
  {
   "cell_type": "markdown",
   "id": "afe22db9",
   "metadata": {},
   "source": [
    "## Natural Language Processing - Assignment 02"
   ]
  },
  {
   "cell_type": "code",
   "execution_count": 1,
   "id": "08b7751a",
   "metadata": {},
   "outputs": [],
   "source": [
    "# Importing necessary modules/ libraries \n",
    "import pandas as pd \n",
    "import re\n",
    "import matplotlib.pyplot as plt\n",
    "import seaborn as sns\n",
    "import nltk\n",
    "import nltk.corpus  \n",
    "from nltk.text import Text\n",
    "import warnings\n",
    "warnings.filterwarnings('ignore')"
   ]
  },
  {
   "cell_type": "code",
   "execution_count": 2,
   "id": "50c50806",
   "metadata": {},
   "outputs": [
    {
     "data": {
      "text/html": [
       "<div>\n",
       "<style scoped>\n",
       "    .dataframe tbody tr th:only-of-type {\n",
       "        vertical-align: middle;\n",
       "    }\n",
       "\n",
       "    .dataframe tbody tr th {\n",
       "        vertical-align: top;\n",
       "    }\n",
       "\n",
       "    .dataframe thead th {\n",
       "        text-align: right;\n",
       "    }\n",
       "</style>\n",
       "<table border=\"1\" class=\"dataframe\">\n",
       "  <thead>\n",
       "    <tr style=\"text-align: right;\">\n",
       "      <th></th>\n",
       "      <th>Inspection ID</th>\n",
       "      <th>DBA Name</th>\n",
       "      <th>AKA Name</th>\n",
       "      <th>License #</th>\n",
       "      <th>Facility Type</th>\n",
       "      <th>Risk</th>\n",
       "      <th>Address</th>\n",
       "      <th>City</th>\n",
       "      <th>State</th>\n",
       "      <th>Zip</th>\n",
       "      <th>Inspection Date</th>\n",
       "      <th>Inspection Type</th>\n",
       "      <th>Results</th>\n",
       "      <th>Violations</th>\n",
       "      <th>Latitude</th>\n",
       "      <th>Longitude</th>\n",
       "      <th>Location</th>\n",
       "    </tr>\n",
       "  </thead>\n",
       "  <tbody>\n",
       "    <tr>\n",
       "      <th>0</th>\n",
       "      <td>2573172</td>\n",
       "      <td>3 SAUCES</td>\n",
       "      <td>3 SAUCES</td>\n",
       "      <td>2835644.0</td>\n",
       "      <td>Restaurant</td>\n",
       "      <td>Risk 1 (High)</td>\n",
       "      <td>2002 S WENTWORTH AVE</td>\n",
       "      <td>CHICAGO</td>\n",
       "      <td>IL</td>\n",
       "      <td>60616.0</td>\n",
       "      <td>03/24/2023</td>\n",
       "      <td>Canvass</td>\n",
       "      <td>Pass</td>\n",
       "      <td>49. NON-FOOD/FOOD CONTACT SURFACES CLEAN - Com...</td>\n",
       "      <td>41.855282</td>\n",
       "      <td>-87.631993</td>\n",
       "      <td>(41.85528170377401, -87.63199264229414)</td>\n",
       "    </tr>\n",
       "    <tr>\n",
       "      <th>1</th>\n",
       "      <td>2573171</td>\n",
       "      <td>K G HALL</td>\n",
       "      <td>K G HALL</td>\n",
       "      <td>1887545.0</td>\n",
       "      <td>Banquet Hall</td>\n",
       "      <td>Risk 1 (High)</td>\n",
       "      <td>4235 W 47TH ST</td>\n",
       "      <td>CHICAGO</td>\n",
       "      <td>IL</td>\n",
       "      <td>60632.0</td>\n",
       "      <td>03/24/2023</td>\n",
       "      <td>Non-Inspection</td>\n",
       "      <td>No Entry</td>\n",
       "      <td>NaN</td>\n",
       "      <td>41.807682</td>\n",
       "      <td>-87.729847</td>\n",
       "      <td>(41.807682027157476, -87.72984725145503)</td>\n",
       "    </tr>\n",
       "    <tr>\n",
       "      <th>2</th>\n",
       "      <td>2573162</td>\n",
       "      <td>MARATHON</td>\n",
       "      <td>MARATHON</td>\n",
       "      <td>2900506.0</td>\n",
       "      <td>GAS STATION</td>\n",
       "      <td>Risk 3 (Low)</td>\n",
       "      <td>5800-5810 W BELMONT AVE</td>\n",
       "      <td>CHICAGO</td>\n",
       "      <td>IL</td>\n",
       "      <td>60634.0</td>\n",
       "      <td>03/24/2023</td>\n",
       "      <td>License</td>\n",
       "      <td>Not Ready</td>\n",
       "      <td>NaN</td>\n",
       "      <td>41.938620</td>\n",
       "      <td>-87.771420</td>\n",
       "      <td>(41.93861992874789, -87.77142033127757)</td>\n",
       "    </tr>\n",
       "    <tr>\n",
       "      <th>3</th>\n",
       "      <td>2573131</td>\n",
       "      <td>ANTEPRIMA</td>\n",
       "      <td>ANTEPRIMA</td>\n",
       "      <td>1770521.0</td>\n",
       "      <td>Restaurant</td>\n",
       "      <td>Risk 1 (High)</td>\n",
       "      <td>5316 N CLARK ST</td>\n",
       "      <td>CHICAGO</td>\n",
       "      <td>IL</td>\n",
       "      <td>60640.0</td>\n",
       "      <td>03/24/2023</td>\n",
       "      <td>Non-Inspection</td>\n",
       "      <td>No Entry</td>\n",
       "      <td>NaN</td>\n",
       "      <td>41.978616</td>\n",
       "      <td>-87.668470</td>\n",
       "      <td>(41.97861615439425, -87.66847038837432)</td>\n",
       "    </tr>\n",
       "    <tr>\n",
       "      <th>4</th>\n",
       "      <td>2573107</td>\n",
       "      <td>Cullen</td>\n",
       "      <td>Cullen</td>\n",
       "      <td>23891.0</td>\n",
       "      <td>School</td>\n",
       "      <td>Risk 1 (High)</td>\n",
       "      <td>10650 S Eberhart (500E)</td>\n",
       "      <td>CHICAGO</td>\n",
       "      <td>IL</td>\n",
       "      <td>60628.0</td>\n",
       "      <td>03/24/2023</td>\n",
       "      <td>Canvass</td>\n",
       "      <td>Pass</td>\n",
       "      <td>10. ADEQUATE HANDWASHING SINKS PROPERLY SUPPLI...</td>\n",
       "      <td>41.700361</td>\n",
       "      <td>-87.611282</td>\n",
       "      <td>(41.70036106831835, -87.611281758793)</td>\n",
       "    </tr>\n",
       "  </tbody>\n",
       "</table>\n",
       "</div>"
      ],
      "text/plain": [
       "   Inspection ID   DBA Name   AKA Name  License # Facility Type  \\\n",
       "0        2573172   3 SAUCES   3 SAUCES  2835644.0    Restaurant   \n",
       "1        2573171   K G HALL   K G HALL  1887545.0  Banquet Hall   \n",
       "2        2573162   MARATHON   MARATHON  2900506.0   GAS STATION   \n",
       "3        2573131  ANTEPRIMA  ANTEPRIMA  1770521.0    Restaurant   \n",
       "4        2573107     Cullen     Cullen    23891.0        School   \n",
       "\n",
       "            Risk                   Address     City State      Zip  \\\n",
       "0  Risk 1 (High)     2002 S WENTWORTH AVE   CHICAGO    IL  60616.0   \n",
       "1  Risk 1 (High)           4235 W 47TH ST   CHICAGO    IL  60632.0   \n",
       "2   Risk 3 (Low)  5800-5810 W BELMONT AVE   CHICAGO    IL  60634.0   \n",
       "3  Risk 1 (High)          5316 N CLARK ST   CHICAGO    IL  60640.0   \n",
       "4  Risk 1 (High)  10650 S Eberhart (500E)   CHICAGO    IL  60628.0   \n",
       "\n",
       "  Inspection Date Inspection Type    Results  \\\n",
       "0      03/24/2023         Canvass       Pass   \n",
       "1      03/24/2023  Non-Inspection   No Entry   \n",
       "2      03/24/2023         License  Not Ready   \n",
       "3      03/24/2023  Non-Inspection   No Entry   \n",
       "4      03/24/2023         Canvass       Pass   \n",
       "\n",
       "                                          Violations   Latitude  Longitude  \\\n",
       "0  49. NON-FOOD/FOOD CONTACT SURFACES CLEAN - Com...  41.855282 -87.631993   \n",
       "1                                                NaN  41.807682 -87.729847   \n",
       "2                                                NaN  41.938620 -87.771420   \n",
       "3                                                NaN  41.978616 -87.668470   \n",
       "4  10. ADEQUATE HANDWASHING SINKS PROPERLY SUPPLI...  41.700361 -87.611282   \n",
       "\n",
       "                                   Location  \n",
       "0   (41.85528170377401, -87.63199264229414)  \n",
       "1  (41.807682027157476, -87.72984725145503)  \n",
       "2   (41.93861992874789, -87.77142033127757)  \n",
       "3   (41.97861615439425, -87.66847038837432)  \n",
       "4     (41.70036106831835, -87.611281758793)  "
      ]
     },
     "execution_count": 2,
     "metadata": {},
     "output_type": "execute_result"
    }
   ],
   "source": [
    "# Reading the csv file \n",
    "df = pd.read_csv('/Users/parthbansal/Downloads/Food_Inspections.csv')\n",
    "data = df \n",
    "df.head()"
   ]
  },
  {
   "cell_type": "markdown",
   "id": "759eb333",
   "metadata": {},
   "source": [
    "#### 1. Similar to Assignment 1, filter the data for failed inspections and only keep records where Violations description is not blank. "
   ]
  },
  {
   "cell_type": "code",
   "execution_count": 3,
   "id": "989f6fc7",
   "metadata": {},
   "outputs": [
    {
     "data": {
      "text/plain": [
       "array(['Pass', 'No Entry', 'Not Ready', 'Out of Business', 'Fail',\n",
       "       'Pass w/ Conditions', 'Business Not Located'], dtype=object)"
      ]
     },
     "execution_count": 3,
     "metadata": {},
     "output_type": "execute_result"
    }
   ],
   "source": [
    "df['Results'].unique()"
   ]
  },
  {
   "cell_type": "code",
   "execution_count": 4,
   "id": "4576492e",
   "metadata": {},
   "outputs": [],
   "source": [
    "# Dropping results column since all results are 'Fail'\n",
    "df = df[df['Results'] == 'Fail']\n",
    "df = df.drop('Results', axis = 1)"
   ]
  },
  {
   "cell_type": "code",
   "execution_count": 5,
   "id": "d31d7518",
   "metadata": {},
   "outputs": [],
   "source": [
    "df = df.dropna(subset = 'Violations')"
   ]
  },
  {
   "cell_type": "code",
   "execution_count": 6,
   "id": "be115c6b",
   "metadata": {},
   "outputs": [
    {
     "name": "stdout",
     "output_type": "stream",
     "text": [
      "<class 'pandas.core.frame.DataFrame'>\n",
      "Int64Index: 45485 entries, 8 to 251496\n",
      "Data columns (total 16 columns):\n",
      " #   Column           Non-Null Count  Dtype  \n",
      "---  ------           --------------  -----  \n",
      " 0   Inspection ID    45485 non-null  int64  \n",
      " 1   DBA Name         45485 non-null  object \n",
      " 2   AKA Name         45020 non-null  object \n",
      " 3   License #        45483 non-null  float64\n",
      " 4   Facility Type    45452 non-null  object \n",
      " 5   Risk             45484 non-null  object \n",
      " 6   Address          45485 non-null  object \n",
      " 7   City             45463 non-null  object \n",
      " 8   State            45475 non-null  object \n",
      " 9   Zip              45480 non-null  float64\n",
      " 10  Inspection Date  45485 non-null  object \n",
      " 11  Inspection Type  45485 non-null  object \n",
      " 12  Violations       45485 non-null  object \n",
      " 13  Latitude         45325 non-null  float64\n",
      " 14  Longitude        45325 non-null  float64\n",
      " 15  Location         45325 non-null  object \n",
      "dtypes: float64(4), int64(1), object(11)\n",
      "memory usage: 5.9+ MB\n"
     ]
    }
   ],
   "source": [
    "# No NULL violations\n",
    "df.info()"
   ]
  },
  {
   "cell_type": "code",
   "execution_count": 7,
   "id": "fa2a0a17",
   "metadata": {},
   "outputs": [
    {
     "data": {
      "text/plain": [
       "(45485, 16)"
      ]
     },
     "execution_count": 7,
     "metadata": {},
     "output_type": "execute_result"
    }
   ],
   "source": [
    "df.shape"
   ]
  },
  {
   "cell_type": "markdown",
   "id": "5ebd6e3b",
   "metadata": {},
   "source": [
    "#### 2. Using regex, separate the violation description and comments into separate data frame columns."
   ]
  },
  {
   "cell_type": "code",
   "execution_count": 8,
   "id": "74f775d8",
   "metadata": {},
   "outputs": [],
   "source": [
    "# df['Violations'].sample(10, random_state=42)"
   ]
  },
  {
   "cell_type": "code",
   "execution_count": 9,
   "id": "f70bcc20",
   "metadata": {},
   "outputs": [],
   "source": [
    "df['Violations'] = df['Violations'].str.split('|')"
   ]
  },
  {
   "cell_type": "code",
   "execution_count": 10,
   "id": "7766529b",
   "metadata": {},
   "outputs": [],
   "source": [
    "df['Description'] = df['Violations'].apply(lambda x: [re.findall(r'\\d+\\. (.+?) -', i) for i in x])"
   ]
  },
  {
   "cell_type": "code",
   "execution_count": 11,
   "id": "2cf2ad7f",
   "metadata": {},
   "outputs": [],
   "source": [
    "df['Comments'] = df['Violations'].apply(lambda x: [re.findall(r'Comments: (.+?)\\.', i) for i in x])"
   ]
  },
  {
   "cell_type": "code",
   "execution_count": 12,
   "id": "1867360d",
   "metadata": {},
   "outputs": [],
   "source": [
    "# Dropping redundant columns \n",
    "df = df.drop(columns= ['Inspection ID', 'DBA Name', 'License #', 'Facility Type', 'Risk', 'Address', 'Inspection Type', 'AKA Name', 'City', 'State', 'Zip', 'Violations', 'Latitude', 'Longitude', 'Location'])"
   ]
  },
  {
   "cell_type": "code",
   "execution_count": 13,
   "id": "1a5c9bf5",
   "metadata": {},
   "outputs": [
    {
     "data": {
      "text/html": [
       "<div>\n",
       "<style scoped>\n",
       "    .dataframe tbody tr th:only-of-type {\n",
       "        vertical-align: middle;\n",
       "    }\n",
       "\n",
       "    .dataframe tbody tr th {\n",
       "        vertical-align: top;\n",
       "    }\n",
       "\n",
       "    .dataframe thead th {\n",
       "        text-align: right;\n",
       "    }\n",
       "</style>\n",
       "<table border=\"1\" class=\"dataframe\">\n",
       "  <thead>\n",
       "    <tr style=\"text-align: right;\">\n",
       "      <th></th>\n",
       "      <th>Inspection Date</th>\n",
       "      <th>Description</th>\n",
       "      <th>Comments</th>\n",
       "    </tr>\n",
       "  </thead>\n",
       "  <tbody>\n",
       "    <tr>\n",
       "      <th>8</th>\n",
       "      <td>03/23/2023</td>\n",
       "      <td>[[INSECTS, RODENTS, &amp; ANIMALS NOT PRESENT], [T...</td>\n",
       "      <td>[[OBSERVED NO CURRENT PEST CONTROL LOGBOOK], [...</td>\n",
       "    </tr>\n",
       "    <tr>\n",
       "      <th>46</th>\n",
       "      <td>03/16/2023</td>\n",
       "      <td>[[INSECTS, RODENTS, &amp; ANIMALS NOT PRESENT], [I...</td>\n",
       "      <td>[[OBSERVED SMALL ROOM ADJACENT TO KITCHEN WITH...</td>\n",
       "    </tr>\n",
       "    <tr>\n",
       "      <th>113</th>\n",
       "      <td>03/01/2023</td>\n",
       "      <td>[[PERSON IN CHARGE PRESENT, DEMONSTRATES KNOWL...</td>\n",
       "      <td>[[PIC HAS A COPY OF CITY FOOD MANAGERS CERTIFI...</td>\n",
       "    </tr>\n",
       "    <tr>\n",
       "      <th>133</th>\n",
       "      <td>02/27/2023</td>\n",
       "      <td>[[PERSON IN CHARGE PRESENT, DEMONSTRATES KNOWL...</td>\n",
       "      <td>[[THE PERSON IN CHARGE DURING THE INSPECTION D...</td>\n",
       "    </tr>\n",
       "    <tr>\n",
       "      <th>135</th>\n",
       "      <td>02/27/2023</td>\n",
       "      <td>[[], [CITY OF CHICAGO FOOD SERVICE SANITATION ...</td>\n",
       "      <td>[[], [No certified food service manager on sit...</td>\n",
       "    </tr>\n",
       "  </tbody>\n",
       "</table>\n",
       "</div>"
      ],
      "text/plain": [
       "    Inspection Date                                        Description  \\\n",
       "8        03/23/2023  [[INSECTS, RODENTS, & ANIMALS NOT PRESENT], [T...   \n",
       "46       03/16/2023  [[INSECTS, RODENTS, & ANIMALS NOT PRESENT], [I...   \n",
       "113      03/01/2023  [[PERSON IN CHARGE PRESENT, DEMONSTRATES KNOWL...   \n",
       "133      02/27/2023  [[PERSON IN CHARGE PRESENT, DEMONSTRATES KNOWL...   \n",
       "135      02/27/2023  [[], [CITY OF CHICAGO FOOD SERVICE SANITATION ...   \n",
       "\n",
       "                                              Comments  \n",
       "8    [[OBSERVED NO CURRENT PEST CONTROL LOGBOOK], [...  \n",
       "46   [[OBSERVED SMALL ROOM ADJACENT TO KITCHEN WITH...  \n",
       "113  [[PIC HAS A COPY OF CITY FOOD MANAGERS CERTIFI...  \n",
       "133  [[THE PERSON IN CHARGE DURING THE INSPECTION D...  \n",
       "135  [[], [No certified food service manager on sit...  "
      ]
     },
     "execution_count": 13,
     "metadata": {},
     "output_type": "execute_result"
    }
   ],
   "source": [
    "df.head()"
   ]
  },
  {
   "cell_type": "markdown",
   "id": "df6081e7",
   "metadata": {},
   "source": [
    "#### 3. Tokenize violation description and comment columns."
   ]
  },
  {
   "cell_type": "code",
   "execution_count": 14,
   "id": "e04e36c8",
   "metadata": {},
   "outputs": [],
   "source": [
    "description = df.explode('Description').explode('Description')\n",
    "comments = df.explode('Comments').explode('Comments')"
   ]
  },
  {
   "cell_type": "code",
   "execution_count": 15,
   "id": "52481d74",
   "metadata": {},
   "outputs": [],
   "source": [
    "description = description.dropna()\n",
    "comments = comments.dropna()"
   ]
  },
  {
   "cell_type": "code",
   "execution_count": 16,
   "id": "7171a829",
   "metadata": {},
   "outputs": [],
   "source": [
    "descriptions = ', '.join(description.Description)"
   ]
  },
  {
   "cell_type": "code",
   "execution_count": 17,
   "id": "a1d2ce99",
   "metadata": {},
   "outputs": [],
   "source": [
    "comments = ', '.join(comments.Comments)"
   ]
  },
  {
   "cell_type": "code",
   "execution_count": 18,
   "id": "7e578867",
   "metadata": {},
   "outputs": [],
   "source": [
    "# Tokeknizing descriptions and comments \n",
    "descriptions = nltk.tokenize.word_tokenize(descriptions)\n",
    "comments = nltk.tokenize.word_tokenize(comments)"
   ]
  },
  {
   "cell_type": "markdown",
   "id": "d55820ac",
   "metadata": {},
   "source": [
    "#### 4. Find top-10 tokens of each column."
   ]
  },
  {
   "cell_type": "code",
   "execution_count": 19,
   "id": "d5952ebe",
   "metadata": {},
   "outputs": [],
   "source": [
    "freq_descriptions = nltk.FreqDist(descriptions)\n",
    "freq_comments = nltk.FreqDist(comments)"
   ]
  },
  {
   "cell_type": "code",
   "execution_count": 20,
   "id": "04f22ee2",
   "metadata": {},
   "outputs": [
    {
     "data": {
      "text/plain": [
       "[(',', 656770),\n",
       " ('AND', 169625),\n",
       " (':', 126037),\n",
       " ('MAINTAINED', 84905),\n",
       " ('FOOD', 84250),\n",
       " ('PROPERLY', 68557),\n",
       " ('CLEAN', 66985),\n",
       " ('&', 66839),\n",
       " ('CONSTRUCTED', 66117),\n",
       " ('INSTALLED', 64359)]"
      ]
     },
     "execution_count": 20,
     "metadata": {},
     "output_type": "execute_result"
    }
   ],
   "source": [
    "top_10_desc = freq_descriptions.most_common(10)\n",
    "top_10_desc"
   ]
  },
  {
   "cell_type": "code",
   "execution_count": 21,
   "id": "18d46632",
   "metadata": {},
   "outputs": [
    {
     "data": {
      "text/plain": [
       "[(',', 453205),\n",
       " ('THE', 126140),\n",
       " ('AND', 121811),\n",
       " ('IN', 117598),\n",
       " ('OBSERVED', 79734),\n",
       " ('and', 70135),\n",
       " ('OF', 69570),\n",
       " ('ON', 66670),\n",
       " ('AREA', 52268),\n",
       " ('FOOD', 48630)]"
      ]
     },
     "execution_count": 21,
     "metadata": {},
     "output_type": "execute_result"
    }
   ],
   "source": [
    "top_10_comm = freq_comments.most_common(10)\n",
    "top_10_comm "
   ]
  },
  {
   "cell_type": "markdown",
   "id": "2c3cd4a2",
   "metadata": {},
   "source": [
    "#### 5. Clean each column: convert to lower case, remove stopwords, punctuation, numbers, etc."
   ]
  },
  {
   "cell_type": "code",
   "execution_count": 22,
   "id": "3449ce62",
   "metadata": {},
   "outputs": [],
   "source": [
    "# Removing single-character tokens (mostly punctuation and determiner 'a')\n",
    "descriptions = [word for word in descriptions if len(word) > 1]\n",
    "comments = [word for word in comments if len(word) > 1]\n",
    "\n",
    "# Removing punctuation\n",
    "descriptions = [word for word in descriptions if word.isalpha()]\n",
    "comments = [word for word in comments if word.isalpha()]\n",
    "\n",
    "# Case folding --> Lower case\n",
    "descriptions = [word.lower() for word in descriptions]\n",
    "comments = [word.lower() for word in comments]\n",
    "\n",
    "# Removing stop words \n",
    "stopwords = set(nltk.corpus.stopwords.words('english'))\n",
    "descriptions = [word for word in descriptions if word not in stopwords]\n",
    "comments = [word for word in comments if word not in stopwords]\n",
    "\n",
    "# Removing numbers \n",
    "descriptions = [word for word in descriptions if not word.isnumeric()]\n",
    "comments = [word for word in comments if not word.isnumeric()]"
   ]
  },
  {
   "cell_type": "markdown",
   "id": "bfcab5ab",
   "metadata": {},
   "source": [
    " #### 6. Find top-10 tokens again."
   ]
  },
  {
   "cell_type": "code",
   "execution_count": 23,
   "id": "5130b0c7",
   "metadata": {},
   "outputs": [],
   "source": [
    "freq_descriptions = nltk.FreqDist(descriptions)\n",
    "freq_comments = nltk.FreqDist(comments)"
   ]
  },
  {
   "cell_type": "code",
   "execution_count": 24,
   "id": "50d71e10",
   "metadata": {},
   "outputs": [
    {
     "data": {
      "text/plain": [
       "[('maintained', 84906),\n",
       " ('food', 84250),\n",
       " ('properly', 68557),\n",
       " ('clean', 66986),\n",
       " ('constructed', 66117),\n",
       " ('equipment', 64360),\n",
       " ('installed', 64359),\n",
       " ('cleaning', 48233),\n",
       " ('surfaces', 48187),\n",
       " ('contact', 45194)]"
      ]
     },
     "execution_count": 24,
     "metadata": {},
     "output_type": "execute_result"
    }
   ],
   "source": [
    "top_10_desc_clean = freq_descriptions.most_common(10)\n",
    "top_10_desc_clean"
   ]
  },
  {
   "cell_type": "code",
   "execution_count": 25,
   "id": "996e666f",
   "metadata": {},
   "outputs": [
    {
     "data": {
      "text/plain": [
       "[('observed', 82267),\n",
       " ('food', 74980),\n",
       " ('area', 54993),\n",
       " ('must', 45612),\n",
       " ('prep', 45303),\n",
       " ('sink', 39837),\n",
       " ('clean', 38649),\n",
       " ('shall', 34977),\n",
       " ('storage', 32280),\n",
       " ('floor', 28223)]"
      ]
     },
     "execution_count": 25,
     "metadata": {},
     "output_type": "execute_result"
    }
   ],
   "source": [
    "top_10_comm_clean = freq_comments.most_common(10)\n",
    "top_10_comm_clean"
   ]
  },
  {
   "cell_type": "markdown",
   "id": "293a94de",
   "metadata": {},
   "source": [
    " #### 7. Find top-10 tokens after applying Porter stemming to the columns obtained in step 5."
   ]
  },
  {
   "cell_type": "code",
   "execution_count": 26,
   "id": "8a31ea72",
   "metadata": {},
   "outputs": [],
   "source": [
    "porter = nltk.PorterStemmer()"
   ]
  },
  {
   "cell_type": "code",
   "execution_count": 27,
   "id": "064ca03e",
   "metadata": {},
   "outputs": [],
   "source": [
    "porter_descriptions = [porter.stem(word) for word in descriptions]\n",
    "porter_comments = [porter.stem(word) for word in comments]"
   ]
  },
  {
   "cell_type": "code",
   "execution_count": 28,
   "id": "881d0058",
   "metadata": {},
   "outputs": [],
   "source": [
    "freq_descriptions = nltk.FreqDist(porter_descriptions)\n",
    "freq_comments = nltk.FreqDist(porter_comments)"
   ]
  },
  {
   "cell_type": "code",
   "execution_count": 29,
   "id": "e9ce2fce",
   "metadata": {},
   "outputs": [
    {
     "data": {
      "text/plain": [
       "[('clean', 141204),\n",
       " ('food', 88683),\n",
       " ('maintain', 88528),\n",
       " ('properli', 68557),\n",
       " ('construct', 66118),\n",
       " ('instal', 64371),\n",
       " ('equip', 64360),\n",
       " ('surfac', 48204),\n",
       " ('contact', 45194),\n",
       " ('method', 40936)]"
      ]
     },
     "execution_count": 29,
     "metadata": {},
     "output_type": "execute_result"
    }
   ],
   "source": [
    "top_10_desc_porter = freq_descriptions.most_common(10)\n",
    "top_10_desc_porter"
   ]
  },
  {
   "cell_type": "code",
   "execution_count": 30,
   "id": "60fb26e0",
   "metadata": {},
   "outputs": [
    {
     "data": {
      "text/plain": [
       "[('food', 85764),\n",
       " ('observ', 82576),\n",
       " ('area', 68826),\n",
       " ('clean', 56809),\n",
       " ('sink', 47641),\n",
       " ('must', 45613),\n",
       " ('prep', 45544),\n",
       " ('floor', 43340),\n",
       " ('shall', 34977),\n",
       " ('storag', 32318)]"
      ]
     },
     "execution_count": 30,
     "metadata": {},
     "output_type": "execute_result"
    }
   ],
   "source": [
    "top_10_comm_porter = freq_comments.most_common(10)\n",
    "top_10_comm_porter"
   ]
  },
  {
   "cell_type": "markdown",
   "id": "d8cc4fb0",
   "metadata": {},
   "source": [
    " #### 8. Find top-10 tokens after applying Lancaster stemming to the columns obtained in step 5."
   ]
  },
  {
   "cell_type": "code",
   "execution_count": 31,
   "id": "62b086b1",
   "metadata": {},
   "outputs": [],
   "source": [
    "lancaster = nltk.LancasterStemmer()"
   ]
  },
  {
   "cell_type": "code",
   "execution_count": 32,
   "id": "a5591a6b",
   "metadata": {},
   "outputs": [],
   "source": [
    "lancaster_descriptions = [lancaster.stem(word) for word in descriptions]\n",
    "lancaster_comments = [lancaster.stem(word) for word in comments]"
   ]
  },
  {
   "cell_type": "code",
   "execution_count": 33,
   "id": "9fc3a346",
   "metadata": {},
   "outputs": [],
   "source": [
    "freq_descriptions = nltk.FreqDist(lancaster_descriptions)\n",
    "freq_comments = nltk.FreqDist(lancaster_comments)"
   ]
  },
  {
   "cell_type": "code",
   "execution_count": 34,
   "id": "0f88bb4c",
   "metadata": {},
   "outputs": [
    {
     "data": {
      "text/plain": [
       "[('cle', 149033),\n",
       " ('food', 88683),\n",
       " ('maintain', 88528),\n",
       " ('prop', 84848),\n",
       " ('construct', 66118),\n",
       " ('instal', 64371),\n",
       " ('equip', 64360),\n",
       " ('surfac', 48204),\n",
       " ('contact', 45194),\n",
       " ('method', 40936)]"
      ]
     },
     "execution_count": 34,
     "metadata": {},
     "output_type": "execute_result"
    }
   ],
   "source": [
    "top_10_desc_lanc = freq_descriptions.most_common(10)\n",
    "top_10_desc_lanc"
   ]
  },
  {
   "cell_type": "code",
   "execution_count": 35,
   "id": "92990be3",
   "metadata": {},
   "outputs": [
    {
     "data": {
      "text/plain": [
       "[('food', 85765),\n",
       " ('observ', 82576),\n",
       " ('cle', 61103),\n",
       " ('prep', 55718),\n",
       " ('are', 54993),\n",
       " ('stor', 51422),\n",
       " ('sink', 47643),\n",
       " ('must', 45614),\n",
       " ('flo', 43894),\n",
       " ('shal', 34981)]"
      ]
     },
     "execution_count": 35,
     "metadata": {},
     "output_type": "execute_result"
    }
   ],
   "source": [
    "top_10_comm_lanc = freq_comments.most_common(10)\n",
    "top_10_comm_lanc"
   ]
  },
  {
   "cell_type": "markdown",
   "id": "d2bfbfed",
   "metadata": {},
   "source": [
    " #### 9. Find top-10 tokens after applying lemmatization to the columns obtained in step 5."
   ]
  },
  {
   "cell_type": "code",
   "execution_count": 36,
   "id": "06cca499",
   "metadata": {},
   "outputs": [],
   "source": [
    "wnl = nltk.WordNetLemmatizer()"
   ]
  },
  {
   "cell_type": "code",
   "execution_count": 37,
   "id": "d54264e7",
   "metadata": {},
   "outputs": [],
   "source": [
    "wnl_descriptions = [wnl.lemmatize(word) for word in descriptions]\n",
    "wnl_comments = [wnl.lemmatize(word) for word in comments]"
   ]
  },
  {
   "cell_type": "code",
   "execution_count": 38,
   "id": "5e29bfbd",
   "metadata": {},
   "outputs": [],
   "source": [
    "freq_descriptions = nltk.FreqDist(wnl_descriptions)\n",
    "freq_comments = nltk.FreqDist(wnl_comments)"
   ]
  },
  {
   "cell_type": "code",
   "execution_count": 39,
   "id": "6c07d233",
   "metadata": {},
   "outputs": [
    {
     "data": {
      "text/plain": [
       "[('food', 88683),\n",
       " ('maintained', 84906),\n",
       " ('properly', 68557),\n",
       " ('clean', 66986),\n",
       " ('constructed', 66117),\n",
       " ('equipment', 64360),\n",
       " ('installed', 64359),\n",
       " ('cleaning', 48233),\n",
       " ('surface', 48204),\n",
       " ('contact', 45194)]"
      ]
     },
     "execution_count": 39,
     "metadata": {},
     "output_type": "execute_result"
    }
   ],
   "source": [
    "top_10_desc_lemm = freq_descriptions.most_common(10)\n",
    "top_10_desc_lemm"
   ]
  },
  {
   "cell_type": "code",
   "execution_count": 40,
   "id": "f0b68a23",
   "metadata": {},
   "outputs": [
    {
     "data": {
      "text/plain": [
       "[('food', 85764),\n",
       " ('observed', 82267),\n",
       " ('area', 68826),\n",
       " ('sink', 47640),\n",
       " ('must', 45613),\n",
       " ('prep', 45305),\n",
       " ('floor', 43196),\n",
       " ('clean', 38651),\n",
       " ('shall', 34977),\n",
       " ('storage', 32314)]"
      ]
     },
     "execution_count": 40,
     "metadata": {},
     "output_type": "execute_result"
    }
   ],
   "source": [
    "top_10_comm_lemm = freq_comments.most_common(10)\n",
    "top_10_comm_lemm"
   ]
  },
  {
   "cell_type": "markdown",
   "id": "1543ed4c",
   "metadata": {},
   "source": [
    " #### 10, Compare top-10 tokens obtained in 4, 6, 7, 8, 9."
   ]
  },
  {
   "cell_type": "code",
   "execution_count": 41,
   "id": "58f84cf5",
   "metadata": {},
   "outputs": [
    {
     "data": {
      "text/html": [
       "<div>\n",
       "<style scoped>\n",
       "    .dataframe tbody tr th:only-of-type {\n",
       "        vertical-align: middle;\n",
       "    }\n",
       "\n",
       "    .dataframe tbody tr th {\n",
       "        vertical-align: top;\n",
       "    }\n",
       "\n",
       "    .dataframe thead th {\n",
       "        text-align: right;\n",
       "    }\n",
       "</style>\n",
       "<table border=\"1\" class=\"dataframe\">\n",
       "  <thead>\n",
       "    <tr style=\"text-align: right;\">\n",
       "      <th></th>\n",
       "      <th>4</th>\n",
       "      <th>6</th>\n",
       "      <th>7</th>\n",
       "      <th>8</th>\n",
       "      <th>9</th>\n",
       "    </tr>\n",
       "  </thead>\n",
       "  <tbody>\n",
       "    <tr>\n",
       "      <th>0</th>\n",
       "      <td>(,, 656770)</td>\n",
       "      <td>(maintained, 84906)</td>\n",
       "      <td>(clean, 141204)</td>\n",
       "      <td>(cle, 149033)</td>\n",
       "      <td>(food, 88683)</td>\n",
       "    </tr>\n",
       "    <tr>\n",
       "      <th>1</th>\n",
       "      <td>(AND, 169625)</td>\n",
       "      <td>(food, 84250)</td>\n",
       "      <td>(food, 88683)</td>\n",
       "      <td>(food, 88683)</td>\n",
       "      <td>(maintained, 84906)</td>\n",
       "    </tr>\n",
       "    <tr>\n",
       "      <th>2</th>\n",
       "      <td>(:, 126037)</td>\n",
       "      <td>(properly, 68557)</td>\n",
       "      <td>(maintain, 88528)</td>\n",
       "      <td>(maintain, 88528)</td>\n",
       "      <td>(properly, 68557)</td>\n",
       "    </tr>\n",
       "    <tr>\n",
       "      <th>3</th>\n",
       "      <td>(MAINTAINED, 84905)</td>\n",
       "      <td>(clean, 66986)</td>\n",
       "      <td>(properli, 68557)</td>\n",
       "      <td>(prop, 84848)</td>\n",
       "      <td>(clean, 66986)</td>\n",
       "    </tr>\n",
       "    <tr>\n",
       "      <th>4</th>\n",
       "      <td>(FOOD, 84250)</td>\n",
       "      <td>(constructed, 66117)</td>\n",
       "      <td>(construct, 66118)</td>\n",
       "      <td>(construct, 66118)</td>\n",
       "      <td>(constructed, 66117)</td>\n",
       "    </tr>\n",
       "    <tr>\n",
       "      <th>5</th>\n",
       "      <td>(PROPERLY, 68557)</td>\n",
       "      <td>(equipment, 64360)</td>\n",
       "      <td>(instal, 64371)</td>\n",
       "      <td>(instal, 64371)</td>\n",
       "      <td>(equipment, 64360)</td>\n",
       "    </tr>\n",
       "    <tr>\n",
       "      <th>6</th>\n",
       "      <td>(CLEAN, 66985)</td>\n",
       "      <td>(installed, 64359)</td>\n",
       "      <td>(equip, 64360)</td>\n",
       "      <td>(equip, 64360)</td>\n",
       "      <td>(installed, 64359)</td>\n",
       "    </tr>\n",
       "    <tr>\n",
       "      <th>7</th>\n",
       "      <td>(&amp;, 66839)</td>\n",
       "      <td>(cleaning, 48233)</td>\n",
       "      <td>(surfac, 48204)</td>\n",
       "      <td>(surfac, 48204)</td>\n",
       "      <td>(cleaning, 48233)</td>\n",
       "    </tr>\n",
       "    <tr>\n",
       "      <th>8</th>\n",
       "      <td>(CONSTRUCTED, 66117)</td>\n",
       "      <td>(surfaces, 48187)</td>\n",
       "      <td>(contact, 45194)</td>\n",
       "      <td>(contact, 45194)</td>\n",
       "      <td>(surface, 48204)</td>\n",
       "    </tr>\n",
       "    <tr>\n",
       "      <th>9</th>\n",
       "      <td>(INSTALLED, 64359)</td>\n",
       "      <td>(contact, 45194)</td>\n",
       "      <td>(method, 40936)</td>\n",
       "      <td>(method, 40936)</td>\n",
       "      <td>(contact, 45194)</td>\n",
       "    </tr>\n",
       "  </tbody>\n",
       "</table>\n",
       "</div>"
      ],
      "text/plain": [
       "                      4                     6                   7  \\\n",
       "0           (,, 656770)   (maintained, 84906)     (clean, 141204)   \n",
       "1         (AND, 169625)         (food, 84250)       (food, 88683)   \n",
       "2           (:, 126037)     (properly, 68557)   (maintain, 88528)   \n",
       "3   (MAINTAINED, 84905)        (clean, 66986)   (properli, 68557)   \n",
       "4         (FOOD, 84250)  (constructed, 66117)  (construct, 66118)   \n",
       "5     (PROPERLY, 68557)    (equipment, 64360)     (instal, 64371)   \n",
       "6        (CLEAN, 66985)    (installed, 64359)      (equip, 64360)   \n",
       "7            (&, 66839)     (cleaning, 48233)     (surfac, 48204)   \n",
       "8  (CONSTRUCTED, 66117)     (surfaces, 48187)    (contact, 45194)   \n",
       "9    (INSTALLED, 64359)      (contact, 45194)     (method, 40936)   \n",
       "\n",
       "                    8                     9  \n",
       "0       (cle, 149033)         (food, 88683)  \n",
       "1       (food, 88683)   (maintained, 84906)  \n",
       "2   (maintain, 88528)     (properly, 68557)  \n",
       "3       (prop, 84848)        (clean, 66986)  \n",
       "4  (construct, 66118)  (constructed, 66117)  \n",
       "5     (instal, 64371)    (equipment, 64360)  \n",
       "6      (equip, 64360)    (installed, 64359)  \n",
       "7     (surfac, 48204)     (cleaning, 48233)  \n",
       "8    (contact, 45194)      (surface, 48204)  \n",
       "9     (method, 40936)      (contact, 45194)  "
      ]
     },
     "execution_count": 41,
     "metadata": {},
     "output_type": "execute_result"
    }
   ],
   "source": [
    "# Description Tokens Comparison\n",
    "desc_comparision = pd.DataFrame({\"4\": top_10_desc, \"6\": top_10_desc_clean, \"7\":top_10_desc_porter, \"8\":top_10_desc_lanc, \"9\":top_10_desc_lemm})\n",
    "desc_comparision"
   ]
  },
  {
   "cell_type": "code",
   "execution_count": 42,
   "id": "c097b50b",
   "metadata": {},
   "outputs": [
    {
     "data": {
      "text/html": [
       "<div>\n",
       "<style scoped>\n",
       "    .dataframe tbody tr th:only-of-type {\n",
       "        vertical-align: middle;\n",
       "    }\n",
       "\n",
       "    .dataframe tbody tr th {\n",
       "        vertical-align: top;\n",
       "    }\n",
       "\n",
       "    .dataframe thead th {\n",
       "        text-align: right;\n",
       "    }\n",
       "</style>\n",
       "<table border=\"1\" class=\"dataframe\">\n",
       "  <thead>\n",
       "    <tr style=\"text-align: right;\">\n",
       "      <th></th>\n",
       "      <th>4</th>\n",
       "      <th>6</th>\n",
       "      <th>7</th>\n",
       "      <th>8</th>\n",
       "      <th>9</th>\n",
       "    </tr>\n",
       "  </thead>\n",
       "  <tbody>\n",
       "    <tr>\n",
       "      <th>0</th>\n",
       "      <td>(,, 453205)</td>\n",
       "      <td>(observed, 82267)</td>\n",
       "      <td>(food, 85764)</td>\n",
       "      <td>(food, 85765)</td>\n",
       "      <td>(food, 85764)</td>\n",
       "    </tr>\n",
       "    <tr>\n",
       "      <th>1</th>\n",
       "      <td>(THE, 126140)</td>\n",
       "      <td>(food, 74980)</td>\n",
       "      <td>(observ, 82576)</td>\n",
       "      <td>(observ, 82576)</td>\n",
       "      <td>(observed, 82267)</td>\n",
       "    </tr>\n",
       "    <tr>\n",
       "      <th>2</th>\n",
       "      <td>(AND, 121811)</td>\n",
       "      <td>(area, 54993)</td>\n",
       "      <td>(area, 68826)</td>\n",
       "      <td>(cle, 61103)</td>\n",
       "      <td>(area, 68826)</td>\n",
       "    </tr>\n",
       "    <tr>\n",
       "      <th>3</th>\n",
       "      <td>(IN, 117598)</td>\n",
       "      <td>(must, 45612)</td>\n",
       "      <td>(clean, 56809)</td>\n",
       "      <td>(prep, 55718)</td>\n",
       "      <td>(sink, 47640)</td>\n",
       "    </tr>\n",
       "    <tr>\n",
       "      <th>4</th>\n",
       "      <td>(OBSERVED, 79734)</td>\n",
       "      <td>(prep, 45303)</td>\n",
       "      <td>(sink, 47641)</td>\n",
       "      <td>(are, 54993)</td>\n",
       "      <td>(must, 45613)</td>\n",
       "    </tr>\n",
       "    <tr>\n",
       "      <th>5</th>\n",
       "      <td>(and, 70135)</td>\n",
       "      <td>(sink, 39837)</td>\n",
       "      <td>(must, 45613)</td>\n",
       "      <td>(stor, 51422)</td>\n",
       "      <td>(prep, 45305)</td>\n",
       "    </tr>\n",
       "    <tr>\n",
       "      <th>6</th>\n",
       "      <td>(OF, 69570)</td>\n",
       "      <td>(clean, 38649)</td>\n",
       "      <td>(prep, 45544)</td>\n",
       "      <td>(sink, 47643)</td>\n",
       "      <td>(floor, 43196)</td>\n",
       "    </tr>\n",
       "    <tr>\n",
       "      <th>7</th>\n",
       "      <td>(ON, 66670)</td>\n",
       "      <td>(shall, 34977)</td>\n",
       "      <td>(floor, 43340)</td>\n",
       "      <td>(must, 45614)</td>\n",
       "      <td>(clean, 38651)</td>\n",
       "    </tr>\n",
       "    <tr>\n",
       "      <th>8</th>\n",
       "      <td>(AREA, 52268)</td>\n",
       "      <td>(storage, 32280)</td>\n",
       "      <td>(shall, 34977)</td>\n",
       "      <td>(flo, 43894)</td>\n",
       "      <td>(shall, 34977)</td>\n",
       "    </tr>\n",
       "    <tr>\n",
       "      <th>9</th>\n",
       "      <td>(FOOD, 48630)</td>\n",
       "      <td>(floor, 28223)</td>\n",
       "      <td>(storag, 32318)</td>\n",
       "      <td>(shal, 34981)</td>\n",
       "      <td>(storage, 32314)</td>\n",
       "    </tr>\n",
       "  </tbody>\n",
       "</table>\n",
       "</div>"
      ],
      "text/plain": [
       "                   4                  6                7                8  \\\n",
       "0        (,, 453205)  (observed, 82267)    (food, 85764)    (food, 85765)   \n",
       "1      (THE, 126140)      (food, 74980)  (observ, 82576)  (observ, 82576)   \n",
       "2      (AND, 121811)      (area, 54993)    (area, 68826)     (cle, 61103)   \n",
       "3       (IN, 117598)      (must, 45612)   (clean, 56809)    (prep, 55718)   \n",
       "4  (OBSERVED, 79734)      (prep, 45303)    (sink, 47641)     (are, 54993)   \n",
       "5       (and, 70135)      (sink, 39837)    (must, 45613)    (stor, 51422)   \n",
       "6        (OF, 69570)     (clean, 38649)    (prep, 45544)    (sink, 47643)   \n",
       "7        (ON, 66670)     (shall, 34977)   (floor, 43340)    (must, 45614)   \n",
       "8      (AREA, 52268)   (storage, 32280)   (shall, 34977)     (flo, 43894)   \n",
       "9      (FOOD, 48630)     (floor, 28223)  (storag, 32318)    (shal, 34981)   \n",
       "\n",
       "                   9  \n",
       "0      (food, 85764)  \n",
       "1  (observed, 82267)  \n",
       "2      (area, 68826)  \n",
       "3      (sink, 47640)  \n",
       "4      (must, 45613)  \n",
       "5      (prep, 45305)  \n",
       "6     (floor, 43196)  \n",
       "7     (clean, 38651)  \n",
       "8     (shall, 34977)  \n",
       "9   (storage, 32314)  "
      ]
     },
     "execution_count": 42,
     "metadata": {},
     "output_type": "execute_result"
    }
   ],
   "source": [
    "# Comment Tokens Comparison\n",
    "comm_comparision = pd.DataFrame({\"4\": top_10_comm, \"6\": top_10_comm_clean, \"7\":top_10_comm_porter, \"8\":top_10_comm_lanc,\"9\":top_10_comm_lemm})\n",
    "comm_comparision"
   ]
  },
  {
   "cell_type": "markdown",
   "id": "b200649b",
   "metadata": {},
   "source": [
    " #### 11. Describe which approach provided the most comprehensive view of violations / comments and why."
   ]
  },
  {
   "cell_type": "markdown",
   "id": "51e82a2f",
   "metadata": {},
   "source": [
    "After evaluating various text preprocessing techniques on the food inspection dataset, such as uncleaned tokens, it is lemmatization that produced the most comprehensive and accurate results. As you can see from the table above, lemmatization a complete list of comprehensible tokens unlike the stemming techniques. Lemmatization was able to group together variations of the same word, reducing them to their base form, and thus providing a clearer understanding of the context. However, it is computationally expensive. \n",
    "\n",
    "Note: For this dataset, it was observed that the results obtained from the tokenizer after simply cleaning the data were quite similar to the results produced by lemmatization. Therefore, if we want to optimize for computational costs, we can utilize the tokenizer's output after cleaning the data, instead of applying the lemmatization technique. "
   ]
  },
  {
   "cell_type": "markdown",
   "id": "88b4d633",
   "metadata": {},
   "source": [
    " #### 12. Use the \"most effective\" cleaning approach to plot the distribution of most common tokens (belonging to violation description) over time."
   ]
  },
  {
   "cell_type": "markdown",
   "id": "d3c47f3a",
   "metadata": {},
   "source": [
    "For the purposes of this question, we'll utilize the token reuslts from lemmatization."
   ]
  },
  {
   "cell_type": "code",
   "execution_count": 43,
   "id": "5ff86820",
   "metadata": {},
   "outputs": [
    {
     "data": {
      "text/html": [
       "<div>\n",
       "<style scoped>\n",
       "    .dataframe tbody tr th:only-of-type {\n",
       "        vertical-align: middle;\n",
       "    }\n",
       "\n",
       "    .dataframe tbody tr th {\n",
       "        vertical-align: top;\n",
       "    }\n",
       "\n",
       "    .dataframe thead th {\n",
       "        text-align: right;\n",
       "    }\n",
       "</style>\n",
       "<table border=\"1\" class=\"dataframe\">\n",
       "  <thead>\n",
       "    <tr style=\"text-align: right;\">\n",
       "      <th></th>\n",
       "      <th>Inspection Date</th>\n",
       "      <th>Description</th>\n",
       "      <th>Comments</th>\n",
       "    </tr>\n",
       "  </thead>\n",
       "  <tbody>\n",
       "    <tr>\n",
       "      <th>0</th>\n",
       "      <td>03/23/2023</td>\n",
       "      <td>[[INSECTS, RODENTS, &amp; ANIMALS NOT PRESENT], [T...</td>\n",
       "      <td>[[OBSERVED NO CURRENT PEST CONTROL LOGBOOK], [...</td>\n",
       "    </tr>\n",
       "    <tr>\n",
       "      <th>1</th>\n",
       "      <td>03/16/2023</td>\n",
       "      <td>[[INSECTS, RODENTS, &amp; ANIMALS NOT PRESENT], [I...</td>\n",
       "      <td>[[OBSERVED SMALL ROOM ADJACENT TO KITCHEN WITH...</td>\n",
       "    </tr>\n",
       "    <tr>\n",
       "      <th>2</th>\n",
       "      <td>03/01/2023</td>\n",
       "      <td>[[PERSON IN CHARGE PRESENT, DEMONSTRATES KNOWL...</td>\n",
       "      <td>[[PIC HAS A COPY OF CITY FOOD MANAGERS CERTIFI...</td>\n",
       "    </tr>\n",
       "    <tr>\n",
       "      <th>3</th>\n",
       "      <td>02/27/2023</td>\n",
       "      <td>[[PERSON IN CHARGE PRESENT, DEMONSTRATES KNOWL...</td>\n",
       "      <td>[[THE PERSON IN CHARGE DURING THE INSPECTION D...</td>\n",
       "    </tr>\n",
       "    <tr>\n",
       "      <th>4</th>\n",
       "      <td>02/27/2023</td>\n",
       "      <td>[[], [CITY OF CHICAGO FOOD SERVICE SANITATION ...</td>\n",
       "      <td>[[], [No certified food service manager on sit...</td>\n",
       "    </tr>\n",
       "  </tbody>\n",
       "</table>\n",
       "</div>"
      ],
      "text/plain": [
       "  Inspection Date                                        Description  \\\n",
       "0      03/23/2023  [[INSECTS, RODENTS, & ANIMALS NOT PRESENT], [T...   \n",
       "1      03/16/2023  [[INSECTS, RODENTS, & ANIMALS NOT PRESENT], [I...   \n",
       "2      03/01/2023  [[PERSON IN CHARGE PRESENT, DEMONSTRATES KNOWL...   \n",
       "3      02/27/2023  [[PERSON IN CHARGE PRESENT, DEMONSTRATES KNOWL...   \n",
       "4      02/27/2023  [[], [CITY OF CHICAGO FOOD SERVICE SANITATION ...   \n",
       "\n",
       "                                            Comments  \n",
       "0  [[OBSERVED NO CURRENT PEST CONTROL LOGBOOK], [...  \n",
       "1  [[OBSERVED SMALL ROOM ADJACENT TO KITCHEN WITH...  \n",
       "2  [[PIC HAS A COPY OF CITY FOOD MANAGERS CERTIFI...  \n",
       "3  [[THE PERSON IN CHARGE DURING THE INSPECTION D...  \n",
       "4  [[], [No certified food service manager on sit...  "
      ]
     },
     "execution_count": 43,
     "metadata": {},
     "output_type": "execute_result"
    }
   ],
   "source": [
    "df = df.reset_index(drop = True)\n",
    "df.head()"
   ]
  },
  {
   "cell_type": "code",
   "execution_count": 44,
   "id": "aa5afa82",
   "metadata": {},
   "outputs": [],
   "source": [
    "df['Inspection Date'] = pd.to_datetime(df['Inspection Date'])\n",
    "df['Year'] = df['Inspection Date'].dt.year\n",
    "df = df.drop('Inspection Date', axis=1)"
   ]
  },
  {
   "cell_type": "code",
   "execution_count": 45,
   "id": "12caa322",
   "metadata": {},
   "outputs": [],
   "source": [
    "df_desc = df[['Year', 'Description']] "
   ]
  },
  {
   "cell_type": "code",
   "execution_count": 46,
   "id": "94d9eed7",
   "metadata": {},
   "outputs": [],
   "source": [
    "df_desc = df_desc.explode('Description').explode('Description')"
   ]
  },
  {
   "cell_type": "code",
   "execution_count": 47,
   "id": "7a51ce52",
   "metadata": {},
   "outputs": [
    {
     "data": {
      "text/html": [
       "<div>\n",
       "<style scoped>\n",
       "    .dataframe tbody tr th:only-of-type {\n",
       "        vertical-align: middle;\n",
       "    }\n",
       "\n",
       "    .dataframe tbody tr th {\n",
       "        vertical-align: top;\n",
       "    }\n",
       "\n",
       "    .dataframe thead th {\n",
       "        text-align: right;\n",
       "    }\n",
       "</style>\n",
       "<table border=\"1\" class=\"dataframe\">\n",
       "  <thead>\n",
       "    <tr style=\"text-align: right;\">\n",
       "      <th></th>\n",
       "      <th>Year</th>\n",
       "      <th>Description</th>\n",
       "    </tr>\n",
       "  </thead>\n",
       "  <tbody>\n",
       "    <tr>\n",
       "      <th>0</th>\n",
       "      <td>2023</td>\n",
       "      <td>INSECTS, RODENTS, &amp; ANIMALS NOT PRESENT</td>\n",
       "    </tr>\n",
       "    <tr>\n",
       "      <th>1</th>\n",
       "      <td>2023</td>\n",
       "      <td>TOILET FACILITIES: PROPERLY CONSTRUCTED, SUPPL...</td>\n",
       "    </tr>\n",
       "    <tr>\n",
       "      <th>2</th>\n",
       "      <td>2023</td>\n",
       "      <td>INSECTS, RODENTS, &amp; ANIMALS NOT PRESENT</td>\n",
       "    </tr>\n",
       "    <tr>\n",
       "      <th>3</th>\n",
       "      <td>2023</td>\n",
       "      <td>INSECTS, RODENTS, &amp; ANIMALS NOT PRESENT</td>\n",
       "    </tr>\n",
       "    <tr>\n",
       "      <th>4</th>\n",
       "      <td>2023</td>\n",
       "      <td>INSECTS, RODENTS, &amp; ANIMALS NOT PRESENT</td>\n",
       "    </tr>\n",
       "    <tr>\n",
       "      <th>...</th>\n",
       "      <td>...</td>\n",
       "      <td>...</td>\n",
       "    </tr>\n",
       "    <tr>\n",
       "      <th>299694</th>\n",
       "      <td>2010</td>\n",
       "      <td>FOOD AND NON-FOOD CONTACT EQUIPMENT UTENSILS C...</td>\n",
       "    </tr>\n",
       "    <tr>\n",
       "      <th>299695</th>\n",
       "      <td>2010</td>\n",
       "      <td>FLOORS: CONSTRUCTED PER CODE, CLEANED, GOOD RE...</td>\n",
       "    </tr>\n",
       "    <tr>\n",
       "      <th>299696</th>\n",
       "      <td>2010</td>\n",
       "      <td>WALLS, CEILINGS, ATTACHED EQUIPMENT CONSTRUCTE...</td>\n",
       "    </tr>\n",
       "    <tr>\n",
       "      <th>299697</th>\n",
       "      <td>2010</td>\n",
       "      <td>VENTILATION: ROOMS AND EQUIPMENT VENTED AS REQ...</td>\n",
       "    </tr>\n",
       "    <tr>\n",
       "      <th>299698</th>\n",
       "      <td>2010</td>\n",
       "      <td>REFRIGERATION AND METAL STEM THERMOMETERS PROV...</td>\n",
       "    </tr>\n",
       "  </tbody>\n",
       "</table>\n",
       "<p>299699 rows × 2 columns</p>\n",
       "</div>"
      ],
      "text/plain": [
       "        Year                                        Description\n",
       "0       2023            INSECTS, RODENTS, & ANIMALS NOT PRESENT\n",
       "1       2023  TOILET FACILITIES: PROPERLY CONSTRUCTED, SUPPL...\n",
       "2       2023            INSECTS, RODENTS, & ANIMALS NOT PRESENT\n",
       "3       2023            INSECTS, RODENTS, & ANIMALS NOT PRESENT\n",
       "4       2023            INSECTS, RODENTS, & ANIMALS NOT PRESENT\n",
       "...      ...                                                ...\n",
       "299694  2010  FOOD AND NON-FOOD CONTACT EQUIPMENT UTENSILS C...\n",
       "299695  2010  FLOORS: CONSTRUCTED PER CODE, CLEANED, GOOD RE...\n",
       "299696  2010  WALLS, CEILINGS, ATTACHED EQUIPMENT CONSTRUCTE...\n",
       "299697  2010  VENTILATION: ROOMS AND EQUIPMENT VENTED AS REQ...\n",
       "299698  2010  REFRIGERATION AND METAL STEM THERMOMETERS PROV...\n",
       "\n",
       "[299699 rows x 2 columns]"
      ]
     },
     "execution_count": 47,
     "metadata": {},
     "output_type": "execute_result"
    }
   ],
   "source": [
    "df_desc.reset_index(drop = True)"
   ]
  },
  {
   "cell_type": "code",
   "execution_count": 50,
   "id": "f1d2d0be",
   "metadata": {},
   "outputs": [],
   "source": [
    "tokenizer = nltk.tokenize.word_tokenize\n",
    "df_desc['Tokens'] = df_desc['Description'].apply(tokenizer)"
   ]
  },
  {
   "cell_type": "code",
   "execution_count": 51,
   "id": "4f86afc5",
   "metadata": {},
   "outputs": [
    {
     "data": {
      "text/html": [
       "<div>\n",
       "<style scoped>\n",
       "    .dataframe tbody tr th:only-of-type {\n",
       "        vertical-align: middle;\n",
       "    }\n",
       "\n",
       "    .dataframe tbody tr th {\n",
       "        vertical-align: top;\n",
       "    }\n",
       "\n",
       "    .dataframe thead th {\n",
       "        text-align: right;\n",
       "    }\n",
       "</style>\n",
       "<table border=\"1\" class=\"dataframe\">\n",
       "  <thead>\n",
       "    <tr style=\"text-align: right;\">\n",
       "      <th></th>\n",
       "      <th>Year</th>\n",
       "      <th>Description</th>\n",
       "      <th>Tokens</th>\n",
       "    </tr>\n",
       "  </thead>\n",
       "  <tbody>\n",
       "    <tr>\n",
       "      <th>0</th>\n",
       "      <td>2023</td>\n",
       "      <td>INSECTS, RODENTS, &amp; ANIMALS NOT PRESENT</td>\n",
       "      <td>INSECTS</td>\n",
       "    </tr>\n",
       "    <tr>\n",
       "      <th>0</th>\n",
       "      <td>2023</td>\n",
       "      <td>INSECTS, RODENTS, &amp; ANIMALS NOT PRESENT</td>\n",
       "      <td>,</td>\n",
       "    </tr>\n",
       "    <tr>\n",
       "      <th>0</th>\n",
       "      <td>2023</td>\n",
       "      <td>INSECTS, RODENTS, &amp; ANIMALS NOT PRESENT</td>\n",
       "      <td>RODENTS</td>\n",
       "    </tr>\n",
       "    <tr>\n",
       "      <th>0</th>\n",
       "      <td>2023</td>\n",
       "      <td>INSECTS, RODENTS, &amp; ANIMALS NOT PRESENT</td>\n",
       "      <td>,</td>\n",
       "    </tr>\n",
       "    <tr>\n",
       "      <th>0</th>\n",
       "      <td>2023</td>\n",
       "      <td>INSECTS, RODENTS, &amp; ANIMALS NOT PRESENT</td>\n",
       "      <td>&amp;</td>\n",
       "    </tr>\n",
       "    <tr>\n",
       "      <th>0</th>\n",
       "      <td>2023</td>\n",
       "      <td>INSECTS, RODENTS, &amp; ANIMALS NOT PRESENT</td>\n",
       "      <td>ANIMALS</td>\n",
       "    </tr>\n",
       "    <tr>\n",
       "      <th>0</th>\n",
       "      <td>2023</td>\n",
       "      <td>INSECTS, RODENTS, &amp; ANIMALS NOT PRESENT</td>\n",
       "      <td>NOT</td>\n",
       "    </tr>\n",
       "    <tr>\n",
       "      <th>0</th>\n",
       "      <td>2023</td>\n",
       "      <td>INSECTS, RODENTS, &amp; ANIMALS NOT PRESENT</td>\n",
       "      <td>PRESENT</td>\n",
       "    </tr>\n",
       "    <tr>\n",
       "      <th>0</th>\n",
       "      <td>2023</td>\n",
       "      <td>TOILET FACILITIES: PROPERLY CONSTRUCTED, SUPPL...</td>\n",
       "      <td>TOILET</td>\n",
       "    </tr>\n",
       "    <tr>\n",
       "      <th>0</th>\n",
       "      <td>2023</td>\n",
       "      <td>TOILET FACILITIES: PROPERLY CONSTRUCTED, SUPPL...</td>\n",
       "      <td>FACILITIES</td>\n",
       "    </tr>\n",
       "  </tbody>\n",
       "</table>\n",
       "</div>"
      ],
      "text/plain": [
       "   Year                                        Description      Tokens\n",
       "0  2023            INSECTS, RODENTS, & ANIMALS NOT PRESENT     INSECTS\n",
       "0  2023            INSECTS, RODENTS, & ANIMALS NOT PRESENT           ,\n",
       "0  2023            INSECTS, RODENTS, & ANIMALS NOT PRESENT     RODENTS\n",
       "0  2023            INSECTS, RODENTS, & ANIMALS NOT PRESENT           ,\n",
       "0  2023            INSECTS, RODENTS, & ANIMALS NOT PRESENT           &\n",
       "0  2023            INSECTS, RODENTS, & ANIMALS NOT PRESENT     ANIMALS\n",
       "0  2023            INSECTS, RODENTS, & ANIMALS NOT PRESENT         NOT\n",
       "0  2023            INSECTS, RODENTS, & ANIMALS NOT PRESENT     PRESENT\n",
       "0  2023  TOILET FACILITIES: PROPERLY CONSTRUCTED, SUPPL...      TOILET\n",
       "0  2023  TOILET FACILITIES: PROPERLY CONSTRUCTED, SUPPL...  FACILITIES"
      ]
     },
     "execution_count": 51,
     "metadata": {},
     "output_type": "execute_result"
    }
   ],
   "source": [
    "df_desc = df_desc.explode('Tokens')\n",
    "df_desc.head(10)"
   ]
  },
  {
   "cell_type": "code",
   "execution_count": 54,
   "id": "cf21d486",
   "metadata": {},
   "outputs": [],
   "source": [
    "# Case folding --> Lower case\n",
    "df_desc['Tokens'] = df_desc['Tokens'].apply(lambda x: x.lower())\n",
    "\n",
    "# Removing punctuation\n",
    "df_desc['Tokens'] = df_desc['Tokens'].apply(lambda x: x if x.isalpha() else '')\n",
    "\n",
    "# Removing single-character tokens (mostly punctuation and determiner 'a')\n",
    "df_desc['Tokens'] = df_desc['Tokens'].apply(lambda x: x if len(x) > 1 else '')\n",
    "\n",
    "# Removing stop words \n",
    "df_desc['Tokens'] = df_desc['Tokens'].apply(lambda x: x if x not in stopwords else '')\n",
    "\n",
    "# Removing numbers \n",
    "df_desc['Tokens'] = df_desc['Tokens'].apply(lambda x: x if not x.isnumeric() else '')"
   ]
  },
  {
   "cell_type": "code",
   "execution_count": 55,
   "id": "8c473201",
   "metadata": {},
   "outputs": [],
   "source": [
    "df_desc = df_desc[df_desc['Tokens'] != '']"
   ]
  },
  {
   "cell_type": "code",
   "execution_count": 56,
   "id": "36cdb223",
   "metadata": {},
   "outputs": [],
   "source": [
    "df_desc['desc_lemm'] = df_desc['Tokens'].apply(lambda x: wnl.lemmatize(x))"
   ]
  },
  {
   "cell_type": "code",
   "execution_count": 86,
   "id": "64b970fc",
   "metadata": {},
   "outputs": [],
   "source": [
    "# Making another dataframe as backup\n",
    "final = df_desc[['Year', 'desc_lemm']]"
   ]
  },
  {
   "cell_type": "code",
   "execution_count": 88,
   "id": "e74a20de",
   "metadata": {},
   "outputs": [
    {
     "data": {
      "text/html": [
       "<div>\n",
       "<style scoped>\n",
       "    .dataframe tbody tr th:only-of-type {\n",
       "        vertical-align: middle;\n",
       "    }\n",
       "\n",
       "    .dataframe tbody tr th {\n",
       "        vertical-align: top;\n",
       "    }\n",
       "\n",
       "    .dataframe thead th {\n",
       "        text-align: right;\n",
       "    }\n",
       "</style>\n",
       "<table border=\"1\" class=\"dataframe\">\n",
       "  <thead>\n",
       "    <tr style=\"text-align: right;\">\n",
       "      <th></th>\n",
       "      <th>Year</th>\n",
       "      <th>desc_lemm</th>\n",
       "    </tr>\n",
       "  </thead>\n",
       "  <tbody>\n",
       "    <tr>\n",
       "      <th>0</th>\n",
       "      <td>2023</td>\n",
       "      <td>insect</td>\n",
       "    </tr>\n",
       "    <tr>\n",
       "      <th>1</th>\n",
       "      <td>2023</td>\n",
       "      <td>rodent</td>\n",
       "    </tr>\n",
       "    <tr>\n",
       "      <th>2</th>\n",
       "      <td>2023</td>\n",
       "      <td>animal</td>\n",
       "    </tr>\n",
       "    <tr>\n",
       "      <th>3</th>\n",
       "      <td>2023</td>\n",
       "      <td>present</td>\n",
       "    </tr>\n",
       "    <tr>\n",
       "      <th>4</th>\n",
       "      <td>2023</td>\n",
       "      <td>toilet</td>\n",
       "    </tr>\n",
       "    <tr>\n",
       "      <th>5</th>\n",
       "      <td>2023</td>\n",
       "      <td>facility</td>\n",
       "    </tr>\n",
       "    <tr>\n",
       "      <th>6</th>\n",
       "      <td>2023</td>\n",
       "      <td>properly</td>\n",
       "    </tr>\n",
       "    <tr>\n",
       "      <th>7</th>\n",
       "      <td>2023</td>\n",
       "      <td>constructed</td>\n",
       "    </tr>\n",
       "    <tr>\n",
       "      <th>8</th>\n",
       "      <td>2023</td>\n",
       "      <td>supplied</td>\n",
       "    </tr>\n",
       "    <tr>\n",
       "      <th>9</th>\n",
       "      <td>2023</td>\n",
       "      <td>cleaned</td>\n",
       "    </tr>\n",
       "  </tbody>\n",
       "</table>\n",
       "</div>"
      ],
      "text/plain": [
       "   Year    desc_lemm\n",
       "0  2023       insect\n",
       "1  2023       rodent\n",
       "2  2023       animal\n",
       "3  2023      present\n",
       "4  2023       toilet\n",
       "5  2023     facility\n",
       "6  2023     properly\n",
       "7  2023  constructed\n",
       "8  2023     supplied\n",
       "9  2023      cleaned"
      ]
     },
     "execution_count": 88,
     "metadata": {},
     "output_type": "execute_result"
    }
   ],
   "source": [
    "final.head(10).reset_index(drop = True)"
   ]
  },
  {
   "cell_type": "code",
   "execution_count": 77,
   "id": "af98ccc8",
   "metadata": {},
   "outputs": [],
   "source": [
    "final = final.groupby(['Year', 'desc_lemm'])['desc_lemm'].count()"
   ]
  },
  {
   "cell_type": "code",
   "execution_count": 78,
   "id": "0c9baffb",
   "metadata": {},
   "outputs": [],
   "source": [
    "top_10_tokens = final.groupby('Year').nlargest(10).reset_index(level = 0, drop = True)\n",
    "top_10_tokens = top_10_tokens.to_frame().rename(columns = {'desc_lemm':'count'}).reset_index()\n",
    "top_10_tokens = top_10_tokens.pivot(index ='Year', columns ='desc_lemm',values='count')"
   ]
  },
  {
   "cell_type": "code",
   "execution_count": 84,
   "id": "9c8d740e",
   "metadata": {},
   "outputs": [
    {
     "data": {
      "text/plain": [
       "Text(0, 0.5, 'Count')"
      ]
     },
     "execution_count": 84,
     "metadata": {},
     "output_type": "execute_result"
    },
    {
     "data": {
      "image/png": "[encoded data removed]",
      "text/plain": [
       "<Figure size 1440x1080 with 1 Axes>"
      ]
     },
     "metadata": {},
     "output_type": "display_data"
    }
   ],
   "source": [
    "ax = top_10_tokens.plot(kind='bar', stacked = True, figsize=(20,15), color = my_palette)\n",
    "ax.legend(bbox_to_anchor = (1,1), loc = 'upper right')\n",
    "ax.set_title('10 Most Common Tokens (belonging to violation description) Over Time')\n",
    "ax.set_xlabel('Year')\n",
    "ax.set_ylabel('Count')"
   ]
  },
  {
   "cell_type": "code",
   "execution_count": null,
   "id": "1d19d44b",
   "metadata": {},
   "outputs": [],
   "source": []
  }
 ],
 "metadata": {
  "kernelspec": {
   "display_name": "Python 3 (ipykernel)",
   "language": "python",
   "name": "python3"
  },
  "language_info": {
   "codemirror_mode": {
    "name": "ipython",
    "version": 3
   },
   "file_extension": ".py",
   "mimetype": "text/x-python",
   "name": "python",
   "nbconvert_exporter": "python",
   "pygments_lexer": "ipython3",
   "version": "3.9.12"
  }
 },
 "nbformat": 4,
 "nbformat_minor": 5
}
