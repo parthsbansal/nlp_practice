{
 "cells": [
  {
   "cell_type": "markdown",
   "metadata": {},
   "source": [
    "# NLP Class Assignment 3"
   ]
  },
  {
   "cell_type": "code",
   "execution_count": 1,
   "metadata": {},
   "outputs": [],
   "source": [
    "import nltk.corpus  \n",
    "from nltk.text import Text\n",
    "import pandas as pd\n",
    "import numpy as np\n",
    "import matplotlib.pyplot as plt\n",
    "import seaborn as sns\n",
    "import re\n",
    "import sys\n",
    "import warnings\n",
    "from nltk.corpus import stopwords\n",
    "from nltk.util import ngrams\n",
    "from sklearn.metrics import jaccard_score\n",
    "from itertools import combinations\n",
    "warnings.filterwarnings('ignore')\n",
    "\n",
    "pd.set_option('display.max_rows', 100)\n",
    "pd.set_option('display.max_columns', None)\n",
    "pd.set_option('display.max_colwidth', 500)"
   ]
  },
  {
   "cell_type": "markdown",
   "metadata": {},
   "source": [
    "## Part 01: News Articles (news_df) Similarity"
   ]
  },
  {
   "cell_type": "markdown",
   "metadata": {},
   "source": [
    "#### Read news data"
   ]
  },
  {
   "cell_type": "code",
   "execution_count": 2,
   "metadata": {},
   "outputs": [
    {
     "name": "stdout",
     "output_type": "stream",
     "text": [
      "Sample contains 1,018 news articles\n"
     ]
    },
    {
     "data": {
      "text/html": [
       "<div>\n",
       "<style scoped>\n",
       "    .dataframe tbody tr th:only-of-type {\n",
       "        vertical-align: middle;\n",
       "    }\n",
       "\n",
       "    .dataframe tbody tr th {\n",
       "        vertical-align: top;\n",
       "    }\n",
       "\n",
       "    .dataframe thead th {\n",
       "        text-align: right;\n",
       "    }\n",
       "</style>\n",
       "<table border=\"1\" class=\"dataframe\">\n",
       "  <thead>\n",
       "    <tr style=\"text-align: right;\">\n",
       "      <th></th>\n",
       "      <th>url</th>\n",
       "      <th>date</th>\n",
       "      <th>language</th>\n",
       "      <th>title</th>\n",
       "      <th>text</th>\n",
       "    </tr>\n",
       "  </thead>\n",
       "  <tbody>\n",
       "    <tr>\n",
       "      <th>0</th>\n",
       "      <td>https://auto.hindustantimes.com/lml-bikes/dealers/bodh-gaya</td>\n",
       "      <td>2022-01-21</td>\n",
       "      <td>en</td>\n",
       "      <td>Lml Bikes Car Dealers - Lml Bikes Showrooms in India</td>\n",
       "      <td>Lml Bikes Car Dealers - Lml Bikes Showrooms in India Explore  Friday, 21 January 2022 Log in/Sign up SearchNotificationsTop SectionsAuto NewsCar NewsBike NewsLatestAuto NewsPhotosVideosElectric VehiclesTrendingMy ReadsOffersnewFind carsFind bikesCompare carsCompare bikesEMI calculatorDealersExplore AutoAbout UsContact UsSITEMAPRSSTerms of UsePrivacy PolicyCopyright © HT Media Limited All rights reserved.HomeOffersnewFind carsFind bikesCompare carsCompare bikesEMI calculatorDealersCar NewsBik...</td>\n",
       "    </tr>\n",
       "    <tr>\n",
       "      <th>1</th>\n",
       "      <td>https://auto.hindustantimes.com/pure-ev-bikes/dealers/avadi</td>\n",
       "      <td>2022-01-21</td>\n",
       "      <td>en</td>\n",
       "      <td>Pure Ev Bikes Car Dealers - Pure Ev Bikes Showrooms in India</td>\n",
       "      <td>Pure Ev Bikes Car Dealers - Pure Ev Bikes Showrooms in India Explore  Friday, 21 January 2022 Log in/Sign up SearchNotificationsTop SectionsAuto NewsCar NewsBike NewsLatestAuto NewsPhotosVideosElectric VehiclesTrendingMy ReadsOffersnewFind carsFind bikesCompare carsCompare bikesEMI calculatorDealersExplore AutoAbout UsContact UsSITEMAPRSSTerms of UsePrivacy PolicyCopyright © HT Media Limited All rights reserved.HomeOffersnewFind carsFind bikesCompare carsCompare bikesEMI calculatorDealersCar...</td>\n",
       "    </tr>\n",
       "  </tbody>\n",
       "</table>\n",
       "</div>"
      ],
      "text/plain": [
       "                                                           url       date  \\\n",
       "0  https://auto.hindustantimes.com/lml-bikes/dealers/bodh-gaya 2022-01-21   \n",
       "1  https://auto.hindustantimes.com/pure-ev-bikes/dealers/avadi 2022-01-21   \n",
       "\n",
       "  language                                                         title  \\\n",
       "0       en          Lml Bikes Car Dealers - Lml Bikes Showrooms in India   \n",
       "1       en  Pure Ev Bikes Car Dealers - Pure Ev Bikes Showrooms in India   \n",
       "\n",
       "                                                                                                                                                                                                                                                                                                                                                                                                                                                                                                                  text  \n",
       "0  Lml Bikes Car Dealers - Lml Bikes Showrooms in India Explore  Friday, 21 January 2022 Log in/Sign up SearchNotificationsTop SectionsAuto NewsCar NewsBike NewsLatestAuto NewsPhotosVideosElectric VehiclesTrendingMy ReadsOffersnewFind carsFind bikesCompare carsCompare bikesEMI calculatorDealersExplore AutoAbout UsContact UsSITEMAPRSSTerms of UsePrivacy PolicyCopyright © HT Media Limited All rights reserved.HomeOffersnewFind carsFind bikesCompare carsCompare bikesEMI calculatorDealersCar NewsBik...  \n",
       "1  Pure Ev Bikes Car Dealers - Pure Ev Bikes Showrooms in India Explore  Friday, 21 January 2022 Log in/Sign up SearchNotificationsTop SectionsAuto NewsCar NewsBike NewsLatestAuto NewsPhotosVideosElectric VehiclesTrendingMy ReadsOffersnewFind carsFind bikesCompare carsCompare bikesEMI calculatorDealersExplore AutoAbout UsContact UsSITEMAPRSSTerms of UsePrivacy PolicyCopyright © HT Media Limited All rights reserved.HomeOffersnewFind carsFind bikesCompare carsCompare bikesEMI calculatorDealersCar...  "
      ]
     },
     "execution_count": 2,
     "metadata": {},
     "output_type": "execute_result"
    }
   ],
   "source": [
    "news_path = 'https://storage.googleapis.com/msca-bdp-data-open/news/nlp_a_3_news.json'\n",
    "news_df = pd.read_json(news_path, orient='records', lines=True)\n",
    "\n",
    "print(f'Sample contains {news_df.shape[0]:,.0f} news articles')\n",
    "news_df.head(2)"
   ]
  },
  {
   "cell_type": "code",
   "execution_count": 4,
   "metadata": {},
   "outputs": [
    {
     "data": {
      "text/plain": [
       "(1018, 5)"
      ]
     },
     "execution_count": 4,
     "metadata": {},
     "output_type": "execute_result"
    }
   ],
   "source": [
    "news_df.shape"
   ]
  },
  {
   "cell_type": "code",
   "execution_count": 5,
   "metadata": {},
   "outputs": [
    {
     "data": {
      "text/plain": [
       "url         0\n",
       "date        0\n",
       "language    0\n",
       "title       0\n",
       "text        0\n",
       "dtype: int64"
      ]
     },
     "execution_count": 5,
     "metadata": {},
     "output_type": "execute_result"
    }
   ],
   "source": [
    "news_df.isna().sum()"
   ]
  },
  {
   "cell_type": "code",
   "execution_count": 6,
   "metadata": {},
   "outputs": [
    {
     "data": {
      "text/plain": [
       "1"
      ]
     },
     "execution_count": 6,
     "metadata": {},
     "output_type": "execute_result"
    }
   ],
   "source": [
    "# Making sure that there are only english language articles \n",
    "news_df['language'].nunique()"
   ]
  },
  {
   "cell_type": "code",
   "execution_count": 7,
   "metadata": {},
   "outputs": [
    {
     "name": "stdout",
     "output_type": "stream",
     "text": [
      "67.0 , 4704.5\n"
     ]
    }
   ],
   "source": [
    "# Checking median lenght of titles and texts\n",
    "med_length_title = news_df['title'].apply(lambda x: len(x)).median()\n",
    "med_length_text = news_df['text'].apply(lambda x: len(x)).median()\n",
    "print(med_length_title, ',', med_length_text)"
   ]
  },
  {
   "cell_type": "markdown",
   "metadata": {},
   "source": [
    "### The decision to use only the title or text or both to determine if articles are similar depends on the context. \n",
    "\n",
    "While it is  possible to use only the titles of the articles to calculate their Jacquard similarity, this approach may not be ideal in many cases. The reason for this is that the title of an article is usually a brief summary of its contents, it may be duplicative, and it may not capture all the important information contained in the text of the article. Using only the titles to calculate the Jacquard similarity between the articles could result in an inaccurate or incomplete measure of their similarity. For example, two articles may have very different titles, but they could still have a significant amount of overlapping content in their main text. Conversely, the articles with very similar titles may actually be quite different in terms of their content and meaning. Also, media agencies use bombastic langauge with a lot of exaggertions in thier titles to capture their audiences' attenion. Therefore, I believe it is better to use text of articles when calculating Jacquard similarity. I did not use text + title beacuse the titles usually appear in the text of articles. "
   ]
  },
  {
   "cell_type": "code",
   "execution_count": 8,
   "metadata": {},
   "outputs": [],
   "source": [
    "news_df['text_tokens'] = news_df['text'].apply(lambda x: nltk.tokenize.word_tokenize(x.lower()))"
   ]
  },
  {
   "cell_type": "code",
   "execution_count": 9,
   "metadata": {},
   "outputs": [],
   "source": [
    "# Remove stopwords from both the columns\n",
    "stopwords = set(nltk.corpus.stopwords.words('english'))\n",
    "news_df['text_tokens'] = news_df['text_tokens'].apply(lambda x: [word for word in x if word not in stopwords])\n",
    "\n",
    "# Remove single-character tokens (mostly punctuation)\n",
    "news_df['text_tokens'] = news_df['text_tokens'].apply(lambda x: [word for word in x if len(word) > 1])\n",
    "\n",
    "# Remove punctuation\n",
    "news_df['text_tokens'] = news_df['text_tokens'].apply(lambda x: [word for word in x if word.isalpha()])\n",
    "# Remove numbers\n",
    "news_df['text_tokens']= news_df['text_tokens'].apply(lambda x: [word for word in x if not word.isnumeric()])"
   ]
  },
  {
   "cell_type": "code",
   "execution_count": 10,
   "metadata": {},
   "outputs": [],
   "source": [
    "# Lemmatizing text\n",
    "wnl = nltk.WordNetLemmatizer()\n",
    "news_df['text_tokens'] = news_df['text_tokens'].apply(lambda x: [wnl.lemmatize(word) for word in x])"
   ]
  },
  {
   "cell_type": "code",
   "execution_count": 11,
   "metadata": {},
   "outputs": [
    {
     "data": {
      "text/html": [
       "<div>\n",
       "<style scoped>\n",
       "    .dataframe tbody tr th:only-of-type {\n",
       "        vertical-align: middle;\n",
       "    }\n",
       "\n",
       "    .dataframe tbody tr th {\n",
       "        vertical-align: top;\n",
       "    }\n",
       "\n",
       "    .dataframe thead th {\n",
       "        text-align: right;\n",
       "    }\n",
       "</style>\n",
       "<table border=\"1\" class=\"dataframe\">\n",
       "  <thead>\n",
       "    <tr style=\"text-align: right;\">\n",
       "      <th></th>\n",
       "      <th>text_tokens</th>\n",
       "    </tr>\n",
       "  </thead>\n",
       "  <tbody>\n",
       "    <tr>\n",
       "      <th>528</th>\n",
       "      <td>[breaking, electric, picnic, announced, leinster, story, photo, video, send, u, leinster, leader, website, newspaper, please, contact, editorial, team, email, news, leaderhttps, ussponsored, contentepapercontributesearchhomelocal, newsnational, newssportbusinessjobswhats, u, newsadvertise, ussponsored, contentepapercontributecontact, mar, homelocal, newssportnational, newsbusinessjobswhats, onkeep, latest, news, business, event, sport, latest, news, business, event, sport, need, support, ple...</td>\n",
       "    </tr>\n",
       "    <tr>\n",
       "      <th>914</th>\n",
       "      <td>[safe, flow, dominate, king, dollar, reign, german, zew, expectation, level, skip, main, content, trending, usdcad, trending, usdcad, get, app, newsletter, menu, show, navigation, fxstreet, fxstreet, forex, market, home, rate, chart, live, chart, forecast, poll, rate, table, technical, level, technical, confluence, detector, dollar, index, gold, oil, news, forex, news, institutional, research, dollar, index, commodity, bond, equity, analysis, latest, analysis, dollar, index, oil, gold, stock...</td>\n",
       "    </tr>\n",
       "  </tbody>\n",
       "</table>\n",
       "</div>"
      ],
      "text/plain": [
       "                                                                                                                                                                                                                                                                                                                                                                                                                                                                                                             text_tokens\n",
       "528  [breaking, electric, picnic, announced, leinster, story, photo, video, send, u, leinster, leader, website, newspaper, please, contact, editorial, team, email, news, leaderhttps, ussponsored, contentepapercontributesearchhomelocal, newsnational, newssportbusinessjobswhats, u, newsadvertise, ussponsored, contentepapercontributecontact, mar, homelocal, newssportnational, newsbusinessjobswhats, onkeep, latest, news, business, event, sport, latest, news, business, event, sport, need, support, ple...\n",
       "914  [safe, flow, dominate, king, dollar, reign, german, zew, expectation, level, skip, main, content, trending, usdcad, trending, usdcad, get, app, newsletter, menu, show, navigation, fxstreet, fxstreet, forex, market, home, rate, chart, live, chart, forecast, poll, rate, table, technical, level, technical, confluence, detector, dollar, index, gold, oil, news, forex, news, institutional, research, dollar, index, commodity, bond, equity, analysis, latest, analysis, dollar, index, oil, gold, stock..."
      ]
     },
     "execution_count": 11,
     "metadata": {},
     "output_type": "execute_result"
    }
   ],
   "source": [
    "news_df[['text_tokens']].sample(2, random_state = 42)"
   ]
  },
  {
   "cell_type": "code",
   "execution_count": 12,
   "metadata": {},
   "outputs": [
    {
     "data": {
      "text/plain": [
       "398.0"
      ]
     },
     "execution_count": 12,
     "metadata": {},
     "output_type": "execute_result"
    }
   ],
   "source": [
    "# Median lenght of text tokens (earlier it was 4704.5)\n",
    "med_length_text = news_df['text_tokens'].apply(lambda x: len(x)).median()\n",
    "med_length_text"
   ]
  },
  {
   "cell_type": "markdown",
   "metadata": {},
   "source": [
    "#### To choose optimal n, I will calculate average jaccard distance for varying n, and plot n vs average jaccard. The plot will facilitate the choosing of the inflection point which will determine what n to use."
   ]
  },
  {
   "cell_type": "code",
   "execution_count": 13,
   "metadata": {},
   "outputs": [],
   "source": [
    "# Choosing a raneg from 4-9 beacuse anything lesser than 4 will result in many similar\n",
    "for i in range(4, 10):\n",
    "    news_df[f'{i} grams'] = news_df['text_tokens'].apply(lambda x: set(nltk.ngrams(x, i)))"
   ]
  },
  {
   "cell_type": "code",
   "execution_count": 14,
   "metadata": {},
   "outputs": [
    {
     "data": {
      "text/html": [
       "<div>\n",
       "<style scoped>\n",
       "    .dataframe tbody tr th:only-of-type {\n",
       "        vertical-align: middle;\n",
       "    }\n",
       "\n",
       "    .dataframe tbody tr th {\n",
       "        vertical-align: top;\n",
       "    }\n",
       "\n",
       "    .dataframe thead th {\n",
       "        text-align: right;\n",
       "    }\n",
       "</style>\n",
       "<table border=\"1\" class=\"dataframe\">\n",
       "  <thead>\n",
       "    <tr style=\"text-align: right;\">\n",
       "      <th></th>\n",
       "      <th>url</th>\n",
       "      <th>date</th>\n",
       "      <th>language</th>\n",
       "      <th>title</th>\n",
       "      <th>text</th>\n",
       "      <th>text_tokens</th>\n",
       "      <th>4 grams</th>\n",
       "      <th>5 grams</th>\n",
       "      <th>6 grams</th>\n",
       "      <th>7 grams</th>\n",
       "      <th>8 grams</th>\n",
       "      <th>9 grams</th>\n",
       "    </tr>\n",
       "  </thead>\n",
       "  <tbody>\n",
       "    <tr>\n",
       "      <th>0</th>\n",
       "      <td>https://auto.hindustantimes.com/lml-bikes/dealers/bodh-gaya</td>\n",
       "      <td>2022-01-21</td>\n",
       "      <td>en</td>\n",
       "      <td>Lml Bikes Car Dealers - Lml Bikes Showrooms in India</td>\n",
       "      <td>Lml Bikes Car Dealers - Lml Bikes Showrooms in India Explore  Friday, 21 January 2022 Log in/Sign up SearchNotificationsTop SectionsAuto NewsCar NewsBike NewsLatestAuto NewsPhotosVideosElectric VehiclesTrendingMy ReadsOffersnewFind carsFind bikesCompare carsCompare bikesEMI calculatorDealersExplore AutoAbout UsContact UsSITEMAPRSSTerms of UsePrivacy PolicyCopyright © HT Media Limited All rights reserved.HomeOffersnewFind carsFind bikesCompare carsCompare bikesEMI calculatorDealersCar NewsBik...</td>\n",
       "      <td>[lml, bike, car, dealer, lml, bike, showroom, india, explore, friday, january, log, searchnotificationstop, sectionsauto, newscar, newsbike, newslatestauto, newsphotosvideoselectric, vehiclestrendingmy, readsoffersnewfind, carsfind, bikescompare, carscompare, bikesemi, calculatordealersexplore, autoabout, uscontact, ussitemaprssterms, useprivacy, policycopyright, ht, medium, limited, right, carsfind, bikescompare, carscompare, bikesemi, calculatordealerscar, newsbike, newslatestauto, newspho...</td>\n",
       "      <td>{(bodh, gayasearch, car, dealer), (detail, choose, choose, citychoose), (ussitemaprssterms, useprivacy, policycopyright, ht), (latest, offersadd, comparemaruti, suzuki), (cc, petrol, lakh, onwardscheck), (showroom, indialml, bike, car), (take, continue, session, expired), (vehiclestrendingmy, readsoffersnewfind, carsfind, bikescompare), (clicking, view, offer, agree), (onwardsget, priceadd, comparehelp, u), (offer, agree, term, privacy), (lml, bike, showroom, india), (bikesemi, calculatordea...</td>\n",
       "      <td>{(manual, lakh, onwardscheck, latest, offersadd), (vehiclestrendingmy, read, home, find, car), (session, expired, please, login, continue), (newsphotosvideoselectric, vehiclestrendingmy, readsoffersnewfind, carsfind, bikescompare), (medium, limited, right, carsfind, bikescompare), (cityenter, otpcould, verify, otp, either), (lakh, onwardsget, priceadd, comparemaruti, suzuki), (suzuki, cc, petrol, manual, lakh), (onwardscheck, latest, offersadd, comparerenault, cc), (basic, detail, choose, ch...</td>\n",
       "      <td>{(agree, term, privacy, policyview, offersdear, nameplease), (near, lml, bike, dealer, found, bodh), (dealer, showroom, bodh, gayasearch, car, dealer), (bikesemi, calculatordealerscar, newsbike, newslatestauto, newsphotosvideoselectric, vehiclestrendingmy), (offer, agree, term, privacy, policyview, offersdear), (term, privacy, policyview, offersdear, nameplease, verify), (lakh, onwardsget, priceadd, comparemaruti, suzuki, cc), (onwardscheck, latest, offersadd, comparemaruti, suzuki, vitara),...</td>\n",
       "      <td>{(view, offer, agree, term, privacy, policyview, offersdear), (lml, bike, showroom, india, explore, friday, january), (vitara, cc, petrol, manual, lakh, onwardscheck, latest), (onwardsget, priceadd, comparehelp, u, basic, detail, choose), (cc, petrol, lakh, onwardsget, priceadd, comparehonda, new), (comparerenault, cc, petrol, lakh, onwardscheck, latest, offersadd), (onwardscheck, latest, offersadd, comparehyundai, cc, petrol, manual), (onwardsget, priceadd, comparehonda, new, cc, petrol, ma...</td>\n",
       "      <td>{(priceadd, comparehelp, u, basic, detail, choose, choose, citychoose), (lml, bike, car, dealer, lml, bike, showroom, india), (lakh, onwardsget, priceadd, comparehelp, u, basic, detail, choose), (save, bookmark, take, continue, session, expired, please, login), (newsphotosvideoselectric, vehiclestrendingmy, readsoffersnewfind, carsfind, bikescompare, carscompare, bikesemi, calculatordealersexplore), (comparemaruti, suzuki, cc, petrol, manual, lakh, onwardscheck, latest), (ussitemaprssterms, ...</td>\n",
       "      <td>{(cc, petrol, manual, lakh, onwardsget, priceadd, comparemahindra, cc, petrol), (lakh, onwardscheck, latest, offersadd, comparehyundai, cc, petrol, manual, lakh), (policyview, offersdear, nameplease, verify, mobile, choose, cityenter, otpcould, verify), (comparetata, cc, petrol, manual, lakh, onwardscheck, latest, offersadd, comparetata), (networkserver, issueinternet, availablewait, website, save, bookmark, take, continue, session), (onwardsget, priceadd, comparemaruti, suzuki, cc, petrol, ...</td>\n",
       "    </tr>\n",
       "  </tbody>\n",
       "</table>\n",
       "</div>"
      ],
      "text/plain": [
       "                                                           url       date  \\\n",
       "0  https://auto.hindustantimes.com/lml-bikes/dealers/bodh-gaya 2022-01-21   \n",
       "\n",
       "  language                                                 title  \\\n",
       "0       en  Lml Bikes Car Dealers - Lml Bikes Showrooms in India   \n",
       "\n",
       "                                                                                                                                                                                                                                                                                                                                                                                                                                                                                                                  text  \\\n",
       "0  Lml Bikes Car Dealers - Lml Bikes Showrooms in India Explore  Friday, 21 January 2022 Log in/Sign up SearchNotificationsTop SectionsAuto NewsCar NewsBike NewsLatestAuto NewsPhotosVideosElectric VehiclesTrendingMy ReadsOffersnewFind carsFind bikesCompare carsCompare bikesEMI calculatorDealersExplore AutoAbout UsContact UsSITEMAPRSSTerms of UsePrivacy PolicyCopyright © HT Media Limited All rights reserved.HomeOffersnewFind carsFind bikesCompare carsCompare bikesEMI calculatorDealersCar NewsBik...   \n",
       "\n",
       "                                                                                                                                                                                                                                                                                                                                                                                                                                                                                                           text_tokens  \\\n",
       "0  [lml, bike, car, dealer, lml, bike, showroom, india, explore, friday, january, log, searchnotificationstop, sectionsauto, newscar, newsbike, newslatestauto, newsphotosvideoselectric, vehiclestrendingmy, readsoffersnewfind, carsfind, bikescompare, carscompare, bikesemi, calculatordealersexplore, autoabout, uscontact, ussitemaprssterms, useprivacy, policycopyright, ht, medium, limited, right, carsfind, bikescompare, carscompare, bikesemi, calculatordealerscar, newsbike, newslatestauto, newspho...   \n",
       "\n",
       "                                                                                                                                                                                                                                                                                                                                                                                                                                                                                                               4 grams  \\\n",
       "0  {(bodh, gayasearch, car, dealer), (detail, choose, choose, citychoose), (ussitemaprssterms, useprivacy, policycopyright, ht), (latest, offersadd, comparemaruti, suzuki), (cc, petrol, lakh, onwardscheck), (showroom, indialml, bike, car), (take, continue, session, expired), (vehiclestrendingmy, readsoffersnewfind, carsfind, bikescompare), (clicking, view, offer, agree), (onwardsget, priceadd, comparehelp, u), (offer, agree, term, privacy), (lml, bike, showroom, india), (bikesemi, calculatordea...   \n",
       "\n",
       "                                                                                                                                                                                                                                                                                                                                                                                                                                                                                                               5 grams  \\\n",
       "0  {(manual, lakh, onwardscheck, latest, offersadd), (vehiclestrendingmy, read, home, find, car), (session, expired, please, login, continue), (newsphotosvideoselectric, vehiclestrendingmy, readsoffersnewfind, carsfind, bikescompare), (medium, limited, right, carsfind, bikescompare), (cityenter, otpcould, verify, otp, either), (lakh, onwardsget, priceadd, comparemaruti, suzuki), (suzuki, cc, petrol, manual, lakh), (onwardscheck, latest, offersadd, comparerenault, cc), (basic, detail, choose, ch...   \n",
       "\n",
       "                                                                                                                                                                                                                                                                                                                                                                                                                                                                                                               6 grams  \\\n",
       "0  {(agree, term, privacy, policyview, offersdear, nameplease), (near, lml, bike, dealer, found, bodh), (dealer, showroom, bodh, gayasearch, car, dealer), (bikesemi, calculatordealerscar, newsbike, newslatestauto, newsphotosvideoselectric, vehiclestrendingmy), (offer, agree, term, privacy, policyview, offersdear), (term, privacy, policyview, offersdear, nameplease, verify), (lakh, onwardsget, priceadd, comparemaruti, suzuki, cc), (onwardscheck, latest, offersadd, comparemaruti, suzuki, vitara),...   \n",
       "\n",
       "                                                                                                                                                                                                                                                                                                                                                                                                                                                                                                               7 grams  \\\n",
       "0  {(view, offer, agree, term, privacy, policyview, offersdear), (lml, bike, showroom, india, explore, friday, january), (vitara, cc, petrol, manual, lakh, onwardscheck, latest), (onwardsget, priceadd, comparehelp, u, basic, detail, choose), (cc, petrol, lakh, onwardsget, priceadd, comparehonda, new), (comparerenault, cc, petrol, lakh, onwardscheck, latest, offersadd), (onwardscheck, latest, offersadd, comparehyundai, cc, petrol, manual), (onwardsget, priceadd, comparehonda, new, cc, petrol, ma...   \n",
       "\n",
       "                                                                                                                                                                                                                                                                                                                                                                                                                                                                                                               8 grams  \\\n",
       "0  {(priceadd, comparehelp, u, basic, detail, choose, choose, citychoose), (lml, bike, car, dealer, lml, bike, showroom, india), (lakh, onwardsget, priceadd, comparehelp, u, basic, detail, choose), (save, bookmark, take, continue, session, expired, please, login), (newsphotosvideoselectric, vehiclestrendingmy, readsoffersnewfind, carsfind, bikescompare, carscompare, bikesemi, calculatordealersexplore), (comparemaruti, suzuki, cc, petrol, manual, lakh, onwardscheck, latest), (ussitemaprssterms, ...   \n",
       "\n",
       "                                                                                                                                                                                                                                                                                                                                                                                                                                                                                                               9 grams  \n",
       "0  {(cc, petrol, manual, lakh, onwardsget, priceadd, comparemahindra, cc, petrol), (lakh, onwardscheck, latest, offersadd, comparehyundai, cc, petrol, manual, lakh), (policyview, offersdear, nameplease, verify, mobile, choose, cityenter, otpcould, verify), (comparetata, cc, petrol, manual, lakh, onwardscheck, latest, offersadd, comparetata), (networkserver, issueinternet, availablewait, website, save, bookmark, take, continue, session), (onwardsget, priceadd, comparemaruti, suzuki, cc, petrol, ...  "
      ]
     },
     "execution_count": 14,
     "metadata": {},
     "output_type": "execute_result"
    }
   ],
   "source": [
    "news_df.head(1)"
   ]
  },
  {
   "cell_type": "code",
   "execution_count": 15,
   "metadata": {},
   "outputs": [],
   "source": [
    "# Creating a df with all possible combination of article numbers for comparison\n",
    "jaccard = pd.DataFrame(list(combinations(range(news_df.shape[0]),2)), columns=['Article A', 'Article B'])"
   ]
  },
  {
   "cell_type": "code",
   "execution_count": 17,
   "metadata": {},
   "outputs": [],
   "source": [
    "# Computing Jaccard distance for all possble article combinations\n",
    "cols = list(news_df.columns)[6:]\n",
    "for col in cols:\n",
    "    jaccard[f'distance_{col}']= [nltk.jaccard_distance(news_df[col].iloc[x[0]], news_df[col].iloc[x[1]]) for x in n]"
   ]
  },
  {
   "cell_type": "code",
   "execution_count": 18,
   "metadata": {},
   "outputs": [
    {
     "name": "stderr",
     "output_type": "stream",
     "text": [
      "posx and posy should be finite values\n",
      "posx and posy should be finite values\n"
     ]
    },
    {
     "data": {
      "image/png": "[encoded data removed]",
      "text/plain": [
       "<Figure size 864x432 with 1 Axes>"
      ]
     },
     "metadata": {
      "needs_background": "light"
     },
     "output_type": "display_data"
    }
   ],
   "source": [
    "# Plotting a line graph to project percentage change between average jaccard values.  \n",
    "column_means = jaccard.iloc[:, 2:].mean()\n",
    "diffs = column_means.diff()\n",
    "pct_change = (diffs / column_means.shift()) * 100\n",
    "\n",
    "plt.figure(figsize=(12, 6))\n",
    "ax = sns.lineplot(data=pct_change, color='black')\n",
    "plt.title('Percentage Change in Average Jaccard N-Gram Values', fontsize=16)\n",
    "sns.scatterplot(data=pct_change, color='red', marker='o', s=80)\n",
    "\n",
    "for i, v in enumerate(pct_change):\n",
    "    ax.text(i, v, str(round(v, 2)), ha='left', va='bottom', fontsize=12)\n",
    "\n",
    "plt.show()"
   ]
  },
  {
   "cell_type": "markdown",
   "metadata": {},
   "source": [
    "### The optimal n. \n",
    "\n",
    "As mentioned earlier, to choose optimal n, I calculated the average jaccard distances for varying n, and plotted n vs average jaccard. Based on the plot of average Jaccard similarity versus n-gram size, we can see that the percentage change in average Jaccard similarity decreases beyond **n=6**. This suggests that increasing the n-gram size beyond 6 may not significantly increase the capture of Jaccard similarity between the text documents. Therefore, choosing n=6 appears to be the optimal choice for capturing Jaccard similarity in this dataset."
   ]
  },
  {
   "cell_type": "code",
   "execution_count": 34,
   "metadata": {},
   "outputs": [],
   "source": [
    "temp = jaccard"
   ]
  },
  {
   "cell_type": "code",
   "execution_count": 48,
   "metadata": {},
   "outputs": [
    {
     "data": {
      "text/html": [
       "<div>\n",
       "<style scoped>\n",
       "    .dataframe tbody tr th:only-of-type {\n",
       "        vertical-align: middle;\n",
       "    }\n",
       "\n",
       "    .dataframe tbody tr th {\n",
       "        vertical-align: top;\n",
       "    }\n",
       "\n",
       "    .dataframe thead th {\n",
       "        text-align: right;\n",
       "    }\n",
       "</style>\n",
       "<table border=\"1\" class=\"dataframe\">\n",
       "  <thead>\n",
       "    <tr style=\"text-align: right;\">\n",
       "      <th></th>\n",
       "      <th>Article A</th>\n",
       "      <th>Article B</th>\n",
       "      <th>distance_6 grams</th>\n",
       "    </tr>\n",
       "  </thead>\n",
       "  <tbody>\n",
       "    <tr>\n",
       "      <th>0</th>\n",
       "      <td>Toyota Urban Cruiser Car Discount Offers in Kulgam for March 2022 Explore  Wednesday, 16 March 2022 Log in/Sign up SearchNotificationsTop SectionsAuto NewsCar NewsBike NewsLatestAuto NewsPhotosVideosElectric VehiclesTrendingMy ReadsOffersnewFind carsFind bikesCompare carsCompare bikesEMI calculatorDealersExplore AutoAbout UsContact UsSITEMAPRSSTerms of UsePrivacy PolicyCopyright © HT Media Limited All rights reserved.HomeOffersnewFind carsFind bikesCompare carsCompare bikesEMI calculatorDeal...</td>\n",
       "      <td>Toyota Urban Cruiser Car Discount Offers in Kandhamal for March 2022 Explore  Wednesday, 16 March 2022 Log in/Sign up SearchNotificationsTop SectionsAuto NewsCar NewsBike NewsLatestAuto NewsPhotosVideosElectric VehiclesTrendingMy ReadsOffersnewFind carsFind bikesCompare carsCompare bikesEMI calculatorDealersExplore AutoAbout UsContact UsSITEMAPRSSTerms of UsePrivacy PolicyCopyright © HT Media Limited All rights reserved.HomeOffersnewFind carsFind bikesCompare carsCompare bikesEMI calculatorD...</td>\n",
       "      <td>0.014322</td>\n",
       "    </tr>\n",
       "    <tr>\n",
       "      <th>1</th>\n",
       "      <td>Toyota Urban Cruiser Car Discount Offers in Kulgam for March 2022 Explore  Wednesday, 16 March 2022 Log in/Sign up SearchNotificationsTop SectionsAuto NewsCar NewsBike NewsLatestAuto NewsPhotosVideosElectric VehiclesTrendingMy ReadsOffersnewFind carsFind bikesCompare carsCompare bikesEMI calculatorDealersExplore AutoAbout UsContact UsSITEMAPRSSTerms of UsePrivacy PolicyCopyright © HT Media Limited All rights reserved.HomeOffersnewFind carsFind bikesCompare carsCompare bikesEMI calculatorDeal...</td>\n",
       "      <td>Toyota Urban Cruiser Car Discount Offers in Jajpur Road for March 2022 Explore  Wednesday, 16 March 2022 Log in/Sign up SearchNotificationsTop SectionsAuto NewsCar NewsBike NewsLatestAuto NewsPhotosVideosElectric VehiclesTrendingMy ReadsOffersnewFind carsFind bikesCompare carsCompare bikesEMI calculatorDealersExplore AutoAbout UsContact UsSITEMAPRSSTerms of UsePrivacy PolicyCopyright © HT Media Limited All rights reserved.HomeOffersnewFind carsFind bikesCompare carsCompare bikesEMI calculato...</td>\n",
       "      <td>0.015152</td>\n",
       "    </tr>\n",
       "    <tr>\n",
       "      <th>2</th>\n",
       "      <td>Toyota Urban Cruiser Car Discount Offers in Kulgam for March 2022 Explore  Wednesday, 16 March 2022 Log in/Sign up SearchNotificationsTop SectionsAuto NewsCar NewsBike NewsLatestAuto NewsPhotosVideosElectric VehiclesTrendingMy ReadsOffersnewFind carsFind bikesCompare carsCompare bikesEMI calculatorDealersExplore AutoAbout UsContact UsSITEMAPRSSTerms of UsePrivacy PolicyCopyright © HT Media Limited All rights reserved.HomeOffersnewFind carsFind bikesCompare carsCompare bikesEMI calculatorDeal...</td>\n",
       "      <td>Toyota Urban Cruiser Car Discount Offers in Khurda Andhra Pradesh for March 2022 Explore  Wednesday, 16 March 2022 Log in/Sign up SearchNotificationsTop SectionsAuto NewsCar NewsBike NewsLatestAuto NewsPhotosVideosElectric VehiclesTrendingMy ReadsOffersnewFind carsFind bikesCompare carsCompare bikesEMI calculatorDealersExplore AutoAbout UsContact UsSITEMAPRSSTerms of UsePrivacy PolicyCopyright © HT Media Limited All rights reserved.HomeOffersnewFind carsFind bikesCompare carsCompare bikesEMI...</td>\n",
       "      <td>0.015980</td>\n",
       "    </tr>\n",
       "    <tr>\n",
       "      <th>3</th>\n",
       "      <td>Toyota Urban Cruiser Car Discount Offers in Khurda Andhra Pradesh for March 2022 Explore  Wednesday, 16 March 2022 Log in/Sign up SearchNotificationsTop SectionsAuto NewsCar NewsBike NewsLatestAuto NewsPhotosVideosElectric VehiclesTrendingMy ReadsOffersnewFind carsFind bikesCompare carsCompare bikesEMI calculatorDealersExplore AutoAbout UsContact UsSITEMAPRSSTerms of UsePrivacy PolicyCopyright © HT Media Limited All rights reserved.HomeOffersnewFind carsFind bikesCompare carsCompare bikesEMI...</td>\n",
       "      <td>Toyota Urban Cruiser Car Discount Offers in Jajpur Road for March 2022 Explore  Wednesday, 16 March 2022 Log in/Sign up SearchNotificationsTop SectionsAuto NewsCar NewsBike NewsLatestAuto NewsPhotosVideosElectric VehiclesTrendingMy ReadsOffersnewFind carsFind bikesCompare carsCompare bikesEMI calculatorDealersExplore AutoAbout UsContact UsSITEMAPRSSTerms of UsePrivacy PolicyCopyright © HT Media Limited All rights reserved.HomeOffersnewFind carsFind bikesCompare carsCompare bikesEMI calculato...</td>\n",
       "      <td>0.016807</td>\n",
       "    </tr>\n",
       "    <tr>\n",
       "      <th>4</th>\n",
       "      <td>White grizzly bear spotted in Banff National Park | CTV News             Skip to Main ContentSkip to Section LinksCTV NewsMobileCTV Live Now:                                      CTV News ChannelTRENDING CoronavirusRussia-UkraineSwedenSearchSearch CTV NewsX                                   NEWS                                                                  VIDEO                                                                  LOCAL                                                       ...</td>\n",
       "      <td>Mexico-U.S. cross-border tunnel discovered | CTV News             Skip to Main ContentSkip to Section LinksCTV NewsMobileCTV Live Now:                                      CTV News ChannelTRENDING CoronavirusRussia-UkraineSwedenSearchSearch CTV NewsX                                   NEWS                                                                  VIDEO                                                                  LOCAL                                                              ...</td>\n",
       "      <td>0.019027</td>\n",
       "    </tr>\n",
       "    <tr>\n",
       "      <th>5</th>\n",
       "      <td>Porsche Cayenne Coupe Car Discount Offers in Jamshedpur for March 2022 Explore  Wednesday, 16 March 2022 Log in/Sign up SearchNotificationsTop SectionsAuto NewsCar NewsBike NewsLatestAuto NewsPhotosVideosElectric VehiclesTrendingMy ReadsOffersnewFind carsFind bikesCompare carsCompare bikesEMI calculatorDealersExplore AutoAbout UsContact UsSITEMAPRSSTerms of UsePrivacy PolicyCopyright © HT Media Limited All rights reserved.HomeOffersnewFind carsFind bikesCompare carsCompare bikesEMI calculato...</td>\n",
       "      <td>Porsche Cayenne Car Discount Offers in Jamshedpur for March 2022 Explore  Wednesday, 16 March 2022 Log in/Sign up SearchNotificationsTop SectionsAuto NewsCar NewsBike NewsLatestAuto NewsPhotosVideosElectric VehiclesTrendingMy ReadsOffersnewFind carsFind bikesCompare carsCompare bikesEMI calculatorDealersExplore AutoAbout UsContact UsSITEMAPRSSTerms of UsePrivacy PolicyCopyright © HT Media Limited All rights reserved.HomeOffersnewFind carsFind bikesCompare carsCompare bikesEMI calculatorDeale...</td>\n",
       "      <td>0.028230</td>\n",
       "    </tr>\n",
       "    <tr>\n",
       "      <th>6</th>\n",
       "      <td>Toyota Urban Cruiser Car Discount Offers in Noorpur for March 2022 Explore  Wednesday, 16 March 2022 Log in/Sign up SearchNotificationsTop SectionsAuto NewsCar NewsBike NewsLatestAuto NewsPhotosVideosElectric VehiclesTrendingMy ReadsOffersnewFind carsFind bikesCompare carsCompare bikesEMI calculatorDealersExplore AutoAbout UsContact UsSITEMAPRSSTerms of UsePrivacy PolicyCopyright © HT Media Limited All rights reserved.HomeOffersnewFind carsFind bikesCompare carsCompare bikesEMI calculatorDea...</td>\n",
       "      <td>Toyota Urban Cruiser Car Discount Offers in Hardoi for March 2022 Explore  Wednesday, 16 March 2022 Log in/Sign up SearchNotificationsTop SectionsAuto NewsCar NewsBike NewsLatestAuto NewsPhotosVideosElectric VehiclesTrendingMy ReadsOffersnewFind carsFind bikesCompare carsCompare bikesEMI calculatorDealersExplore AutoAbout UsContact UsSITEMAPRSSTerms of UsePrivacy PolicyCopyright © HT Media Limited All rights reserved.HomeOffersnewFind carsFind bikesCompare carsCompare bikesEMI calculatorDeal...</td>\n",
       "      <td>0.048227</td>\n",
       "    </tr>\n",
       "    <tr>\n",
       "      <th>7</th>\n",
       "      <td>Toyota Urban Cruiser Car Discount Offers in Nandurbar for March 2022 Explore  Wednesday, 16 March 2022 Log in/Sign up SearchNotificationsTop SectionsAuto NewsCar NewsBike NewsLatestAuto NewsPhotosVideosElectric VehiclesTrendingMy ReadsOffersnewFind carsFind bikesCompare carsCompare bikesEMI calculatorDealersExplore AutoAbout UsContact UsSITEMAPRSSTerms of UsePrivacy PolicyCopyright © HT Media Limited All rights reserved.HomeOffersnewFind carsFind bikesCompare carsCompare bikesEMI calculatorD...</td>\n",
       "      <td>Toyota Urban Cruiser Car Discount Offers in Malsiras for March 2022 Explore  Wednesday, 16 March 2022 Log in/Sign up SearchNotificationsTop SectionsAuto NewsCar NewsBike NewsLatestAuto NewsPhotosVideosElectric VehiclesTrendingMy ReadsOffersnewFind carsFind bikesCompare carsCompare bikesEMI calculatorDealersExplore AutoAbout UsContact UsSITEMAPRSSTerms of UsePrivacy PolicyCopyright © HT Media Limited All rights reserved.HomeOffersnewFind carsFind bikesCompare carsCompare bikesEMI calculatorDe...</td>\n",
       "      <td>0.058722</td>\n",
       "    </tr>\n",
       "    <tr>\n",
       "      <th>8</th>\n",
       "      <td>Porsche Cayenne Car Discount Offers in Ahmedabad for March 2022 Explore  Wednesday, 16 March 2022 Log in/Sign up SearchNotificationsTop SectionsAuto NewsCar NewsBike NewsLatestAuto NewsPhotosVideosElectric VehiclesTrendingMy ReadsOffersnewFind carsFind bikesCompare carsCompare bikesEMI calculatorDealersExplore AutoAbout UsContact UsSITEMAPRSSTerms of UsePrivacy PolicyCopyright © HT Media Limited All rights reserved.HomeOffersnewFind carsFind bikesCompare carsCompare bikesEMI calculatorDealer...</td>\n",
       "      <td>Audi A8 L Car Discount Offers in Ahmedabad for March 2022 Explore  Sunday, 13 March 2022 Log in/Sign up SearchNotificationsTop SectionsAuto NewsCar NewsBike NewsLatestAuto NewsPhotosVideosElectric VehiclesTrendingMy ReadsOffersnewFind carsFind bikesCompare carsCompare bikesEMI calculatorDealersExplore AutoAbout UsContact UsSITEMAPRSSTerms of UsePrivacy PolicyCopyright © HT Media Limited All rights reserved.HomeOffersnewFind carsFind bikesCompare carsCompare bikesEMI calculatorDealersCar News...</td>\n",
       "      <td>0.060229</td>\n",
       "    </tr>\n",
       "    <tr>\n",
       "      <th>9</th>\n",
       "      <td>Mahindra Bolero Neo Car Discount Offers in Tirap for March 2022 Explore  Tuesday, 15 March 2022 Log in/Sign up SearchNotificationsTop SectionsAuto NewsCar NewsBike NewsLatestAuto NewsPhotosVideosElectric VehiclesTrendingMy ReadsOffersnewFind carsFind bikesCompare carsCompare bikesEMI calculatorDealersExplore AutoAbout UsContact UsSITEMAPRSSTerms of UsePrivacy PolicyCopyright © HT Media Limited All rights reserved.HomeOffersnewFind carsFind bikesCompare carsCompare bikesEMI calculatorDealersC...</td>\n",
       "      <td>Mahindra Bolero Neo Car Discount Offers in Sundergarh for March 2022 Explore  Tuesday, 15 March 2022 Log in/Sign up SearchNotificationsTop SectionsAuto NewsCar NewsBike NewsLatestAuto NewsPhotosVideosElectric VehiclesTrendingMy ReadsOffersnewFind carsFind bikesCompare carsCompare bikesEMI calculatorDealersExplore AutoAbout UsContact UsSITEMAPRSSTerms of UsePrivacy PolicyCopyright © HT Media Limited All rights reserved.HomeOffersnewFind carsFind bikesCompare carsCompare bikesEMI calculatorDea...</td>\n",
       "      <td>0.061433</td>\n",
       "    </tr>\n",
       "  </tbody>\n",
       "</table>\n",
       "</div>"
      ],
      "text/plain": [
       "                                                                                                                                                                                                                                                                                                                                                                                                                                                                                                             Article A  \\\n",
       "0  Toyota Urban Cruiser Car Discount Offers in Kulgam for March 2022 Explore  Wednesday, 16 March 2022 Log in/Sign up SearchNotificationsTop SectionsAuto NewsCar NewsBike NewsLatestAuto NewsPhotosVideosElectric VehiclesTrendingMy ReadsOffersnewFind carsFind bikesCompare carsCompare bikesEMI calculatorDealersExplore AutoAbout UsContact UsSITEMAPRSSTerms of UsePrivacy PolicyCopyright © HT Media Limited All rights reserved.HomeOffersnewFind carsFind bikesCompare carsCompare bikesEMI calculatorDeal...   \n",
       "1  Toyota Urban Cruiser Car Discount Offers in Kulgam for March 2022 Explore  Wednesday, 16 March 2022 Log in/Sign up SearchNotificationsTop SectionsAuto NewsCar NewsBike NewsLatestAuto NewsPhotosVideosElectric VehiclesTrendingMy ReadsOffersnewFind carsFind bikesCompare carsCompare bikesEMI calculatorDealersExplore AutoAbout UsContact UsSITEMAPRSSTerms of UsePrivacy PolicyCopyright © HT Media Limited All rights reserved.HomeOffersnewFind carsFind bikesCompare carsCompare bikesEMI calculatorDeal...   \n",
       "2  Toyota Urban Cruiser Car Discount Offers in Kulgam for March 2022 Explore  Wednesday, 16 March 2022 Log in/Sign up SearchNotificationsTop SectionsAuto NewsCar NewsBike NewsLatestAuto NewsPhotosVideosElectric VehiclesTrendingMy ReadsOffersnewFind carsFind bikesCompare carsCompare bikesEMI calculatorDealersExplore AutoAbout UsContact UsSITEMAPRSSTerms of UsePrivacy PolicyCopyright © HT Media Limited All rights reserved.HomeOffersnewFind carsFind bikesCompare carsCompare bikesEMI calculatorDeal...   \n",
       "3  Toyota Urban Cruiser Car Discount Offers in Khurda Andhra Pradesh for March 2022 Explore  Wednesday, 16 March 2022 Log in/Sign up SearchNotificationsTop SectionsAuto NewsCar NewsBike NewsLatestAuto NewsPhotosVideosElectric VehiclesTrendingMy ReadsOffersnewFind carsFind bikesCompare carsCompare bikesEMI calculatorDealersExplore AutoAbout UsContact UsSITEMAPRSSTerms of UsePrivacy PolicyCopyright © HT Media Limited All rights reserved.HomeOffersnewFind carsFind bikesCompare carsCompare bikesEMI...   \n",
       "4     White grizzly bear spotted in Banff National Park | CTV News             Skip to Main ContentSkip to Section LinksCTV NewsMobileCTV Live Now:                                      CTV News ChannelTRENDING CoronavirusRussia-UkraineSwedenSearchSearch CTV NewsX                                   NEWS                                                                  VIDEO                                                                  LOCAL                                                       ...   \n",
       "5  Porsche Cayenne Coupe Car Discount Offers in Jamshedpur for March 2022 Explore  Wednesday, 16 March 2022 Log in/Sign up SearchNotificationsTop SectionsAuto NewsCar NewsBike NewsLatestAuto NewsPhotosVideosElectric VehiclesTrendingMy ReadsOffersnewFind carsFind bikesCompare carsCompare bikesEMI calculatorDealersExplore AutoAbout UsContact UsSITEMAPRSSTerms of UsePrivacy PolicyCopyright © HT Media Limited All rights reserved.HomeOffersnewFind carsFind bikesCompare carsCompare bikesEMI calculato...   \n",
       "6  Toyota Urban Cruiser Car Discount Offers in Noorpur for March 2022 Explore  Wednesday, 16 March 2022 Log in/Sign up SearchNotificationsTop SectionsAuto NewsCar NewsBike NewsLatestAuto NewsPhotosVideosElectric VehiclesTrendingMy ReadsOffersnewFind carsFind bikesCompare carsCompare bikesEMI calculatorDealersExplore AutoAbout UsContact UsSITEMAPRSSTerms of UsePrivacy PolicyCopyright © HT Media Limited All rights reserved.HomeOffersnewFind carsFind bikesCompare carsCompare bikesEMI calculatorDea...   \n",
       "7  Toyota Urban Cruiser Car Discount Offers in Nandurbar for March 2022 Explore  Wednesday, 16 March 2022 Log in/Sign up SearchNotificationsTop SectionsAuto NewsCar NewsBike NewsLatestAuto NewsPhotosVideosElectric VehiclesTrendingMy ReadsOffersnewFind carsFind bikesCompare carsCompare bikesEMI calculatorDealersExplore AutoAbout UsContact UsSITEMAPRSSTerms of UsePrivacy PolicyCopyright © HT Media Limited All rights reserved.HomeOffersnewFind carsFind bikesCompare carsCompare bikesEMI calculatorD...   \n",
       "8  Porsche Cayenne Car Discount Offers in Ahmedabad for March 2022 Explore  Wednesday, 16 March 2022 Log in/Sign up SearchNotificationsTop SectionsAuto NewsCar NewsBike NewsLatestAuto NewsPhotosVideosElectric VehiclesTrendingMy ReadsOffersnewFind carsFind bikesCompare carsCompare bikesEMI calculatorDealersExplore AutoAbout UsContact UsSITEMAPRSSTerms of UsePrivacy PolicyCopyright © HT Media Limited All rights reserved.HomeOffersnewFind carsFind bikesCompare carsCompare bikesEMI calculatorDealer...   \n",
       "9  Mahindra Bolero Neo Car Discount Offers in Tirap for March 2022 Explore  Tuesday, 15 March 2022 Log in/Sign up SearchNotificationsTop SectionsAuto NewsCar NewsBike NewsLatestAuto NewsPhotosVideosElectric VehiclesTrendingMy ReadsOffersnewFind carsFind bikesCompare carsCompare bikesEMI calculatorDealersExplore AutoAbout UsContact UsSITEMAPRSSTerms of UsePrivacy PolicyCopyright © HT Media Limited All rights reserved.HomeOffersnewFind carsFind bikesCompare carsCompare bikesEMI calculatorDealersC...   \n",
       "\n",
       "                                                                                                                                                                                                                                                                                                                                                                                                                                                                                                             Article B  \\\n",
       "0  Toyota Urban Cruiser Car Discount Offers in Kandhamal for March 2022 Explore  Wednesday, 16 March 2022 Log in/Sign up SearchNotificationsTop SectionsAuto NewsCar NewsBike NewsLatestAuto NewsPhotosVideosElectric VehiclesTrendingMy ReadsOffersnewFind carsFind bikesCompare carsCompare bikesEMI calculatorDealersExplore AutoAbout UsContact UsSITEMAPRSSTerms of UsePrivacy PolicyCopyright © HT Media Limited All rights reserved.HomeOffersnewFind carsFind bikesCompare carsCompare bikesEMI calculatorD...   \n",
       "1  Toyota Urban Cruiser Car Discount Offers in Jajpur Road for March 2022 Explore  Wednesday, 16 March 2022 Log in/Sign up SearchNotificationsTop SectionsAuto NewsCar NewsBike NewsLatestAuto NewsPhotosVideosElectric VehiclesTrendingMy ReadsOffersnewFind carsFind bikesCompare carsCompare bikesEMI calculatorDealersExplore AutoAbout UsContact UsSITEMAPRSSTerms of UsePrivacy PolicyCopyright © HT Media Limited All rights reserved.HomeOffersnewFind carsFind bikesCompare carsCompare bikesEMI calculato...   \n",
       "2  Toyota Urban Cruiser Car Discount Offers in Khurda Andhra Pradesh for March 2022 Explore  Wednesday, 16 March 2022 Log in/Sign up SearchNotificationsTop SectionsAuto NewsCar NewsBike NewsLatestAuto NewsPhotosVideosElectric VehiclesTrendingMy ReadsOffersnewFind carsFind bikesCompare carsCompare bikesEMI calculatorDealersExplore AutoAbout UsContact UsSITEMAPRSSTerms of UsePrivacy PolicyCopyright © HT Media Limited All rights reserved.HomeOffersnewFind carsFind bikesCompare carsCompare bikesEMI...   \n",
       "3  Toyota Urban Cruiser Car Discount Offers in Jajpur Road for March 2022 Explore  Wednesday, 16 March 2022 Log in/Sign up SearchNotificationsTop SectionsAuto NewsCar NewsBike NewsLatestAuto NewsPhotosVideosElectric VehiclesTrendingMy ReadsOffersnewFind carsFind bikesCompare carsCompare bikesEMI calculatorDealersExplore AutoAbout UsContact UsSITEMAPRSSTerms of UsePrivacy PolicyCopyright © HT Media Limited All rights reserved.HomeOffersnewFind carsFind bikesCompare carsCompare bikesEMI calculato...   \n",
       "4     Mexico-U.S. cross-border tunnel discovered | CTV News             Skip to Main ContentSkip to Section LinksCTV NewsMobileCTV Live Now:                                      CTV News ChannelTRENDING CoronavirusRussia-UkraineSwedenSearchSearch CTV NewsX                                   NEWS                                                                  VIDEO                                                                  LOCAL                                                              ...   \n",
       "5  Porsche Cayenne Car Discount Offers in Jamshedpur for March 2022 Explore  Wednesday, 16 March 2022 Log in/Sign up SearchNotificationsTop SectionsAuto NewsCar NewsBike NewsLatestAuto NewsPhotosVideosElectric VehiclesTrendingMy ReadsOffersnewFind carsFind bikesCompare carsCompare bikesEMI calculatorDealersExplore AutoAbout UsContact UsSITEMAPRSSTerms of UsePrivacy PolicyCopyright © HT Media Limited All rights reserved.HomeOffersnewFind carsFind bikesCompare carsCompare bikesEMI calculatorDeale...   \n",
       "6  Toyota Urban Cruiser Car Discount Offers in Hardoi for March 2022 Explore  Wednesday, 16 March 2022 Log in/Sign up SearchNotificationsTop SectionsAuto NewsCar NewsBike NewsLatestAuto NewsPhotosVideosElectric VehiclesTrendingMy ReadsOffersnewFind carsFind bikesCompare carsCompare bikesEMI calculatorDealersExplore AutoAbout UsContact UsSITEMAPRSSTerms of UsePrivacy PolicyCopyright © HT Media Limited All rights reserved.HomeOffersnewFind carsFind bikesCompare carsCompare bikesEMI calculatorDeal...   \n",
       "7  Toyota Urban Cruiser Car Discount Offers in Malsiras for March 2022 Explore  Wednesday, 16 March 2022 Log in/Sign up SearchNotificationsTop SectionsAuto NewsCar NewsBike NewsLatestAuto NewsPhotosVideosElectric VehiclesTrendingMy ReadsOffersnewFind carsFind bikesCompare carsCompare bikesEMI calculatorDealersExplore AutoAbout UsContact UsSITEMAPRSSTerms of UsePrivacy PolicyCopyright © HT Media Limited All rights reserved.HomeOffersnewFind carsFind bikesCompare carsCompare bikesEMI calculatorDe...   \n",
       "8  Audi A8 L Car Discount Offers in Ahmedabad for March 2022 Explore  Sunday, 13 March 2022 Log in/Sign up SearchNotificationsTop SectionsAuto NewsCar NewsBike NewsLatestAuto NewsPhotosVideosElectric VehiclesTrendingMy ReadsOffersnewFind carsFind bikesCompare carsCompare bikesEMI calculatorDealersExplore AutoAbout UsContact UsSITEMAPRSSTerms of UsePrivacy PolicyCopyright © HT Media Limited All rights reserved.HomeOffersnewFind carsFind bikesCompare carsCompare bikesEMI calculatorDealersCar News...   \n",
       "9  Mahindra Bolero Neo Car Discount Offers in Sundergarh for March 2022 Explore  Tuesday, 15 March 2022 Log in/Sign up SearchNotificationsTop SectionsAuto NewsCar NewsBike NewsLatestAuto NewsPhotosVideosElectric VehiclesTrendingMy ReadsOffersnewFind carsFind bikesCompare carsCompare bikesEMI calculatorDealersExplore AutoAbout UsContact UsSITEMAPRSSTerms of UsePrivacy PolicyCopyright © HT Media Limited All rights reserved.HomeOffersnewFind carsFind bikesCompare carsCompare bikesEMI calculatorDea...   \n",
       "\n",
       "   distance_6 grams  \n",
       "0          0.014322  \n",
       "1          0.015152  \n",
       "2          0.015980  \n",
       "3          0.016807  \n",
       "4          0.019027  \n",
       "5          0.028230  \n",
       "6          0.048227  \n",
       "7          0.058722  \n",
       "8          0.060229  \n",
       "9          0.061433  "
      ]
     },
     "execution_count": 48,
     "metadata": {},
     "output_type": "execute_result"
    }
   ],
   "source": [
    "# Most similar articles when n = 6\n",
    "top10 = temp.groupby('distance_6 grams').first().reset_index()[['Article A', 'Article B', 'distance_6 grams']]\n",
    "top10[['Article A', 'Article B']] = top10[['Article A', 'Article B']].apply(lambda x: news_df.loc[x]['text'].values)\n",
    "\n",
    "top10.head(10)"
   ]
  },
  {
   "cell_type": "code",
   "execution_count": 52,
   "metadata": {},
   "outputs": [
    {
     "data": {
      "text/html": [
       "<div>\n",
       "<style scoped>\n",
       "    .dataframe tbody tr th:only-of-type {\n",
       "        vertical-align: middle;\n",
       "    }\n",
       "\n",
       "    .dataframe tbody tr th {\n",
       "        vertical-align: top;\n",
       "    }\n",
       "\n",
       "    .dataframe thead th {\n",
       "        text-align: right;\n",
       "    }\n",
       "</style>\n",
       "<table border=\"1\" class=\"dataframe\">\n",
       "  <thead>\n",
       "    <tr style=\"text-align: right;\">\n",
       "      <th></th>\n",
       "      <th>Article A</th>\n",
       "      <th>Article B</th>\n",
       "      <th>distance_6 grams</th>\n",
       "    </tr>\n",
       "  </thead>\n",
       "  <tbody>\n",
       "    <tr>\n",
       "      <th>6340</th>\n",
       "      <td>Lml Bikes Car Dealers - Lml Bikes Showrooms in India Explore  Friday, 21 January 2022 Log in/Sign up SearchNotificationsTop SectionsAuto NewsCar NewsBike NewsLatestAuto NewsPhotosVideosElectric VehiclesTrendingMy ReadsOffersnewFind carsFind bikesCompare carsCompare bikesEMI calculatorDealersExplore AutoAbout UsContact UsSITEMAPRSSTerms of UsePrivacy PolicyCopyright © HT Media Limited All rights reserved.HomeOffersnewFind carsFind bikesCompare carsCompare bikesEMI calculatorDealersCar NewsBik...</td>\n",
       "      <td>Syncron Price Selected by Mitsubishi Motors Corporation to Boost Enhanced Service Parts Pricing StrategySkip to contentCircle - Country Music &amp; LifestyleAdvertise With UsTeacher TributeAsk The ExpertThank A NurseBe ExcellentWatch LiveNewsElectionsVaccine TrackerVideoWeatherSportsCommunityContestsAbout UsCOVID-19SearchHomeSee it, Snap it, Send itNewsStorm of the CenturyNationalStateEditorialInvestigateEast Texas Ag NewsCrimeEast Texas NowThe Next NormalSept 11thWeatherSign Up for ThunderCallL...</td>\n",
       "      <td>1.000000</td>\n",
       "    </tr>\n",
       "    <tr>\n",
       "      <th>6339</th>\n",
       "      <td>Chocolate Is Big Money—But Not for Farmers - BNN BloombergAre you looking for a stock?Try one of these{{result.description}}{{result.ric}}More ResultsBNNAre you looking for a stock?Try one of these{{result.description}}{{result.ric}}More ResultsLiveVideoShowsMarket CallMarketsInvestingPersonal FinanceReal EstateCompany NewsCommoditiesEconomicsPoliticsTechnologyBloomberg News Wire OpinionETFsExecutivePursuitsInternationalMarket CallScheduleListenLiveVideoShowsMarket CallMarketsScoreboardBN...</td>\n",
       "      <td>Live updates: US senators to speak with Ukraine president | National | muscatinejournal.comSkip to main contentSkip to main content××Sign up for our newsletter to keep reading.Be the first to knowGet local news delivered to your inbox!Sign up! Already a Subscriber? Sign inTerms of Service Privacy PolicyBack to homepageSubscriber Login                                                                    Please subscribe to keep reading. You can cancel at any time.                               ...</td>\n",
       "      <td>0.999837</td>\n",
       "    </tr>\n",
       "    <tr>\n",
       "      <th>6338</th>\n",
       "      <td>Russia's war spurs corporate exodus, exposes business risks        Skip to main content Currently ReadingRussia's war spurs corporate exodus, exposes business risksSubscribeSubscribee-EditionSign In  homeAbout UsContact UsAdvertiseSubscribePrivacy NoticeTerms of UseNewsArchivesSpecial SectionsNews TipOnline FormsRSS FeedsSportsSubmit scoresSubmit sports newsPro32NewslettersObituariesSubmit an obituaryFeaturesGamesContestsSpecial SectionsComicsHoroscopesSubmit an AnniversarySubmit BirthSubmit...</td>\n",
       "      <td>Live updates: US senators to speak with Ukraine president | National | muscatinejournal.comSkip to main contentSkip to main content××Sign up for our newsletter to keep reading.Be the first to knowGet local news delivered to your inbox!Sign up! Already a Subscriber? Sign inTerms of Service Privacy PolicyBack to homepageSubscriber Login                                                                    Please subscribe to keep reading. You can cancel at any time.                               ...</td>\n",
       "      <td>0.999818</td>\n",
       "    </tr>\n",
       "    <tr>\n",
       "      <th>6337</th>\n",
       "      <td>Zacks: Analysts Expect IQVIA Holdings Inc. (NYSE:IQV) to Announce $2.43 Earnings Per Share - Ticker ReportSkip to main contentAboutContactDisclaimerPrivacy PolicyTerms of Service ☰HomeFinanceAerospace &amp; DefenseEnergyPharmaceuticalsTechnology AboutContactDisclaimerPrivacy PolicyTerms of Service HomeFinanceAerospace &amp; DefenseEnergyPharmaceuticalsTechnology   Zacks: Analysts Expect IQVIA Holdings Inc. (NYSE:IQV) to Announce $2.43 Earnings Per SharePosted by Max Byerly on Feb 17th, 2022Share on ...</td>\n",
       "      <td>Live updates: As many as 15,000 Russians killed in fighting | MarketBeatSkip to main contentS&amp;P 500   4,492.66  (-0.42%) DOW   34,541.20  (-0.76%) QQQ   356.29  (-0.19%) AAPL   170.91  (+1.24%) MSFT   301.58  (-0.82%) FB   215.95  (-0.32%) GOOGL   2,784.32  (-0.47%) AMZN   3,268.00  (-0.90%) TSLA   999.00  (+0.51%) NVDA   263.10  (-0.81%) BABA   123.16  (+7.10%) NIO   22.44  (+3.08%) AMD   113.06  (-1.50%) MU   76.77  (-2.97%) GE   93.96  (-0.99%) T   23.29  (+0.34%) F   16.89  (-1.17%) DIS ...</td>\n",
       "      <td>0.999757</td>\n",
       "    </tr>\n",
       "    <tr>\n",
       "      <th>6336</th>\n",
       "      <td>Live updates: As many as 15,000 Russians killed in fighting | MarketBeatSkip to main contentS&amp;P 500   4,492.66  (-0.42%) DOW   34,541.20  (-0.76%) QQQ   356.29  (-0.19%) AAPL   170.91  (+1.24%) MSFT   301.58  (-0.82%) FB   215.95  (-0.32%) GOOGL   2,784.32  (-0.47%) AMZN   3,268.00  (-0.90%) TSLA   999.00  (+0.51%) NVDA   263.10  (-0.81%) BABA   123.16  (+7.10%) NIO   22.44  (+3.08%) AMD   113.06  (-1.50%) MU   76.77  (-2.97%) GE   93.96  (-0.99%) T   23.29  (+0.34%) F   16.89  (-1.17%) DIS ...</td>\n",
       "      <td>UBP Investment Advisors SA Sells 4,500 Shares of Freeport-McMoRan Inc. (NYSE:FCX) - Ticker ReportSkip to main contentAboutContactDisclaimerPrivacy PolicyTerms of Service ☰HomeFinanceAerospace &amp; DefenseEnergyPharmaceuticalsTechnology AboutContactDisclaimerPrivacy PolicyTerms of Service HomeFinanceAerospace &amp; DefenseEnergyPharmaceuticalsTechnology   UBP Investment Advisors SA Sells 4,500 Shares of Freeport-McMoRan Inc. (NYSE:FCX)Posted by Shane Hupp on Feb 17th, 2022Share on TwitterShare on Fa...</td>\n",
       "      <td>0.999755</td>\n",
       "    </tr>\n",
       "    <tr>\n",
       "      <th>6335</th>\n",
       "      <td>Live updates: As many as 15,000 Russians killed in fighting | MarketBeatSkip to main contentS&amp;P 500   4,492.66  (-0.42%) DOW   34,541.20  (-0.76%) QQQ   356.29  (-0.19%) AAPL   170.91  (+1.24%) MSFT   301.58  (-0.82%) FB   215.95  (-0.32%) GOOGL   2,784.32  (-0.47%) AMZN   3,268.00  (-0.90%) TSLA   999.00  (+0.51%) NVDA   263.10  (-0.81%) BABA   123.16  (+7.10%) NIO   22.44  (+3.08%) AMD   113.06  (-1.50%) MU   76.77  (-2.97%) GE   93.96  (-0.99%) T   23.29  (+0.34%) F   16.89  (-1.17%) DIS ...</td>\n",
       "      <td>Migdal Insurance &amp; Financial Holdings Ltd. Decreases Stock Holdings in Quest Diagnostics Incorporated (NYSE:DGX) - Community Financial NewsSkip to main contentHeadlinesAbout UsPrivacy PolicyContact Us ☰FinanceNewsWorldU.S.SportsTechnologyEducation HeadlinesAbout UsPrivacy PolicyContact Us FinanceNewsWorldU.S.SportsTechnologyEducation   Migdal Insurance &amp; Financial Holdings Ltd. Decreases Stock Holdings in Quest Diagnostics Incorporated (NYSE:DGX)Posted by Trent Williams on Feb 23rd, 2022Shar...</td>\n",
       "      <td>0.999753</td>\n",
       "    </tr>\n",
       "    <tr>\n",
       "      <th>6334</th>\n",
       "      <td>Live updates: As many as 15,000 Russians killed in fighting | MarketBeatSkip to main contentS&amp;P 500   4,492.66  (-0.42%) DOW   34,541.20  (-0.76%) QQQ   356.29  (-0.19%) AAPL   170.91  (+1.24%) MSFT   301.58  (-0.82%) FB   215.95  (-0.32%) GOOGL   2,784.32  (-0.47%) AMZN   3,268.00  (-0.90%) TSLA   999.00  (+0.51%) NVDA   263.10  (-0.81%) BABA   123.16  (+7.10%) NIO   22.44  (+3.08%) AMD   113.06  (-1.50%) MU   76.77  (-2.97%) GE   93.96  (-0.99%) T   23.29  (+0.34%) F   16.89  (-1.17%) DIS ...</td>\n",
       "      <td>Carnival Co. &amp; (NYSE:CCL) PT Lowered to $17.00 at Truist Financial - Community Financial NewsSkip to main contentHeadlinesAbout UsPrivacy PolicyContact Us ☰FinanceNewsWorldU.S.SportsTechnologyEducation HeadlinesAbout UsPrivacy PolicyContact Us FinanceNewsWorldU.S.SportsTechnologyEducation   Carnival Co. &amp; (NYSE:CCL) PT Lowered to $17.00 at Truist FinancialPosted by Eileen French on Mar 17th, 2022Share on TwitterShare on FacebookShare on LinkedInShare on StocktwitsCarnival Co. &amp; (NYSE:CCL – G...</td>\n",
       "      <td>0.999752</td>\n",
       "    </tr>\n",
       "    <tr>\n",
       "      <th>6333</th>\n",
       "      <td>Live updates: As many as 15,000 Russians killed in fighting | MarketBeatSkip to main contentS&amp;P 500   4,492.66  (-0.42%) DOW   34,541.20  (-0.76%) QQQ   356.29  (-0.19%) AAPL   170.91  (+1.24%) MSFT   301.58  (-0.82%) FB   215.95  (-0.32%) GOOGL   2,784.32  (-0.47%) AMZN   3,268.00  (-0.90%) TSLA   999.00  (+0.51%) NVDA   263.10  (-0.81%) BABA   123.16  (+7.10%) NIO   22.44  (+3.08%) AMD   113.06  (-1.50%) MU   76.77  (-2.97%) GE   93.96  (-0.99%) T   23.29  (+0.34%) F   16.89  (-1.17%) DIS ...</td>\n",
       "      <td>AB Volvo (publ) (OTCMKTS:VLVLY) &amp; Lightning eMotors (NYSE:ZEV) Financial Survey - ETF Daily NewsSkip to main content☰Analyst RatingsCryptoEarningsInsider TradesIPOsOptionsAnalyst RatingsCryptoEarningsInsider TradesIPOsOptionsAB Volvo (publ) (OTCMKTS:VLVLY) &amp; Lightning eMotors (NYSE:ZEV) Financial SurveyPosted by MarketBeat News on Jun 12th, 2022Share on TwitterShare on FacebookShare on LinkedInShare on StocktwitsLightning eMotors (NYSE:ZEV – Get Rating) and AB Volvo (publ) (OTCMKTS:VLVLY – G...</td>\n",
       "      <td>0.999751</td>\n",
       "    </tr>\n",
       "    <tr>\n",
       "      <th>6332</th>\n",
       "      <td>Otmar Szafnauer joins Alpine as their new team principal just one month after leaving Aston Martin | Daily Mail Online HomeU.K.NewsSportsU.S. ShowbizAustraliaFemailHealthScienceMoneyVideoTravelShopDailyMailTVSoccerPremier LeagueChampions LeagueCricketRugbyWinter OlympicsBoxingMMAGolfTennisF1NFLNBAMoreMy ProfileLogout              Login            Privacy PolicyFeedbackThursday, Feb 17th 20221PM61°F4PM63°F5-Day Forecast AdvertisementAmir Khan and Kell Brook press conference descends into an u...</td>\n",
       "      <td>Fernando Alonso sends warning message to Alpine over budget cap - Mirror OnlineNewsUK NewsUS NewsWorld NewsWeird NewsReal LifeMore HopefulPoliticsCrimeRoyalsMoneyTechScienceSportFootballBoxingUFCCricketRugby UnionRugby LeagueF1RacingGolfTennisAthleticsDartsSnookerTravelNewsUK &amp; IrelandEuropeUSA &amp; CanadaCaribbeanAfricaCruisesCheap FlightsAsia &amp; Middle EastAustralia &amp; New ZealandCentral &amp; South AmericaLifestyleHealthFamilyFashion &amp; BeautyMotoringSex &amp; RelationshipsDietingCelebsTVFilmsPartnersB...</td>\n",
       "      <td>0.999749</td>\n",
       "    </tr>\n",
       "    <tr>\n",
       "      <th>6331</th>\n",
       "      <td>Live updates: As many as 15,000 Russians killed in fighting | MarketBeatSkip to main contentS&amp;P 500   4,492.66  (-0.42%) DOW   34,541.20  (-0.76%) QQQ   356.29  (-0.19%) AAPL   170.91  (+1.24%) MSFT   301.58  (-0.82%) FB   215.95  (-0.32%) GOOGL   2,784.32  (-0.47%) AMZN   3,268.00  (-0.90%) TSLA   999.00  (+0.51%) NVDA   263.10  (-0.81%) BABA   123.16  (+7.10%) NIO   22.44  (+3.08%) AMD   113.06  (-1.50%) MU   76.77  (-2.97%) GE   93.96  (-0.99%) T   23.29  (+0.34%) F   16.89  (-1.17%) DIS ...</td>\n",
       "      <td>Cornerstone Building Brands, Inc. (NYSE:CNR) Receives $22.83 Consensus Target Price from Analysts - WKRB NewsSkip to main contentHomeAboutDaily Email UpdatesPrivacy Policy ☰MarketsRatingsDividendsEarningsInsider TradesCryptocurrencies HomeAboutDaily Email UpdatesPrivacy Policy MarketsRatingsDividendsEarningsInsider TradesCryptocurrencies   Cornerstone Building Brands, Inc. (NYSE:CNR) Receives $22.83 Consensus Target Price from AnalystsPosted by Lisa Pomrenke on Apr 21st, 2022Share on Twitter...</td>\n",
       "      <td>0.999748</td>\n",
       "    </tr>\n",
       "  </tbody>\n",
       "</table>\n",
       "</div>"
      ],
      "text/plain": [
       "                                                                                                                                                                                                                                                                                                                                                                                                                                                                                                                Article A  \\\n",
       "6340  Lml Bikes Car Dealers - Lml Bikes Showrooms in India Explore  Friday, 21 January 2022 Log in/Sign up SearchNotificationsTop SectionsAuto NewsCar NewsBike NewsLatestAuto NewsPhotosVideosElectric VehiclesTrendingMy ReadsOffersnewFind carsFind bikesCompare carsCompare bikesEMI calculatorDealersExplore AutoAbout UsContact UsSITEMAPRSSTerms of UsePrivacy PolicyCopyright © HT Media Limited All rights reserved.HomeOffersnewFind carsFind bikesCompare carsCompare bikesEMI calculatorDealersCar NewsBik...   \n",
       "6339     Chocolate Is Big Money—But Not for Farmers - BNN BloombergAre you looking for a stock?Try one of these{{result.description}}{{result.ric}}More ResultsBNNAre you looking for a stock?Try one of these{{result.description}}{{result.ric}}More ResultsLiveVideoShowsMarket CallMarketsInvestingPersonal FinanceReal EstateCompany NewsCommoditiesEconomicsPoliticsTechnologyBloomberg News Wire OpinionETFsExecutivePursuitsInternationalMarket CallScheduleListenLiveVideoShowsMarket CallMarketsScoreboardBN...   \n",
       "6338  Russia's war spurs corporate exodus, exposes business risks        Skip to main content Currently ReadingRussia's war spurs corporate exodus, exposes business risksSubscribeSubscribee-EditionSign In  homeAbout UsContact UsAdvertiseSubscribePrivacy NoticeTerms of UseNewsArchivesSpecial SectionsNews TipOnline FormsRSS FeedsSportsSubmit scoresSubmit sports newsPro32NewslettersObituariesSubmit an obituaryFeaturesGamesContestsSpecial SectionsComicsHoroscopesSubmit an AnniversarySubmit BirthSubmit...   \n",
       "6337  Zacks: Analysts Expect IQVIA Holdings Inc. (NYSE:IQV) to Announce $2.43 Earnings Per Share - Ticker ReportSkip to main contentAboutContactDisclaimerPrivacy PolicyTerms of Service ☰HomeFinanceAerospace & DefenseEnergyPharmaceuticalsTechnology AboutContactDisclaimerPrivacy PolicyTerms of Service HomeFinanceAerospace & DefenseEnergyPharmaceuticalsTechnology   Zacks: Analysts Expect IQVIA Holdings Inc. (NYSE:IQV) to Announce $2.43 Earnings Per SharePosted by Max Byerly on Feb 17th, 2022Share on ...   \n",
       "6336  Live updates: As many as 15,000 Russians killed in fighting | MarketBeatSkip to main contentS&P 500   4,492.66  (-0.42%) DOW   34,541.20  (-0.76%) QQQ   356.29  (-0.19%) AAPL   170.91  (+1.24%) MSFT   301.58  (-0.82%) FB   215.95  (-0.32%) GOOGL   2,784.32  (-0.47%) AMZN   3,268.00  (-0.90%) TSLA   999.00  (+0.51%) NVDA   263.10  (-0.81%) BABA   123.16  (+7.10%) NIO   22.44  (+3.08%) AMD   113.06  (-1.50%) MU   76.77  (-2.97%) GE   93.96  (-0.99%) T   23.29  (+0.34%) F   16.89  (-1.17%) DIS ...   \n",
       "6335  Live updates: As many as 15,000 Russians killed in fighting | MarketBeatSkip to main contentS&P 500   4,492.66  (-0.42%) DOW   34,541.20  (-0.76%) QQQ   356.29  (-0.19%) AAPL   170.91  (+1.24%) MSFT   301.58  (-0.82%) FB   215.95  (-0.32%) GOOGL   2,784.32  (-0.47%) AMZN   3,268.00  (-0.90%) TSLA   999.00  (+0.51%) NVDA   263.10  (-0.81%) BABA   123.16  (+7.10%) NIO   22.44  (+3.08%) AMD   113.06  (-1.50%) MU   76.77  (-2.97%) GE   93.96  (-0.99%) T   23.29  (+0.34%) F   16.89  (-1.17%) DIS ...   \n",
       "6334  Live updates: As many as 15,000 Russians killed in fighting | MarketBeatSkip to main contentS&P 500   4,492.66  (-0.42%) DOW   34,541.20  (-0.76%) QQQ   356.29  (-0.19%) AAPL   170.91  (+1.24%) MSFT   301.58  (-0.82%) FB   215.95  (-0.32%) GOOGL   2,784.32  (-0.47%) AMZN   3,268.00  (-0.90%) TSLA   999.00  (+0.51%) NVDA   263.10  (-0.81%) BABA   123.16  (+7.10%) NIO   22.44  (+3.08%) AMD   113.06  (-1.50%) MU   76.77  (-2.97%) GE   93.96  (-0.99%) T   23.29  (+0.34%) F   16.89  (-1.17%) DIS ...   \n",
       "6333  Live updates: As many as 15,000 Russians killed in fighting | MarketBeatSkip to main contentS&P 500   4,492.66  (-0.42%) DOW   34,541.20  (-0.76%) QQQ   356.29  (-0.19%) AAPL   170.91  (+1.24%) MSFT   301.58  (-0.82%) FB   215.95  (-0.32%) GOOGL   2,784.32  (-0.47%) AMZN   3,268.00  (-0.90%) TSLA   999.00  (+0.51%) NVDA   263.10  (-0.81%) BABA   123.16  (+7.10%) NIO   22.44  (+3.08%) AMD   113.06  (-1.50%) MU   76.77  (-2.97%) GE   93.96  (-0.99%) T   23.29  (+0.34%) F   16.89  (-1.17%) DIS ...   \n",
       "6332  Otmar Szafnauer joins Alpine as their new team principal just one month after leaving Aston Martin | Daily Mail Online HomeU.K.NewsSportsU.S. ShowbizAustraliaFemailHealthScienceMoneyVideoTravelShopDailyMailTVSoccerPremier LeagueChampions LeagueCricketRugbyWinter OlympicsBoxingMMAGolfTennisF1NFLNBAMoreMy ProfileLogout              Login            Privacy PolicyFeedbackThursday, Feb 17th 20221PM61°F4PM63°F5-Day Forecast AdvertisementAmir Khan and Kell Brook press conference descends into an u...   \n",
       "6331  Live updates: As many as 15,000 Russians killed in fighting | MarketBeatSkip to main contentS&P 500   4,492.66  (-0.42%) DOW   34,541.20  (-0.76%) QQQ   356.29  (-0.19%) AAPL   170.91  (+1.24%) MSFT   301.58  (-0.82%) FB   215.95  (-0.32%) GOOGL   2,784.32  (-0.47%) AMZN   3,268.00  (-0.90%) TSLA   999.00  (+0.51%) NVDA   263.10  (-0.81%) BABA   123.16  (+7.10%) NIO   22.44  (+3.08%) AMD   113.06  (-1.50%) MU   76.77  (-2.97%) GE   93.96  (-0.99%) T   23.29  (+0.34%) F   16.89  (-1.17%) DIS ...   \n",
       "\n",
       "                                                                                                                                                                                                                                                                                                                                                                                                                                                                                                                Article B  \\\n",
       "6340  Syncron Price Selected by Mitsubishi Motors Corporation to Boost Enhanced Service Parts Pricing StrategySkip to contentCircle - Country Music & LifestyleAdvertise With UsTeacher TributeAsk The ExpertThank A NurseBe ExcellentWatch LiveNewsElectionsVaccine TrackerVideoWeatherSportsCommunityContestsAbout UsCOVID-19SearchHomeSee it, Snap it, Send itNewsStorm of the CenturyNationalStateEditorialInvestigateEast Texas Ag NewsCrimeEast Texas NowThe Next NormalSept 11thWeatherSign Up for ThunderCallL...   \n",
       "6339  Live updates: US senators to speak with Ukraine president | National | muscatinejournal.comSkip to main contentSkip to main content××Sign up for our newsletter to keep reading.Be the first to knowGet local news delivered to your inbox!Sign up! Already a Subscriber? Sign inTerms of Service Privacy PolicyBack to homepageSubscriber Login                                                                    Please subscribe to keep reading. You can cancel at any time.                               ...   \n",
       "6338  Live updates: US senators to speak with Ukraine president | National | muscatinejournal.comSkip to main contentSkip to main content××Sign up for our newsletter to keep reading.Be the first to knowGet local news delivered to your inbox!Sign up! Already a Subscriber? Sign inTerms of Service Privacy PolicyBack to homepageSubscriber Login                                                                    Please subscribe to keep reading. You can cancel at any time.                               ...   \n",
       "6337  Live updates: As many as 15,000 Russians killed in fighting | MarketBeatSkip to main contentS&P 500   4,492.66  (-0.42%) DOW   34,541.20  (-0.76%) QQQ   356.29  (-0.19%) AAPL   170.91  (+1.24%) MSFT   301.58  (-0.82%) FB   215.95  (-0.32%) GOOGL   2,784.32  (-0.47%) AMZN   3,268.00  (-0.90%) TSLA   999.00  (+0.51%) NVDA   263.10  (-0.81%) BABA   123.16  (+7.10%) NIO   22.44  (+3.08%) AMD   113.06  (-1.50%) MU   76.77  (-2.97%) GE   93.96  (-0.99%) T   23.29  (+0.34%) F   16.89  (-1.17%) DIS ...   \n",
       "6336  UBP Investment Advisors SA Sells 4,500 Shares of Freeport-McMoRan Inc. (NYSE:FCX) - Ticker ReportSkip to main contentAboutContactDisclaimerPrivacy PolicyTerms of Service ☰HomeFinanceAerospace & DefenseEnergyPharmaceuticalsTechnology AboutContactDisclaimerPrivacy PolicyTerms of Service HomeFinanceAerospace & DefenseEnergyPharmaceuticalsTechnology   UBP Investment Advisors SA Sells 4,500 Shares of Freeport-McMoRan Inc. (NYSE:FCX)Posted by Shane Hupp on Feb 17th, 2022Share on TwitterShare on Fa...   \n",
       "6335  Migdal Insurance & Financial Holdings Ltd. Decreases Stock Holdings in Quest Diagnostics Incorporated (NYSE:DGX) - Community Financial NewsSkip to main contentHeadlinesAbout UsPrivacy PolicyContact Us ☰FinanceNewsWorldU.S.SportsTechnologyEducation HeadlinesAbout UsPrivacy PolicyContact Us FinanceNewsWorldU.S.SportsTechnologyEducation   Migdal Insurance & Financial Holdings Ltd. Decreases Stock Holdings in Quest Diagnostics Incorporated (NYSE:DGX)Posted by Trent Williams on Feb 23rd, 2022Shar...   \n",
       "6334  Carnival Co. & (NYSE:CCL) PT Lowered to $17.00 at Truist Financial - Community Financial NewsSkip to main contentHeadlinesAbout UsPrivacy PolicyContact Us ☰FinanceNewsWorldU.S.SportsTechnologyEducation HeadlinesAbout UsPrivacy PolicyContact Us FinanceNewsWorldU.S.SportsTechnologyEducation   Carnival Co. & (NYSE:CCL) PT Lowered to $17.00 at Truist FinancialPosted by Eileen French on Mar 17th, 2022Share on TwitterShare on FacebookShare on LinkedInShare on StocktwitsCarnival Co. & (NYSE:CCL – G...   \n",
       "6333  AB Volvo (publ) (OTCMKTS:VLVLY) & Lightning eMotors (NYSE:ZEV) Financial Survey - ETF Daily NewsSkip to main content☰Analyst RatingsCryptoEarningsInsider TradesIPOsOptionsAnalyst RatingsCryptoEarningsInsider TradesIPOsOptionsAB Volvo (publ) (OTCMKTS:VLVLY) & Lightning eMotors (NYSE:ZEV) Financial SurveyPosted by MarketBeat News on Jun 12th, 2022Share on TwitterShare on FacebookShare on LinkedInShare on StocktwitsLightning eMotors (NYSE:ZEV – Get Rating) and AB Volvo (publ) (OTCMKTS:VLVLY – G...   \n",
       "6332  Fernando Alonso sends warning message to Alpine over budget cap - Mirror OnlineNewsUK NewsUS NewsWorld NewsWeird NewsReal LifeMore HopefulPoliticsCrimeRoyalsMoneyTechScienceSportFootballBoxingUFCCricketRugby UnionRugby LeagueF1RacingGolfTennisAthleticsDartsSnookerTravelNewsUK & IrelandEuropeUSA & CanadaCaribbeanAfricaCruisesCheap FlightsAsia & Middle EastAustralia & New ZealandCentral & South AmericaLifestyleHealthFamilyFashion & BeautyMotoringSex & RelationshipsDietingCelebsTVFilmsPartnersB...   \n",
       "6331  Cornerstone Building Brands, Inc. (NYSE:CNR) Receives $22.83 Consensus Target Price from Analysts - WKRB NewsSkip to main contentHomeAboutDaily Email UpdatesPrivacy Policy ☰MarketsRatingsDividendsEarningsInsider TradesCryptocurrencies HomeAboutDaily Email UpdatesPrivacy Policy MarketsRatingsDividendsEarningsInsider TradesCryptocurrencies   Cornerstone Building Brands, Inc. (NYSE:CNR) Receives $22.83 Consensus Target Price from AnalystsPosted by Lisa Pomrenke on Apr 21st, 2022Share on Twitter...   \n",
       "\n",
       "      distance_6 grams  \n",
       "6340          1.000000  \n",
       "6339          0.999837  \n",
       "6338          0.999818  \n",
       "6337          0.999757  \n",
       "6336          0.999755  \n",
       "6335          0.999753  \n",
       "6334          0.999752  \n",
       "6333          0.999751  \n",
       "6332          0.999749  \n",
       "6331          0.999748  "
      ]
     },
     "execution_count": 52,
     "metadata": {},
     "output_type": "execute_result"
    }
   ],
   "source": [
    "bottom10 = temp.groupby('distance_6 grams').first().reset_index()[['Article A', 'Article B', 'distance_6 grams']]\n",
    "bottom10 = bottom10.sort_values('distance_6 grams', ascending=False).head(10)\n",
    "bottom10[['Article A', 'Article B']] = bottom10[['Article A', 'Article B']].apply(lambda x: news_df.loc[x]['text'].values)\n",
    "bottom10.head(10)"
   ]
  },
  {
   "cell_type": "markdown",
   "metadata": {},
   "source": [
    "## Part 02: Tweet (tweets_df) Similarity"
   ]
  },
  {
   "cell_type": "markdown",
   "metadata": {},
   "source": [
    "#### Read Tweets data"
   ]
  },
  {
   "cell_type": "code",
   "execution_count": 145,
   "metadata": {},
   "outputs": [
    {
     "name": "stdout",
     "output_type": "stream",
     "text": [
      "Sample contains 1,020 tweets\n"
     ]
    },
    {
     "data": {
      "text/html": [
       "<div>\n",
       "<style scoped>\n",
       "    .dataframe tbody tr th:only-of-type {\n",
       "        vertical-align: middle;\n",
       "    }\n",
       "\n",
       "    .dataframe tbody tr th {\n",
       "        vertical-align: top;\n",
       "    }\n",
       "\n",
       "    .dataframe thead th {\n",
       "        text-align: right;\n",
       "    }\n",
       "</style>\n",
       "<table border=\"1\" class=\"dataframe\">\n",
       "  <thead>\n",
       "    <tr style=\"text-align: right;\">\n",
       "      <th></th>\n",
       "      <th>id</th>\n",
       "      <th>lang</th>\n",
       "      <th>date</th>\n",
       "      <th>name</th>\n",
       "      <th>retweeted</th>\n",
       "      <th>text</th>\n",
       "    </tr>\n",
       "  </thead>\n",
       "  <tbody>\n",
       "    <tr>\n",
       "      <th>0</th>\n",
       "      <td>1491880241782005777</td>\n",
       "      <td>en</td>\n",
       "      <td>2022-02-10</td>\n",
       "      <td>Sir Botalot dropping the Mike!</td>\n",
       "      <td></td>\n",
       "      <td>@singervehicles Will you do a straight swap for my Renault Twingo 1.2 Extreme? \\n\\nThat is awesome! 🔥</td>\n",
       "    </tr>\n",
       "    <tr>\n",
       "      <th>1</th>\n",
       "      <td>1501237946590142469</td>\n",
       "      <td>en</td>\n",
       "      <td>2022-03-08</td>\n",
       "      <td>Sabrina Ghio</td>\n",
       "      <td>RT</td>\n",
       "      <td>Australian GP Qualifying, Melbourne, 8th March 1997. #F1 The Grid ⬇️\\n\\nRow 3:\\n5. Eddie Irvine (Ferrari) +2.512s\\n6. Mika Hakkinen (McLaren-Mercedes) +2.602s\\n\\nRow 4:\\n7. Johnny Herbert (Sauber-Petronas) +2.918s\\n8. Jean Alesi (Benetton-Renault) +3.224s https://t.co/i4IC4LzVVN</td>\n",
       "    </tr>\n",
       "  </tbody>\n",
       "</table>\n",
       "</div>"
      ],
      "text/plain": [
       "                    id lang       date                            name  \\\n",
       "0  1491880241782005777   en 2022-02-10  Sir Botalot dropping the Mike!   \n",
       "1  1501237946590142469   en 2022-03-08                    Sabrina Ghio   \n",
       "\n",
       "  retweeted  \\\n",
       "0             \n",
       "1        RT   \n",
       "\n",
       "                                                                                                                                                                                                                                                                                      text  \n",
       "0                                                                                                                                                                                    @singervehicles Will you do a straight swap for my Renault Twingo 1.2 Extreme? \\n\\nThat is awesome! 🔥  \n",
       "1  Australian GP Qualifying, Melbourne, 8th March 1997. #F1 The Grid ⬇️\\n\\nRow 3:\\n5. Eddie Irvine (Ferrari) +2.512s\\n6. Mika Hakkinen (McLaren-Mercedes) +2.602s\\n\\nRow 4:\\n7. Johnny Herbert (Sauber-Petronas) +2.918s\\n8. Jean Alesi (Benetton-Renault) +3.224s https://t.co/i4IC4LzVVN  "
      ]
     },
     "execution_count": 145,
     "metadata": {},
     "output_type": "execute_result"
    }
   ],
   "source": [
    "tweets_path = 'https://storage.googleapis.com/msca-bdp-data-open/tweets/nlp_a_3_tweets.json'\n",
    "tweets_df = pd.read_json(tweets_path, orient='records', lines=True)\n",
    "print(f'Sample contains {tweets_df.shape[0]:,.0f} tweets')\n",
    "tweets_df.head(2)"
   ]
  },
  {
   "cell_type": "code",
   "execution_count": 146,
   "metadata": {},
   "outputs": [
    {
     "data": {
      "text/plain": [
       "(1020, 6)"
      ]
     },
     "execution_count": 146,
     "metadata": {},
     "output_type": "execute_result"
    }
   ],
   "source": [
    "tweets_df.shape"
   ]
  },
  {
   "cell_type": "code",
   "execution_count": 147,
   "metadata": {},
   "outputs": [
    {
     "data": {
      "text/plain": [
       "id           0\n",
       "lang         0\n",
       "date         0\n",
       "name         0\n",
       "retweeted    0\n",
       "text         0\n",
       "dtype: int64"
      ]
     },
     "execution_count": 147,
     "metadata": {},
     "output_type": "execute_result"
    }
   ],
   "source": [
    "tweets_df.isna().sum()"
   ]
  },
  {
   "cell_type": "code",
   "execution_count": 148,
   "metadata": {},
   "outputs": [
    {
     "data": {
      "text/plain": [
       "1"
      ]
     },
     "execution_count": 148,
     "metadata": {},
     "output_type": "execute_result"
    }
   ],
   "source": [
    "# Making sure that there are only english language tweets \n",
    "tweets_df['lang'].nunique()"
   ]
  },
  {
   "cell_type": "code",
   "execution_count": 149,
   "metadata": {},
   "outputs": [
    {
     "data": {
      "text/plain": [
       "179.0"
      ]
     },
     "execution_count": 149,
     "metadata": {},
     "output_type": "execute_result"
    }
   ],
   "source": [
    "# Checking median lenght of tweet texts\n",
    "med_length_text = tweets_df['text'].apply(lambda x: len(x)).median()\n",
    "med_length_text"
   ]
  },
  {
   "cell_type": "code",
   "execution_count": 150,
   "metadata": {},
   "outputs": [],
   "source": [
    "# Use TweetTokenizer and lower case all words\n",
    "tweet_tokenizer = nltk.tokenize.TweetTokenizer()\n",
    "tweets_df['text_tokens'] = tweets_df['text'].apply(lambda x: tweet_tokenizer.tokenize(x))\n",
    "\n",
    "# Remove stopwords\n",
    "tweets_df['text_tokens'] = tweets_df['text_tokens'].apply(lambda x: [word for word in x if word not in stopwords])\n",
    "\n",
    "# Remove single-character tokens (mostly punctuation)\n",
    "tweets_df['text_tokens'] = tweets_df['text_tokens'].apply(lambda x: [word for word in x if len(word) > 1])\n",
    "\n",
    "# Remove numbers\n",
    "tweets_df['text_tokens'] = tweets_df['text_tokens'].apply(lambda x: [word for word in x if not word.isnumeric()])\n",
    "\n",
    "# Remove punctuation\n",
    "tweets_df['text_tokens'] = tweets_df['text_tokens'].apply(lambda x: [word for word in x if word.isalpha()])"
   ]
  },
  {
   "cell_type": "code",
   "execution_count": 151,
   "metadata": {},
   "outputs": [],
   "source": [
    "tweets_df['text_tokens'] = tweets_df['text_tokens'].apply(lambda x: [wnl.lemmatize(word) for word in x])"
   ]
  },
  {
   "cell_type": "code",
   "execution_count": 152,
   "metadata": {},
   "outputs": [
    {
     "data": {
      "text/html": [
       "<div>\n",
       "<style scoped>\n",
       "    .dataframe tbody tr th:only-of-type {\n",
       "        vertical-align: middle;\n",
       "    }\n",
       "\n",
       "    .dataframe tbody tr th {\n",
       "        vertical-align: top;\n",
       "    }\n",
       "\n",
       "    .dataframe thead th {\n",
       "        text-align: right;\n",
       "    }\n",
       "</style>\n",
       "<table border=\"1\" class=\"dataframe\">\n",
       "  <thead>\n",
       "    <tr style=\"text-align: right;\">\n",
       "      <th></th>\n",
       "      <th>id</th>\n",
       "      <th>lang</th>\n",
       "      <th>date</th>\n",
       "      <th>name</th>\n",
       "      <th>retweeted</th>\n",
       "      <th>text</th>\n",
       "      <th>text_tokens</th>\n",
       "    </tr>\n",
       "  </thead>\n",
       "  <tbody>\n",
       "    <tr>\n",
       "      <th>523</th>\n",
       "      <td>1506844523829280770</td>\n",
       "      <td>en</td>\n",
       "      <td>2022-03-24</td>\n",
       "      <td>Missy1275*</td>\n",
       "      <td>RT</td>\n",
       "      <td>Renault industrial activities in Russia are suspended The Board of Directors of Renault Group met today and approved the following items: - @RenaultGroup activities in its manufacturing plant in Moscow are suspended as of today. https://t.co/I5036FK7UE</td>\n",
       "      <td>[Renault, industrial, activity, Russia, suspended, The, Board, Directors, Renault, Group, met, today, approved, following, item, activity, manufacturing, plant, Moscow, suspended, today]</td>\n",
       "    </tr>\n",
       "    <tr>\n",
       "      <th>602</th>\n",
       "      <td>1506228835536314374</td>\n",
       "      <td>en</td>\n",
       "      <td>2022-03-22</td>\n",
       "      <td>Viktorija Semjonova</td>\n",
       "      <td>RT</td>\n",
       "      <td>Incredible but the French carmaker Renault has resumed manufacturing in its plants in Moscow, bucking the trend of many other large global companies that have cut ties with Russia over its war on #Ukraine.\\n https://t.co/AQpZB3hVsy</td>\n",
       "      <td>[Incredible, French, carmaker, Renault, resumed, manufacturing, plant, Moscow, bucking, trend, many, large, global, company, cut, tie, Russia, war]</td>\n",
       "    </tr>\n",
       "    <tr>\n",
       "      <th>526</th>\n",
       "      <td>1507021474762211331</td>\n",
       "      <td>en</td>\n",
       "      <td>2022-03-24</td>\n",
       "      <td>ДревляниН</td>\n",
       "      <td>RT</td>\n",
       "      <td>Carmaker Renault said it would suspend operations at its plant in Moscow. The move comes as pressure mounts over the French company's continued presence in Russia since the country's invasion of Ukraine https://t.co/FFSwwtQnDO</td>\n",
       "      <td>[Carmaker, Renault, said, would, suspend, operation, plant, Moscow, The, move, come, pressure, mount, French, continued, presence, Russia, since, invasion, Ukraine]</td>\n",
       "    </tr>\n",
       "  </tbody>\n",
       "</table>\n",
       "</div>"
      ],
      "text/plain": [
       "                      id lang       date                 name retweeted  \\\n",
       "523  1506844523829280770   en 2022-03-24           Missy1275*        RT   \n",
       "602  1506228835536314374   en 2022-03-22  Viktorija Semjonova        RT   \n",
       "526  1507021474762211331   en 2022-03-24            ДревляниН        RT   \n",
       "\n",
       "                                                                                                                                                                                                                                                             text  \\\n",
       "523  Renault industrial activities in Russia are suspended The Board of Directors of Renault Group met today and approved the following items: - @RenaultGroup activities in its manufacturing plant in Moscow are suspended as of today. https://t.co/I5036FK7UE   \n",
       "602                       Incredible but the French carmaker Renault has resumed manufacturing in its plants in Moscow, bucking the trend of many other large global companies that have cut ties with Russia over its war on #Ukraine.\\n https://t.co/AQpZB3hVsy   \n",
       "526                            Carmaker Renault said it would suspend operations at its plant in Moscow. The move comes as pressure mounts over the French company's continued presence in Russia since the country's invasion of Ukraine https://t.co/FFSwwtQnDO   \n",
       "\n",
       "                                                                                                                                                                                    text_tokens  \n",
       "523  [Renault, industrial, activity, Russia, suspended, The, Board, Directors, Renault, Group, met, today, approved, following, item, activity, manufacturing, plant, Moscow, suspended, today]  \n",
       "602                                         [Incredible, French, carmaker, Renault, resumed, manufacturing, plant, Moscow, bucking, trend, many, large, global, company, cut, tie, Russia, war]  \n",
       "526                        [Carmaker, Renault, said, would, suspend, operation, plant, Moscow, The, move, come, pressure, mount, French, continued, presence, Russia, since, invasion, Ukraine]  "
      ]
     },
     "execution_count": 152,
     "metadata": {},
     "output_type": "execute_result"
    }
   ],
   "source": [
    "tweets_df.sample(3, random_state = 42)"
   ]
  },
  {
   "cell_type": "code",
   "execution_count": 153,
   "metadata": {},
   "outputs": [
    {
     "data": {
      "text/plain": [
       "14.0"
      ]
     },
     "execution_count": 153,
     "metadata": {},
     "output_type": "execute_result"
    }
   ],
   "source": [
    "# Checking median lenght of tweet texts\n",
    "med_length_text = tweets_df['text_tokens'].apply(lambda x: len(x)).median()\n",
    "med_length_text"
   ]
  },
  {
   "cell_type": "markdown",
   "metadata": {},
   "source": [
    "#### To choose optimal n, I will calculate average jaccard distance for varying n, and plot n vs average jaccard. The plot will facilitate the choosing of the inflection point which will determine what n to use."
   ]
  },
  {
   "cell_type": "code",
   "execution_count": 154,
   "metadata": {},
   "outputs": [
    {
     "data": {
      "text/html": [
       "<div>\n",
       "<style scoped>\n",
       "    .dataframe tbody tr th:only-of-type {\n",
       "        vertical-align: middle;\n",
       "    }\n",
       "\n",
       "    .dataframe tbody tr th {\n",
       "        vertical-align: top;\n",
       "    }\n",
       "\n",
       "    .dataframe thead th {\n",
       "        text-align: right;\n",
       "    }\n",
       "</style>\n",
       "<table border=\"1\" class=\"dataframe\">\n",
       "  <thead>\n",
       "    <tr style=\"text-align: right;\">\n",
       "      <th></th>\n",
       "      <th>id</th>\n",
       "      <th>lang</th>\n",
       "      <th>date</th>\n",
       "      <th>name</th>\n",
       "      <th>retweeted</th>\n",
       "      <th>text</th>\n",
       "      <th>text_tokens</th>\n",
       "      <th>1 grams</th>\n",
       "      <th>2 grams</th>\n",
       "      <th>3 grams</th>\n",
       "      <th>4 grams</th>\n",
       "    </tr>\n",
       "  </thead>\n",
       "  <tbody>\n",
       "    <tr>\n",
       "      <th>0</th>\n",
       "      <td>1491880241782005777</td>\n",
       "      <td>en</td>\n",
       "      <td>2022-02-10</td>\n",
       "      <td>Sir Botalot dropping the Mike!</td>\n",
       "      <td></td>\n",
       "      <td>@singervehicles Will you do a straight swap for my Renault Twingo 1.2 Extreme? \\n\\nThat is awesome! 🔥</td>\n",
       "      <td>[Will, straight, swap, Renault, Twingo, Extreme, That, awesome]</td>\n",
       "      <td>{(Will,), (That,), (straight,), (Twingo,), (swap,), (awesome,), (Extreme,), (Renault,)}</td>\n",
       "      <td>{(Will, straight), (straight, swap), (swap, Renault), (That, awesome), (Twingo, Extreme), (Renault, Twingo), (Extreme, That)}</td>\n",
       "      <td>{(Renault, Twingo, Extreme), (Extreme, That, awesome), (straight, swap, Renault), (Will, straight, swap), (Twingo, Extreme, That), (swap, Renault, Twingo)}</td>\n",
       "      <td>{(Renault, Twingo, Extreme, That), (straight, swap, Renault, Twingo), (swap, Renault, Twingo, Extreme), (Will, straight, swap, Renault), (Twingo, Extreme, That, awesome)}</td>\n",
       "    </tr>\n",
       "  </tbody>\n",
       "</table>\n",
       "</div>"
      ],
      "text/plain": [
       "                    id lang       date                            name  \\\n",
       "0  1491880241782005777   en 2022-02-10  Sir Botalot dropping the Mike!   \n",
       "\n",
       "  retweeted  \\\n",
       "0             \n",
       "\n",
       "                                                                                                    text  \\\n",
       "0  @singervehicles Will you do a straight swap for my Renault Twingo 1.2 Extreme? \\n\\nThat is awesome! 🔥   \n",
       "\n",
       "                                                       text_tokens  \\\n",
       "0  [Will, straight, swap, Renault, Twingo, Extreme, That, awesome]   \n",
       "\n",
       "                                                                                   1 grams  \\\n",
       "0  {(Will,), (That,), (straight,), (Twingo,), (swap,), (awesome,), (Extreme,), (Renault,)}   \n",
       "\n",
       "                                                                                                                         2 grams  \\\n",
       "0  {(Will, straight), (straight, swap), (swap, Renault), (That, awesome), (Twingo, Extreme), (Renault, Twingo), (Extreme, That)}   \n",
       "\n",
       "                                                                                                                                                       3 grams  \\\n",
       "0  {(Renault, Twingo, Extreme), (Extreme, That, awesome), (straight, swap, Renault), (Will, straight, swap), (Twingo, Extreme, That), (swap, Renault, Twingo)}   \n",
       "\n",
       "                                                                                                                                                                      4 grams  \n",
       "0  {(Renault, Twingo, Extreme, That), (straight, swap, Renault, Twingo), (swap, Renault, Twingo, Extreme), (Will, straight, swap, Renault), (Twingo, Extreme, That, awesome)}  "
      ]
     },
     "execution_count": 154,
     "metadata": {},
     "output_type": "execute_result"
    }
   ],
   "source": [
    "# Choosing a raneg from 1-4 beacuse anything more than 3 will result in no similar reults \n",
    "for i in range(1, 5):\n",
    "    tweets_df[f'{i} grams'] = tweets_df['text_tokens'].apply(lambda x: set(nltk.ngrams(x, i)))\n",
    "\n",
    "tweets_df.head(1)"
   ]
  },
  {
   "cell_type": "code",
   "execution_count": 155,
   "metadata": {},
   "outputs": [],
   "source": [
    "# Creating a df with all possible combination of tweets numbers for comparison\n",
    "jaccard = pd.DataFrame(list(combinations(range(tweets_df.shape[0]),2)), columns=['Tweet A', 'Tweet B'])"
   ]
  },
  {
   "cell_type": "code",
   "execution_count": 156,
   "metadata": {},
   "outputs": [],
   "source": [
    "n = list(combinations(range(tweets_df.shape[0]),2))"
   ]
  },
  {
   "cell_type": "code",
   "execution_count": 157,
   "metadata": {},
   "outputs": [],
   "source": [
    "# Computing Jaccard distance for all possble tweets combinations\n",
    "cols = list(tweets_df.columns)[7:]\n",
    "for col in cols:\n",
    "    jaccard[f'distance_{col}'] = [nltk.jaccard_distance(tweets_df[col].iloc[x[0]], tweets_df[col].iloc[x[1]]) if tweets_df[col].iloc[x[0]].union(tweets_df[col].iloc[x[1]]) else 0 for x in n]"
   ]
  },
  {
   "cell_type": "code",
   "execution_count": 158,
   "metadata": {},
   "outputs": [
    {
     "name": "stderr",
     "output_type": "stream",
     "text": [
      "posx and posy should be finite values\n",
      "posx and posy should be finite values\n"
     ]
    },
    {
     "data": {
      "image/png": "[encoded data removed]",
      "text/plain": [
       "<Figure size 864x432 with 1 Axes>"
      ]
     },
     "metadata": {
      "needs_background": "light"
     },
     "output_type": "display_data"
    }
   ],
   "source": [
    "# Plotting a line graph to project percentage change between average jaccard values.  \n",
    "column_means = jaccard.iloc[:, 2:].mean()\n",
    "diffs = column_means.diff()\n",
    "pct_change = (diffs / column_means.shift()) * 100\n",
    "\n",
    "plt.figure(figsize=(12, 6))\n",
    "ax = sns.lineplot(data=pct_change, color='black')\n",
    "plt.title('Percentage Change in Average Jaccard N-Gram Values', fontsize=16)\n",
    "sns.scatterplot(data=pct_change, color='red', marker='o', s=80)\n",
    "\n",
    "for i, v in enumerate(pct_change):\n",
    "    ax.text(i, v, str(round(v, 2)), ha='left', va='bottom', fontsize=12)\n",
    "\n",
    "plt.show()"
   ]
  },
  {
   "cell_type": "markdown",
   "metadata": {},
   "source": [
    "### The optimal n. \n",
    "\n",
    "As mentioned earlier, to choose optimal n, I calculated the average jaccard distances for varying n, and plotted n vs average jaccard. Based on the plot of average Jaccard similarity versus n-gram size, we can see that the percentage change in average Jaccard similarity decreases beyond **n=2**. This suggests that increasing the n-gram size beyond 2 may not significantly increase the capture of Jaccard similarity between the text documents. Therefore, choosing n=2 appears to be the optimal choice for capturing Jaccard similarity in this dataset."
   ]
  },
  {
   "cell_type": "code",
   "execution_count": 160,
   "metadata": {},
   "outputs": [],
   "source": [
    "temp = jaccard"
   ]
  },
  {
   "cell_type": "code",
   "execution_count": 161,
   "metadata": {},
   "outputs": [
    {
     "data": {
      "text/html": [
       "<div>\n",
       "<style scoped>\n",
       "    .dataframe tbody tr th:only-of-type {\n",
       "        vertical-align: middle;\n",
       "    }\n",
       "\n",
       "    .dataframe tbody tr th {\n",
       "        vertical-align: top;\n",
       "    }\n",
       "\n",
       "    .dataframe thead th {\n",
       "        text-align: right;\n",
       "    }\n",
       "</style>\n",
       "<table border=\"1\" class=\"dataframe\">\n",
       "  <thead>\n",
       "    <tr style=\"text-align: right;\">\n",
       "      <th></th>\n",
       "      <th>Tweet A</th>\n",
       "      <th>Tweet B</th>\n",
       "      <th>distance_2 grams</th>\n",
       "    </tr>\n",
       "  </thead>\n",
       "  <tbody>\n",
       "    <tr>\n",
       "      <th>0</th>\n",
       "      <td>Mahindra Teases Its Future Electric Lineup! | Motoroids Motoroids BlogMotoroids Forum AuthorsContact usSubmit storyAdvertise with usPrivacy Policy Search HomeAuto NewsFeaturesLaunchesUpcoming CarsUpcoming SUVsUpcoming BikesRecent LaunchesReviewsModsModified BikesModified CarsInteresting / Off-beatLists100cc Bikes110cc Bikes125cc Bikes150cc Bikes160cc Bikes200cc Bikes250cc Bikes300cc – 350cc BikesBikes In IndiaCars in IndiaForums Trending: Triumph Trident 660 Gets Pricier! HomeNewsMahindra Te...</td>\n",
       "      <td>Mahindra Bikes Car Dealers - Mahindra Bikes Showrooms in India Explore  Friday, 7 January 2022 Log in/Sign up SearchNotificationsTop SectionsAuto NewsCar NewsBike NewsLatestAuto NewsPhotosVideosElectric VehiclesTrendingMy ReadsOffersnewFind carsFind bikesCompare carsCompare bikesEMI calculatorDealersExplore AutoAbout UsContact UsSITEMAPRSSTerms of UsePrivacy PolicyCopyright © HT Media Limited All rights reserved.HomeOffersnewFind carsFind bikesCompare carsCompare bikesEMI calculatorDealersCa...</td>\n",
       "      <td>0.000000</td>\n",
       "    </tr>\n",
       "    <tr>\n",
       "      <th>1</th>\n",
       "      <td>Connected car apps stealing your data without consent, warn expertsContribute VideosSearchE paperContributeLoginHomeNewsNationalInternationalIndiaBusinessSportsSci technologyInterviewsDemonetisationDemocracyInstitutionGovernanceOpinionEditorialVoicesDissentInvestigationCorruptionCrimePoliticsArchivesCafeReviews &amp; RecommendationsPeopleBook ExtractsFilmsArtEntertainmentYoung IndiaCampusEducationVideosEYE ON RSSSubscribe NewspaperContribute VideosSearchFollow UsE paperContributeLoginScience and...</td>\n",
       "      <td>Me &amp; My Car: Jeremy Corbett and his 7 Days a week SUV - ME &amp; MY CAR - DrivenCars For SaleNewsNewsVideosZooming with DRIVENEV/HybridMotorsportClean Car CalculatorReviewsReviewsLong-term testAdviceAdviceBuying &amp; Selling TipsCar Maintenance TipsFinance &amp; InsuranceCar Value CalculatorHow it worksHow it worksWho we areLoginLoginORRegisterCloseLoginWelcome to DrivenRemember meLoginForgot your password?Not registered yet?Login with social media Login with Facebook  Login with Google CloseKeep up to...</td>\n",
       "      <td>0.095238</td>\n",
       "    </tr>\n",
       "    <tr>\n",
       "      <th>2</th>\n",
       "      <td>Volkswagen picks San Diego's Qualcomm to supply chips for autonomous driving efforts - The San Diego Union-Tribune              News    Local    Sports    Business    Entertainment    Lifestyle    Opinion    Real Estate News    Hot Property    eNewspaper    U-T En Español: Periódico Electrónico    ________________    Subscriptions    Manage Subscription EZPay Delivery Issue eNewspaper Subscribe Subscriber Terms Gift Subscription Terms  Manage Subscription EZPay Del...</td>\n",
       "      <td>Brazilians arrested with cocaine in Thailand; Family of young woman asks for help to avoid execution - Brazil                             About Us Our Team Privacy Policy DMCA Policy Contact Us     Play Crazy Game Trusted Gaming News Portal News Games PC PS4 Xbox One Switch  Entertainment Celebrity News  Technology   Breaking News Leaks image of SUV at factory in Italy Queen Elizabeth II tests positive for Covid-19, confirms Buckingham Palace | coronavirus pandemic Who is Vladimir Putin, the...</td>\n",
       "      <td>0.100000</td>\n",
       "    </tr>\n",
       "    <tr>\n",
       "      <th>3</th>\n",
       "      <td>Bay Street Seen Opening Higher  ▮ Home ▮ Business                    Latest HeadlinesTop StoriesBreaking                    NewsEarningsBiotechInvestorsStock AlertsIPOsM&amp;ACanadianUKKey Wallstreet                    Events▮ Industry                    News                            Technology                            Software                            Banking                            Automotive                            EnergyMore▮ Corp. CalendarsDividendsStock                         ...</td>\n",
       "      <td>Toyota Sales Figures - May 2022                            HOME  CAR NEWS   Alfa Romeo Audi Bentley BMW Bugatti Chevrolet Citroen Dacia Daihatsu Datsun   DC Design Ferrari Fiat Ford Honda Hyundai Infiniti Isuzu Jaguar Jeep   Kia Lada Lamborghini Land Rover Lexus Mahindra Maruti Suzuki Maserati Mazda McLaren   Mercedes-Benz Mini Mitsubishi Nissan Opel Perodua Peugeot Porsche Proton Renault   Rolls Royce Skoda Ssangyong Suzuki Tata Tesla Toyota Volkswagen Volvo MG     BIKE NEWS   Apri...</td>\n",
       "      <td>0.230769</td>\n",
       "    </tr>\n",
       "    <tr>\n",
       "      <th>4</th>\n",
       "      <td>Lamborghini Huracan Sto Car Discount Offers in Orai for March 2022 Explore  Tuesday, 15 March 2022 Log in/Sign up SearchNotificationsTop SectionsAuto NewsCar NewsBike NewsLatestAuto NewsPhotosVideosElectric VehiclesTrendingMy ReadsOffersnewFind carsFind bikesCompare carsCompare bikesEMI calculatorDealersExplore AutoAbout UsContact UsSITEMAPRSSTerms of UsePrivacy PolicyCopyright © HT Media Limited All rights reserved.HomeOffersnewFind carsFind bikesCompare carsCompare bikesEMI calculatorDeale...</td>\n",
       "      <td>Toyota Urban Cruiser Car Discount Offers in Mahrajganj for March 2022 Explore  Wednesday, 16 March 2022 Log in/Sign up SearchNotificationsTop SectionsAuto NewsCar NewsBike NewsLatestAuto NewsPhotosVideosElectric VehiclesTrendingMy ReadsOffersnewFind carsFind bikesCompare carsCompare bikesEMI calculatorDealersExplore AutoAbout UsContact UsSITEMAPRSSTerms of UsePrivacy PolicyCopyright © HT Media Limited All rights reserved.HomeOffersnewFind carsFind bikesCompare carsCompare bikesEMI calculator...</td>\n",
       "      <td>0.310345</td>\n",
       "    </tr>\n",
       "    <tr>\n",
       "      <th>5</th>\n",
       "      <td>Auto players battle for glory in the compact SUV segment with new launches - The Hindu BusinessLineE-PaperHomeNewsNationalScienceSportsWorldVarietyEducationReal EstateMarketsStocksForexCommoditiesGold &amp; SilverToday's PickCompaniesIndexInfo-techComputers &amp; LaptopsHow-ToMobiles &amp; TabletsOther GadgetsSocial MediaOpinionEditorialColumnsQuick TakeLettersBooksBlogsPortfolioPersonal FinanceBig StoryDerivativesStock FundamentalsMutual FundsDay trading guidePortfolio MediaTechnical AnalysisNews Analy...</td>\n",
       "      <td>Toyota Urban Cruiser Car Discount Offers in Junagadh for March 2022 Explore  Wednesday, 16 March 2022 Log in/Sign up SearchNotificationsTop SectionsAuto NewsCar NewsBike NewsLatestAuto NewsPhotosVideosElectric VehiclesTrendingMy ReadsOffersnewFind carsFind bikesCompare carsCompare bikesEMI calculatorDealersExplore AutoAbout UsContact UsSITEMAPRSSTerms of UsePrivacy PolicyCopyright © HT Media Limited All rights reserved.HomeOffersnewFind carsFind bikesCompare carsCompare bikesEMI calculatorDe...</td>\n",
       "      <td>0.375000</td>\n",
       "    </tr>\n",
       "    <tr>\n",
       "      <th>6</th>\n",
       "      <td>France issues arrest warrant for disgraced auto tycoon Ghosn | KNWA FOX24Skip to contentKNWA FOX24Fayetteville76°Fayetteville76°Sponsored By  Toggle MenuOpen NavigationClose NavigationSearchPlease enter a search term.Primary MenuNewsKNWAFOX24Around ArkansasRussia and Ukraine ConflictAround the RegionCoronavirusJosh Duggar TrialLive Streams 📺Local NewsNational News 🇺🇸Northwest Arkansas NewsRiver Valley NewsWashington-DCYour Local Election HQ 🗳️Automotive NewsBestReviewsBestReviews Daily Deal...</td>\n",
       "      <td>Husqvarna Bikes Car Dealers - Husqvarna Bikes Showrooms in India Explore  Saturday, 8 January 2022 Log in/Sign up SearchNotificationsTop SectionsAuto NewsCar NewsBike NewsLatestAuto NewsPhotosVideosElectric VehiclesTrendingMy ReadsOffersnewFind carsFind bikesCompare carsCompare bikesEMI calculatorDealersExplore AutoAbout UsContact UsSITEMAPRSSTerms of UsePrivacy PolicyCopyright © HT Media Limited All rights reserved.HomeOffersnewFind carsFind bikesCompare carsCompare bikesEMI calculatorDeale...</td>\n",
       "      <td>0.391304</td>\n",
       "    </tr>\n",
       "    <tr>\n",
       "      <th>7</th>\n",
       "      <td>Metron Aviation Demos Air Traffic Predictive Data and Fuel Reduction Tool — 2022 World ATM Congress, Madrid – Turkey News GazetteSkip to content Turkey News GazetteBetter than Best Menu BusinessEducationGeneralHealth CareForeign AffairsGamesHuman RightsPress Release  Turkey News GazetteBetter than Best BusinessEducationGeneralHealth CareForeign AffairsGamesHuman RightsPress Release HomeMENAMetron Aviation Demos Air Traffic Predictive Data and Fuel Reduction Tool — 2022 World ATM Congress, Ma...</td>\n",
       "      <td>Moderna says aims to name 'country of choice' for COVID... | Daily Mail Online HomeU.K.NewsSportsU.S. ShowbizAustraliaFemailHealthScienceMoneyVideoTravelShopDailyMailTVWires HomeMy ProfileLogout              Login            Privacy PolicyFeedbackThursday, Jan 20th 20221PM32°F4PM31°F5-Day Forecast AdvertisementModerna says aims to name 'country of choice' for COVID vaccine production in Africa soon By Reuters   Published:  11:58 EST, 20 January 2022   |  Updated:  11:58 EST, 20 January 2022 ...</td>\n",
       "      <td>0.404762</td>\n",
       "    </tr>\n",
       "    <tr>\n",
       "      <th>8</th>\n",
       "      <td>Nervous staff and no bankers: Western firms struggle to exit Russia WORLDMiddle EastAfricaIndian Sub-continentChina and Asia Pacific UK and EuropeAmericasRussiaECONOMYGlobalGCCAfricaLevantNorth AfricaISLAMIC ECONOMYIslamic FinanceIslamic BusinessBUSINESSAviationBanking &amp; InsuranceCareersEducationEnergyFintechHealthcareHospitalityManufacturingReal EstateRetail &amp; ConsumerTechnology and TelecomTransport and LogisticsTravel and TourismSMEsFinance MarketingTechnologyLegalPeopleMARKETSCommoditiesC...</td>\n",
       "      <td>Toyota Urban Cruiser Car Discount Offers in Hardoi for March 2022 Explore  Wednesday, 16 March 2022 Log in/Sign up SearchNotificationsTop SectionsAuto NewsCar NewsBike NewsLatestAuto NewsPhotosVideosElectric VehiclesTrendingMy ReadsOffersnewFind carsFind bikesCompare carsCompare bikesEMI calculatorDealersExplore AutoAbout UsContact UsSITEMAPRSSTerms of UsePrivacy PolicyCopyright © HT Media Limited All rights reserved.HomeOffersnewFind carsFind bikesCompare carsCompare bikesEMI calculatorDeal...</td>\n",
       "      <td>0.428571</td>\n",
       "    </tr>\n",
       "    <tr>\n",
       "      <th>9</th>\n",
       "      <td>Metron Aviation Demos Air Traffic Predictive Data and Fuel Reduction Tool — 2022 World ATM Congress, Madrid – Turkey News GazetteSkip to content Turkey News GazetteBetter than Best Menu BusinessEducationGeneralHealth CareForeign AffairsGamesHuman RightsPress Release  Turkey News GazetteBetter than Best BusinessEducationGeneralHealth CareForeign AffairsGamesHuman RightsPress Release HomeMENAMetron Aviation Demos Air Traffic Predictive Data and Fuel Reduction Tool — 2022 World ATM Congress, Ma...</td>\n",
       "      <td>Toyota Urban Cruiser Car Discount Offers in Malsiras for March 2022 Explore  Wednesday, 16 March 2022 Log in/Sign up SearchNotificationsTop SectionsAuto NewsCar NewsBike NewsLatestAuto NewsPhotosVideosElectric VehiclesTrendingMy ReadsOffersnewFind carsFind bikesCompare carsCompare bikesEMI calculatorDealersExplore AutoAbout UsContact UsSITEMAPRSSTerms of UsePrivacy PolicyCopyright © HT Media Limited All rights reserved.HomeOffersnewFind carsFind bikesCompare carsCompare bikesEMI calculatorDe...</td>\n",
       "      <td>0.487805</td>\n",
       "    </tr>\n",
       "  </tbody>\n",
       "</table>\n",
       "</div>"
      ],
      "text/plain": [
       "                                                                                                                                                                                                                                                                                                                                                                                                                                                                                                               Tweet A  \\\n",
       "0  Mahindra Teases Its Future Electric Lineup! | Motoroids Motoroids BlogMotoroids Forum AuthorsContact usSubmit storyAdvertise with usPrivacy Policy Search HomeAuto NewsFeaturesLaunchesUpcoming CarsUpcoming SUVsUpcoming BikesRecent LaunchesReviewsModsModified BikesModified CarsInteresting / Off-beatLists100cc Bikes110cc Bikes125cc Bikes150cc Bikes160cc Bikes200cc Bikes250cc Bikes300cc – 350cc BikesBikes In IndiaCars in IndiaForums Trending: Triumph Trident 660 Gets Pricier! HomeNewsMahindra Te...   \n",
       "1  Connected car apps stealing your data without consent, warn expertsContribute VideosSearchE paperContributeLoginHomeNewsNationalInternationalIndiaBusinessSportsSci technologyInterviewsDemonetisationDemocracyInstitutionGovernanceOpinionEditorialVoicesDissentInvestigationCorruptionCrimePoliticsArchivesCafeReviews & RecommendationsPeopleBook ExtractsFilmsArtEntertainmentYoung IndiaCampusEducationVideosEYE ON RSSSubscribe NewspaperContribute VideosSearchFollow UsE paperContributeLoginScience and...   \n",
       "2                             Volkswagen picks San Diego's Qualcomm to supply chips for autonomous driving efforts - The San Diego Union-Tribune              News    Local    Sports    Business    Entertainment    Lifestyle    Opinion    Real Estate News    Hot Property    eNewspaper    U-T En Español: Periódico Electrónico    ________________    Subscriptions    Manage Subscription EZPay Delivery Issue eNewspaper Subscribe Subscriber Terms Gift Subscription Terms  Manage Subscription EZPay Del...   \n",
       "3  Bay Street Seen Opening Higher  ▮ Home ▮ Business                    Latest HeadlinesTop StoriesBreaking                    NewsEarningsBiotechInvestorsStock AlertsIPOsM&ACanadianUKKey Wallstreet                    Events▮ Industry                    News                            Technology                            Software                            Banking                            Automotive                            EnergyMore▮ Corp. CalendarsDividendsStock                         ...   \n",
       "4  Lamborghini Huracan Sto Car Discount Offers in Orai for March 2022 Explore  Tuesday, 15 March 2022 Log in/Sign up SearchNotificationsTop SectionsAuto NewsCar NewsBike NewsLatestAuto NewsPhotosVideosElectric VehiclesTrendingMy ReadsOffersnewFind carsFind bikesCompare carsCompare bikesEMI calculatorDealersExplore AutoAbout UsContact UsSITEMAPRSSTerms of UsePrivacy PolicyCopyright © HT Media Limited All rights reserved.HomeOffersnewFind carsFind bikesCompare carsCompare bikesEMI calculatorDeale...   \n",
       "5  Auto players battle for glory in the compact SUV segment with new launches - The Hindu BusinessLineE-PaperHomeNewsNationalScienceSportsWorldVarietyEducationReal EstateMarketsStocksForexCommoditiesGold & SilverToday's PickCompaniesIndexInfo-techComputers & LaptopsHow-ToMobiles & TabletsOther GadgetsSocial MediaOpinionEditorialColumnsQuick TakeLettersBooksBlogsPortfolioPersonal FinanceBig StoryDerivativesStock FundamentalsMutual FundsDay trading guidePortfolio MediaTechnical AnalysisNews Analy...   \n",
       "6   France issues arrest warrant for disgraced auto tycoon Ghosn | KNWA FOX24Skip to contentKNWA FOX24Fayetteville76°Fayetteville76°Sponsored By  Toggle MenuOpen NavigationClose NavigationSearchPlease enter a search term.Primary MenuNewsKNWAFOX24Around ArkansasRussia and Ukraine ConflictAround the RegionCoronavirusJosh Duggar TrialLive Streams 📺Local NewsNational News 🇺🇸Northwest Arkansas NewsRiver Valley NewsWashington-DCYour Local Election HQ 🗳️Automotive NewsBestReviewsBestReviews Daily Deal...   \n",
       "7  Metron Aviation Demos Air Traffic Predictive Data and Fuel Reduction Tool — 2022 World ATM Congress, Madrid – Turkey News GazetteSkip to content Turkey News GazetteBetter than Best Menu BusinessEducationGeneralHealth CareForeign AffairsGamesHuman RightsPress Release  Turkey News GazetteBetter than Best BusinessEducationGeneralHealth CareForeign AffairsGamesHuman RightsPress Release HomeMENAMetron Aviation Demos Air Traffic Predictive Data and Fuel Reduction Tool — 2022 World ATM Congress, Ma...   \n",
       "8  Nervous staff and no bankers: Western firms struggle to exit Russia WORLDMiddle EastAfricaIndian Sub-continentChina and Asia Pacific UK and EuropeAmericasRussiaECONOMYGlobalGCCAfricaLevantNorth AfricaISLAMIC ECONOMYIslamic FinanceIslamic BusinessBUSINESSAviationBanking & InsuranceCareersEducationEnergyFintechHealthcareHospitalityManufacturingReal EstateRetail & ConsumerTechnology and TelecomTransport and LogisticsTravel and TourismSMEsFinance MarketingTechnologyLegalPeopleMARKETSCommoditiesC...   \n",
       "9  Metron Aviation Demos Air Traffic Predictive Data and Fuel Reduction Tool — 2022 World ATM Congress, Madrid – Turkey News GazetteSkip to content Turkey News GazetteBetter than Best Menu BusinessEducationGeneralHealth CareForeign AffairsGamesHuman RightsPress Release  Turkey News GazetteBetter than Best BusinessEducationGeneralHealth CareForeign AffairsGamesHuman RightsPress Release HomeMENAMetron Aviation Demos Air Traffic Predictive Data and Fuel Reduction Tool — 2022 World ATM Congress, Ma...   \n",
       "\n",
       "                                                                                                                                                                                                                                                                                                                                                                                                                                                                                                               Tweet B  \\\n",
       "0  Mahindra Bikes Car Dealers - Mahindra Bikes Showrooms in India Explore  Friday, 7 January 2022 Log in/Sign up SearchNotificationsTop SectionsAuto NewsCar NewsBike NewsLatestAuto NewsPhotosVideosElectric VehiclesTrendingMy ReadsOffersnewFind carsFind bikesCompare carsCompare bikesEMI calculatorDealersExplore AutoAbout UsContact UsSITEMAPRSSTerms of UsePrivacy PolicyCopyright © HT Media Limited All rights reserved.HomeOffersnewFind carsFind bikesCompare carsCompare bikesEMI calculatorDealersCa...   \n",
       "1  Me & My Car: Jeremy Corbett and his 7 Days a week SUV - ME & MY CAR - DrivenCars For SaleNewsNewsVideosZooming with DRIVENEV/HybridMotorsportClean Car CalculatorReviewsReviewsLong-term testAdviceAdviceBuying & Selling TipsCar Maintenance TipsFinance & InsuranceCar Value CalculatorHow it worksHow it worksWho we areLoginLoginORRegisterCloseLoginWelcome to DrivenRemember meLoginForgot your password?Not registered yet?Login with social media Login with Facebook  Login with Google CloseKeep up to...   \n",
       "2  Brazilians arrested with cocaine in Thailand; Family of young woman asks for help to avoid execution - Brazil                             About Us Our Team Privacy Policy DMCA Policy Contact Us     Play Crazy Game Trusted Gaming News Portal News Games PC PS4 Xbox One Switch  Entertainment Celebrity News  Technology   Breaking News Leaks image of SUV at factory in Italy Queen Elizabeth II tests positive for Covid-19, confirms Buckingham Palace | coronavirus pandemic Who is Vladimir Putin, the...   \n",
       "3           Toyota Sales Figures - May 2022                            HOME  CAR NEWS   Alfa Romeo Audi Bentley BMW Bugatti Chevrolet Citroen Dacia Daihatsu Datsun   DC Design Ferrari Fiat Ford Honda Hyundai Infiniti Isuzu Jaguar Jeep   Kia Lada Lamborghini Land Rover Lexus Mahindra Maruti Suzuki Maserati Mazda McLaren   Mercedes-Benz Mini Mitsubishi Nissan Opel Perodua Peugeot Porsche Proton Renault   Rolls Royce Skoda Ssangyong Suzuki Tata Tesla Toyota Volkswagen Volvo MG     BIKE NEWS   Apri...   \n",
       "4  Toyota Urban Cruiser Car Discount Offers in Mahrajganj for March 2022 Explore  Wednesday, 16 March 2022 Log in/Sign up SearchNotificationsTop SectionsAuto NewsCar NewsBike NewsLatestAuto NewsPhotosVideosElectric VehiclesTrendingMy ReadsOffersnewFind carsFind bikesCompare carsCompare bikesEMI calculatorDealersExplore AutoAbout UsContact UsSITEMAPRSSTerms of UsePrivacy PolicyCopyright © HT Media Limited All rights reserved.HomeOffersnewFind carsFind bikesCompare carsCompare bikesEMI calculator...   \n",
       "5  Toyota Urban Cruiser Car Discount Offers in Junagadh for March 2022 Explore  Wednesday, 16 March 2022 Log in/Sign up SearchNotificationsTop SectionsAuto NewsCar NewsBike NewsLatestAuto NewsPhotosVideosElectric VehiclesTrendingMy ReadsOffersnewFind carsFind bikesCompare carsCompare bikesEMI calculatorDealersExplore AutoAbout UsContact UsSITEMAPRSSTerms of UsePrivacy PolicyCopyright © HT Media Limited All rights reserved.HomeOffersnewFind carsFind bikesCompare carsCompare bikesEMI calculatorDe...   \n",
       "6  Husqvarna Bikes Car Dealers - Husqvarna Bikes Showrooms in India Explore  Saturday, 8 January 2022 Log in/Sign up SearchNotificationsTop SectionsAuto NewsCar NewsBike NewsLatestAuto NewsPhotosVideosElectric VehiclesTrendingMy ReadsOffersnewFind carsFind bikesCompare carsCompare bikesEMI calculatorDealersExplore AutoAbout UsContact UsSITEMAPRSSTerms of UsePrivacy PolicyCopyright © HT Media Limited All rights reserved.HomeOffersnewFind carsFind bikesCompare carsCompare bikesEMI calculatorDeale...   \n",
       "7  Moderna says aims to name 'country of choice' for COVID... | Daily Mail Online HomeU.K.NewsSportsU.S. ShowbizAustraliaFemailHealthScienceMoneyVideoTravelShopDailyMailTVWires HomeMy ProfileLogout              Login            Privacy PolicyFeedbackThursday, Jan 20th 20221PM32°F4PM31°F5-Day Forecast AdvertisementModerna says aims to name 'country of choice' for COVID vaccine production in Africa soon By Reuters   Published:  11:58 EST, 20 January 2022   |  Updated:  11:58 EST, 20 January 2022 ...   \n",
       "8  Toyota Urban Cruiser Car Discount Offers in Hardoi for March 2022 Explore  Wednesday, 16 March 2022 Log in/Sign up SearchNotificationsTop SectionsAuto NewsCar NewsBike NewsLatestAuto NewsPhotosVideosElectric VehiclesTrendingMy ReadsOffersnewFind carsFind bikesCompare carsCompare bikesEMI calculatorDealersExplore AutoAbout UsContact UsSITEMAPRSSTerms of UsePrivacy PolicyCopyright © HT Media Limited All rights reserved.HomeOffersnewFind carsFind bikesCompare carsCompare bikesEMI calculatorDeal...   \n",
       "9  Toyota Urban Cruiser Car Discount Offers in Malsiras for March 2022 Explore  Wednesday, 16 March 2022 Log in/Sign up SearchNotificationsTop SectionsAuto NewsCar NewsBike NewsLatestAuto NewsPhotosVideosElectric VehiclesTrendingMy ReadsOffersnewFind carsFind bikesCompare carsCompare bikesEMI calculatorDealersExplore AutoAbout UsContact UsSITEMAPRSSTerms of UsePrivacy PolicyCopyright © HT Media Limited All rights reserved.HomeOffersnewFind carsFind bikesCompare carsCompare bikesEMI calculatorDe...   \n",
       "\n",
       "   distance_2 grams  \n",
       "0          0.000000  \n",
       "1          0.095238  \n",
       "2          0.100000  \n",
       "3          0.230769  \n",
       "4          0.310345  \n",
       "5          0.375000  \n",
       "6          0.391304  \n",
       "7          0.404762  \n",
       "8          0.428571  \n",
       "9          0.487805  "
      ]
     },
     "execution_count": 161,
     "metadata": {},
     "output_type": "execute_result"
    }
   ],
   "source": [
    "# Most similar articles when n = 2\n",
    "top10 = temp.groupby('distance_2 grams').first().reset_index()[['Tweet A', 'Tweet B', 'distance_2 grams']]\n",
    "top10[['Tweet A', 'Tweet B']] = top10[['Tweet A', 'Tweet B']].apply(lambda x: news_df.loc[x]['text'].values)\n",
    "\n",
    "top10.head(10)"
   ]
  },
  {
   "cell_type": "code",
   "execution_count": 162,
   "metadata": {},
   "outputs": [
    {
     "data": {
      "text/html": [
       "<div>\n",
       "<style scoped>\n",
       "    .dataframe tbody tr th:only-of-type {\n",
       "        vertical-align: middle;\n",
       "    }\n",
       "\n",
       "    .dataframe tbody tr th {\n",
       "        vertical-align: top;\n",
       "    }\n",
       "\n",
       "    .dataframe thead th {\n",
       "        text-align: right;\n",
       "    }\n",
       "</style>\n",
       "<table border=\"1\" class=\"dataframe\">\n",
       "  <thead>\n",
       "    <tr style=\"text-align: right;\">\n",
       "      <th></th>\n",
       "      <th>Tweet A</th>\n",
       "      <th>Tweet B</th>\n",
       "      <th>distance_2 grams</th>\n",
       "    </tr>\n",
       "  </thead>\n",
       "  <tbody>\n",
       "    <tr>\n",
       "      <th>124</th>\n",
       "      <td>Lml Bikes Car Dealers - Lml Bikes Showrooms in India Explore  Friday, 21 January 2022 Log in/Sign up SearchNotificationsTop SectionsAuto NewsCar NewsBike NewsLatestAuto NewsPhotosVideosElectric VehiclesTrendingMy ReadsOffersnewFind carsFind bikesCompare carsCompare bikesEMI calculatorDealersExplore AutoAbout UsContact UsSITEMAPRSSTerms of UsePrivacy PolicyCopyright © HT Media Limited All rights reserved.HomeOffersnewFind carsFind bikesCompare carsCompare bikesEMI calculatorDealersCar NewsBik...</td>\n",
       "      <td>Pure Ev Bikes Car Dealers - Pure Ev Bikes Showrooms in India Explore  Friday, 21 January 2022 Log in/Sign up SearchNotificationsTop SectionsAuto NewsCar NewsBike NewsLatestAuto NewsPhotosVideosElectric VehiclesTrendingMy ReadsOffersnewFind carsFind bikesCompare carsCompare bikesEMI calculatorDealersExplore AutoAbout UsContact UsSITEMAPRSSTerms of UsePrivacy PolicyCopyright © HT Media Limited All rights reserved.HomeOffersnewFind carsFind bikesCompare carsCompare bikesEMI calculatorDealersCar...</td>\n",
       "      <td>1.000000</td>\n",
       "    </tr>\n",
       "    <tr>\n",
       "      <th>123</th>\n",
       "      <td>Bugatti Car Dealers - Bugatti Showrooms in India Explore  Friday, 21 January 2022 Log in/Sign up SearchNotificationsTop SectionsAuto NewsCar NewsBike NewsLatestAuto NewsPhotosVideosElectric VehiclesTrendingMy ReadsOffersnewFind carsFind bikesCompare carsCompare bikesEMI calculatorDealersExplore AutoAbout UsContact UsSITEMAPRSSTerms of UsePrivacy PolicyCopyright © HT Media Limited All rights reserved.HomeOffersnewFind carsFind bikesCompare carsCompare bikesEMI calculatorDealersCar NewsBike Ne...</td>\n",
       "      <td>Big Alfa Romeo crossover is going to save Alfa! - Pledge Times About UsDisclaimer for Pledge TimesT &amp; CWrite To Us     Sunday, July 31, 2022 Pledge Times WorldBusinessGamingTechEntertainmentScienceLifestyleHealthSports WorldBusinessGamingTechEntertainmentScienceLifestyleHealthSports        No Result     View All Result               Pledge Times             No Result     View All Result        HomeWorld Europe Big Alfa Romeo crossover is going to save Alfa!byadmin_l6ma5gus July 31, 2022inW...</td>\n",
       "      <td>0.981818</td>\n",
       "    </tr>\n",
       "    <tr>\n",
       "      <th>122</th>\n",
       "      <td>Porsche Cayenne Coupe Car Discount Offers in Giridih for March 2022 Explore  Wednesday, 16 March 2022 Log in/Sign up SearchNotificationsTop SectionsAuto NewsCar NewsBike NewsLatestAuto NewsPhotosVideosElectric VehiclesTrendingMy ReadsOffersnewFind carsFind bikesCompare carsCompare bikesEMI calculatorDealersExplore AutoAbout UsContact UsSITEMAPRSSTerms of UsePrivacy PolicyCopyright © HT Media Limited All rights reserved.HomeOffersnewFind carsFind bikesCompare carsCompare bikesEMI calculatorDe...</td>\n",
       "      <td>Audi A8 L Car Discount Offers in Akbarpur (Rajasthan) for March 2022 Explore  Sunday, 13 March 2022 Log in/Sign up SearchNotificationsTop SectionsAuto NewsCar NewsBike NewsLatestAuto NewsPhotosVideosElectric VehiclesTrendingMy ReadsOffersnewFind carsFind bikesCompare carsCompare bikesEMI calculatorDealersExplore AutoAbout UsContact UsSITEMAPRSSTerms of UsePrivacy PolicyCopyright © HT Media Limited All rights reserved.HomeOffersnewFind carsFind bikesCompare carsCompare bikesEMI calculatorDeal...</td>\n",
       "      <td>0.981481</td>\n",
       "    </tr>\n",
       "    <tr>\n",
       "      <th>121</th>\n",
       "      <td>Mahindra Bolero Neo Car Discount Offers in West Godavari for March 2022 Explore  Tuesday, 15 March 2022 Log in/Sign up SearchNotificationsTop SectionsAuto NewsCar NewsBike NewsLatestAuto NewsPhotosVideosElectric VehiclesTrendingMy ReadsOffersnewFind carsFind bikesCompare carsCompare bikesEMI calculatorDealersExplore AutoAbout UsContact UsSITEMAPRSSTerms of UsePrivacy PolicyCopyright © HT Media Limited All rights reserved.HomeOffersnewFind carsFind bikesCompare carsCompare bikesEMI calculator...</td>\n",
       "      <td>Toyota Urban Cruiser Car Discount Offers in Ghogha for March 2022 Explore  Wednesday, 16 March 2022 Log in/Sign up SearchNotificationsTop SectionsAuto NewsCar NewsBike NewsLatestAuto NewsPhotosVideosElectric VehiclesTrendingMy ReadsOffersnewFind carsFind bikesCompare carsCompare bikesEMI calculatorDealersExplore AutoAbout UsContact UsSITEMAPRSSTerms of UsePrivacy PolicyCopyright © HT Media Limited All rights reserved.HomeOffersnewFind carsFind bikesCompare carsCompare bikesEMI calculatorDeal...</td>\n",
       "      <td>0.981132</td>\n",
       "    </tr>\n",
       "    <tr>\n",
       "      <th>120</th>\n",
       "      <td>Russia's Avtovaz names ex-transport minister as CEO... | Daily Mail Online  HomeU.K.NewsSportsU.S. ShowbizAustraliaFemailHealthScienceMoneyVideoTravelShopDailyMailTVWires HomeMy ProfileLogout              Login            Privacy PolicyFeedbackMonday, May 23rd 20227AM59°F10AM67°F5-Day Forecast AdvertisementRussia's Avtovaz names ex-transport minister as CEO after Renault exit By Reuters   Published:  06:42 EDT, 23 May 2022   |  Updated:  06:42 EDT, 23 May 2022                 e-mail         ...</td>\n",
       "      <td>VivaTech, Europe's number one startup and tech event, makes its big comeback with more than 91,000 participants in ParisSkip to contentConnect. Shop. Support Local.LawCallCareersAsk the ExpertsSt. Jude Dream HomeNewsWatch LiveTrafficWeatherSportsMississippi WeekendGreat Health DivideWhat's On TVAbout UsSearchHomeSt. Jude Dream HomeWatch LiveWLBT AppsSubmit Your PicsConnect. Shop. Support Local.ConversationsNewsNationalInvestigateCrimeMississippi StrongGood NewsInterviewsConsider This Editori...</td>\n",
       "      <td>0.980769</td>\n",
       "    </tr>\n",
       "    <tr>\n",
       "      <th>119</th>\n",
       "      <td>Aston Martin Vantage Car Discount Offers in Purulia for March 2022 Explore  Sunday, 13 March 2022 Log in/Sign up SearchNotificationsTop SectionsAuto NewsCar NewsBike NewsLatestAuto NewsPhotosVideosElectric VehiclesTrendingMy ReadsOffersnewFind carsFind bikesCompare carsCompare bikesEMI calculatorDealersExplore AutoAbout UsContact UsSITEMAPRSSTerms of UsePrivacy PolicyCopyright © HT Media Limited All rights reserved.HomeOffersnewFind carsFind bikesCompare carsCompare bikesEMI calculatorDealer...</td>\n",
       "      <td>Bugatti registers 2021 as best sales year in 112 years; Chiron, Bolide sold outSearchLog InMy Account Edit Profile Saved Articles LogoutHomeTrendingLatest NewsAuto NewsCar NewsBike NewsOffersnewFind CarsFind BikesCompareCompareCompare CarsCompare BikesToolsToolsEMI CalculatorDealersMoreMorePhotosVideosSaved ArticlesTop SectionsAuto NewsCar NewsBike NewsLatestAuto NewsPhotosVideosElectric VehiclesTrendingMy ReadsOffersnewFind carsFind bikesCompare carsCompare bikesEMI calculatorDealersExplore...</td>\n",
       "      <td>0.980392</td>\n",
       "    </tr>\n",
       "    <tr>\n",
       "      <th>118</th>\n",
       "      <td>Aston Martin Vantage Car Discount Offers in Purulia for March 2022 Explore  Sunday, 13 March 2022 Log in/Sign up SearchNotificationsTop SectionsAuto NewsCar NewsBike NewsLatestAuto NewsPhotosVideosElectric VehiclesTrendingMy ReadsOffersnewFind carsFind bikesCompare carsCompare bikesEMI calculatorDealersExplore AutoAbout UsContact UsSITEMAPRSSTerms of UsePrivacy PolicyCopyright © HT Media Limited All rights reserved.HomeOffersnewFind carsFind bikesCompare carsCompare bikesEMI calculatorDealer...</td>\n",
       "      <td>Lamborghini Huracan Sto Car Discount Offers in Malsiras for March 2022 Explore  Tuesday, 15 March 2022 Log in/Sign up SearchNotificationsTop SectionsAuto NewsCar NewsBike NewsLatestAuto NewsPhotosVideosElectric VehiclesTrendingMy ReadsOffersnewFind carsFind bikesCompare carsCompare bikesEMI calculatorDealersExplore AutoAbout UsContact UsSITEMAPRSSTerms of UsePrivacy PolicyCopyright © HT Media Limited All rights reserved.HomeOffersnewFind carsFind bikesCompare carsCompare bikesEMI calculatorD...</td>\n",
       "      <td>0.980000</td>\n",
       "    </tr>\n",
       "    <tr>\n",
       "      <th>117</th>\n",
       "      <td>Mini Car Dealers - Mini Showrooms in India Explore  Friday, 21 January 2022 Log in/Sign up SearchNotificationsTop SectionsAuto NewsCar NewsBike NewsLatestAuto NewsPhotosVideosElectric VehiclesTrendingMy ReadsOffersnewFind carsFind bikesCompare carsCompare bikesEMI calculatorDealersExplore AutoAbout UsContact UsSITEMAPRSSTerms of UsePrivacy PolicyCopyright © HT Media Limited All rights reserved.HomeOffersnewFind carsFind bikesCompare carsCompare bikesEMI calculatorDealersCar NewsBike NewsLate...</td>\n",
       "      <td>Motoring Review: The new Peugeot 2008 is a fanciful French SUV - Ireland Livewww.ireland-live.ieireland-live.ieireland-live.ieirelandliveIreland LiveAdvertise With UsSponsored ContentContributeContact UsSearchHomeNorth WestMidlandsEastSouth EastMid WestNewsSportEntertainmentReal LifeFinanceUpliftingSciTechLifestyleMotoringWeatherHoroscopePuzzlesSend Us Your NewsAdvertise With UsSponsored ContentContributeContact Us31 Jul 2022 HomeBringing you live local breaking news, sport, politics, weathe...</td>\n",
       "      <td>0.979592</td>\n",
       "    </tr>\n",
       "    <tr>\n",
       "      <th>116</th>\n",
       "      <td>WeRide reaches 10 million kilometers of autonomous drivingSkip to contentEnergy AlertAsk the ExpertGR8 Acts of KindnessMedical MinuteTake a Road TripLocal Jobs Hiring NowGreat Health DivideVideosWatch LiveNewsWeatherSportsHealthCommunityNoticiasAbout UsContestsWhat’s On TVShop LocalSearchHomeRegion 8 News LiveRegion 8 Digital AppsSubmit a News TipShop LocalTake a Road TripRecent VideoSee It - Snap It - Send ItNewsNationalEntertainmentEducationCrimePoliticsBusinessConsumerTechnologyOdditiesEd...</td>\n",
       "      <td>Joy E Bike Bikes Car Dealers - Joy E Bike Bikes Showrooms in India Explore  Friday, 7 January 2022 Log in/Sign up SearchNotificationsTop SectionsAuto NewsCar NewsBike NewsLatestAuto NewsPhotosVideosElectric VehiclesTrendingMy ReadsOffersnewFind carsFind bikesCompare carsCompare bikesEMI calculatorDealersExplore AutoAbout UsContact UsSITEMAPRSSTerms of UsePrivacy PolicyCopyright © HT Media Limited All rights reserved.HomeOffersnewFind carsFind bikesCompare carsCompare bikesEMI calculatorDeale...</td>\n",
       "      <td>0.979167</td>\n",
       "    </tr>\n",
       "    <tr>\n",
       "      <th>115</th>\n",
       "      <td>Mini Car Dealers - Mini Showrooms in India Explore  Friday, 21 January 2022 Log in/Sign up SearchNotificationsTop SectionsAuto NewsCar NewsBike NewsLatestAuto NewsPhotosVideosElectric VehiclesTrendingMy ReadsOffersnewFind carsFind bikesCompare carsCompare bikesEMI calculatorDealersExplore AutoAbout UsContact UsSITEMAPRSSTerms of UsePrivacy PolicyCopyright © HT Media Limited All rights reserved.HomeOffersnewFind carsFind bikesCompare carsCompare bikesEMI calculatorDealersCar NewsBike NewsLate...</td>\n",
       "      <td>A short guide to lighting up your vehicle with LED lights | Business Motoring  A short guide to lighting up your vehicle with LED lights | Business Motoring  Skip to content EV GUIDENewsReviewsAlfa Romeo ReviewsAston Martin ReviewsAudi ReviewsBentley ReviewsBMW ReviewsChrysler ReviewsCitroen ReviewsDacia ReviewsDS Automobiles ReviewsFerrari ReviewsFiat ReviewsFord ReviewsHonda ReviewsHyundai ReviewsInfiniti ReviewsIsuzu ReviewsJaguar ReviewsJeep ReviewsKia ReviewsLamborghini ReviewsLand Rove...</td>\n",
       "      <td>0.978723</td>\n",
       "    </tr>\n",
       "  </tbody>\n",
       "</table>\n",
       "</div>"
      ],
      "text/plain": [
       "                                                                                                                                                                                                                                                                                                                                                                                                                                                                                                                 Tweet A  \\\n",
       "124  Lml Bikes Car Dealers - Lml Bikes Showrooms in India Explore  Friday, 21 January 2022 Log in/Sign up SearchNotificationsTop SectionsAuto NewsCar NewsBike NewsLatestAuto NewsPhotosVideosElectric VehiclesTrendingMy ReadsOffersnewFind carsFind bikesCompare carsCompare bikesEMI calculatorDealersExplore AutoAbout UsContact UsSITEMAPRSSTerms of UsePrivacy PolicyCopyright © HT Media Limited All rights reserved.HomeOffersnewFind carsFind bikesCompare carsCompare bikesEMI calculatorDealersCar NewsBik...   \n",
       "123  Bugatti Car Dealers - Bugatti Showrooms in India Explore  Friday, 21 January 2022 Log in/Sign up SearchNotificationsTop SectionsAuto NewsCar NewsBike NewsLatestAuto NewsPhotosVideosElectric VehiclesTrendingMy ReadsOffersnewFind carsFind bikesCompare carsCompare bikesEMI calculatorDealersExplore AutoAbout UsContact UsSITEMAPRSSTerms of UsePrivacy PolicyCopyright © HT Media Limited All rights reserved.HomeOffersnewFind carsFind bikesCompare carsCompare bikesEMI calculatorDealersCar NewsBike Ne...   \n",
       "122  Porsche Cayenne Coupe Car Discount Offers in Giridih for March 2022 Explore  Wednesday, 16 March 2022 Log in/Sign up SearchNotificationsTop SectionsAuto NewsCar NewsBike NewsLatestAuto NewsPhotosVideosElectric VehiclesTrendingMy ReadsOffersnewFind carsFind bikesCompare carsCompare bikesEMI calculatorDealersExplore AutoAbout UsContact UsSITEMAPRSSTerms of UsePrivacy PolicyCopyright © HT Media Limited All rights reserved.HomeOffersnewFind carsFind bikesCompare carsCompare bikesEMI calculatorDe...   \n",
       "121  Mahindra Bolero Neo Car Discount Offers in West Godavari for March 2022 Explore  Tuesday, 15 March 2022 Log in/Sign up SearchNotificationsTop SectionsAuto NewsCar NewsBike NewsLatestAuto NewsPhotosVideosElectric VehiclesTrendingMy ReadsOffersnewFind carsFind bikesCompare carsCompare bikesEMI calculatorDealersExplore AutoAbout UsContact UsSITEMAPRSSTerms of UsePrivacy PolicyCopyright © HT Media Limited All rights reserved.HomeOffersnewFind carsFind bikesCompare carsCompare bikesEMI calculator...   \n",
       "120  Russia's Avtovaz names ex-transport minister as CEO... | Daily Mail Online  HomeU.K.NewsSportsU.S. ShowbizAustraliaFemailHealthScienceMoneyVideoTravelShopDailyMailTVWires HomeMy ProfileLogout              Login            Privacy PolicyFeedbackMonday, May 23rd 20227AM59°F10AM67°F5-Day Forecast AdvertisementRussia's Avtovaz names ex-transport minister as CEO after Renault exit By Reuters   Published:  06:42 EDT, 23 May 2022   |  Updated:  06:42 EDT, 23 May 2022                 e-mail         ...   \n",
       "119  Aston Martin Vantage Car Discount Offers in Purulia for March 2022 Explore  Sunday, 13 March 2022 Log in/Sign up SearchNotificationsTop SectionsAuto NewsCar NewsBike NewsLatestAuto NewsPhotosVideosElectric VehiclesTrendingMy ReadsOffersnewFind carsFind bikesCompare carsCompare bikesEMI calculatorDealersExplore AutoAbout UsContact UsSITEMAPRSSTerms of UsePrivacy PolicyCopyright © HT Media Limited All rights reserved.HomeOffersnewFind carsFind bikesCompare carsCompare bikesEMI calculatorDealer...   \n",
       "118  Aston Martin Vantage Car Discount Offers in Purulia for March 2022 Explore  Sunday, 13 March 2022 Log in/Sign up SearchNotificationsTop SectionsAuto NewsCar NewsBike NewsLatestAuto NewsPhotosVideosElectric VehiclesTrendingMy ReadsOffersnewFind carsFind bikesCompare carsCompare bikesEMI calculatorDealersExplore AutoAbout UsContact UsSITEMAPRSSTerms of UsePrivacy PolicyCopyright © HT Media Limited All rights reserved.HomeOffersnewFind carsFind bikesCompare carsCompare bikesEMI calculatorDealer...   \n",
       "117  Mini Car Dealers - Mini Showrooms in India Explore  Friday, 21 January 2022 Log in/Sign up SearchNotificationsTop SectionsAuto NewsCar NewsBike NewsLatestAuto NewsPhotosVideosElectric VehiclesTrendingMy ReadsOffersnewFind carsFind bikesCompare carsCompare bikesEMI calculatorDealersExplore AutoAbout UsContact UsSITEMAPRSSTerms of UsePrivacy PolicyCopyright © HT Media Limited All rights reserved.HomeOffersnewFind carsFind bikesCompare carsCompare bikesEMI calculatorDealersCar NewsBike NewsLate...   \n",
       "116  WeRide reaches 10 million kilometers of autonomous drivingSkip to contentEnergy AlertAsk the ExpertGR8 Acts of KindnessMedical MinuteTake a Road TripLocal Jobs Hiring NowGreat Health DivideVideosWatch LiveNewsWeatherSportsHealthCommunityNoticiasAbout UsContestsWhat’s On TVShop LocalSearchHomeRegion 8 News LiveRegion 8 Digital AppsSubmit a News TipShop LocalTake a Road TripRecent VideoSee It - Snap It - Send ItNewsNationalEntertainmentEducationCrimePoliticsBusinessConsumerTechnologyOdditiesEd...   \n",
       "115  Mini Car Dealers - Mini Showrooms in India Explore  Friday, 21 January 2022 Log in/Sign up SearchNotificationsTop SectionsAuto NewsCar NewsBike NewsLatestAuto NewsPhotosVideosElectric VehiclesTrendingMy ReadsOffersnewFind carsFind bikesCompare carsCompare bikesEMI calculatorDealersExplore AutoAbout UsContact UsSITEMAPRSSTerms of UsePrivacy PolicyCopyright © HT Media Limited All rights reserved.HomeOffersnewFind carsFind bikesCompare carsCompare bikesEMI calculatorDealersCar NewsBike NewsLate...   \n",
       "\n",
       "                                                                                                                                                                                                                                                                                                                                                                                                                                                                                                                 Tweet B  \\\n",
       "124  Pure Ev Bikes Car Dealers - Pure Ev Bikes Showrooms in India Explore  Friday, 21 January 2022 Log in/Sign up SearchNotificationsTop SectionsAuto NewsCar NewsBike NewsLatestAuto NewsPhotosVideosElectric VehiclesTrendingMy ReadsOffersnewFind carsFind bikesCompare carsCompare bikesEMI calculatorDealersExplore AutoAbout UsContact UsSITEMAPRSSTerms of UsePrivacy PolicyCopyright © HT Media Limited All rights reserved.HomeOffersnewFind carsFind bikesCompare carsCompare bikesEMI calculatorDealersCar...   \n",
       "123    Big Alfa Romeo crossover is going to save Alfa! - Pledge Times About UsDisclaimer for Pledge TimesT & CWrite To Us     Sunday, July 31, 2022 Pledge Times WorldBusinessGamingTechEntertainmentScienceLifestyleHealthSports WorldBusinessGamingTechEntertainmentScienceLifestyleHealthSports        No Result     View All Result               Pledge Times             No Result     View All Result        HomeWorld Europe Big Alfa Romeo crossover is going to save Alfa!byadmin_l6ma5gus July 31, 2022inW...   \n",
       "122  Audi A8 L Car Discount Offers in Akbarpur (Rajasthan) for March 2022 Explore  Sunday, 13 March 2022 Log in/Sign up SearchNotificationsTop SectionsAuto NewsCar NewsBike NewsLatestAuto NewsPhotosVideosElectric VehiclesTrendingMy ReadsOffersnewFind carsFind bikesCompare carsCompare bikesEMI calculatorDealersExplore AutoAbout UsContact UsSITEMAPRSSTerms of UsePrivacy PolicyCopyright © HT Media Limited All rights reserved.HomeOffersnewFind carsFind bikesCompare carsCompare bikesEMI calculatorDeal...   \n",
       "121  Toyota Urban Cruiser Car Discount Offers in Ghogha for March 2022 Explore  Wednesday, 16 March 2022 Log in/Sign up SearchNotificationsTop SectionsAuto NewsCar NewsBike NewsLatestAuto NewsPhotosVideosElectric VehiclesTrendingMy ReadsOffersnewFind carsFind bikesCompare carsCompare bikesEMI calculatorDealersExplore AutoAbout UsContact UsSITEMAPRSSTerms of UsePrivacy PolicyCopyright © HT Media Limited All rights reserved.HomeOffersnewFind carsFind bikesCompare carsCompare bikesEMI calculatorDeal...   \n",
       "120  VivaTech, Europe's number one startup and tech event, makes its big comeback with more than 91,000 participants in ParisSkip to contentConnect. Shop. Support Local.LawCallCareersAsk the ExpertsSt. Jude Dream HomeNewsWatch LiveTrafficWeatherSportsMississippi WeekendGreat Health DivideWhat's On TVAbout UsSearchHomeSt. Jude Dream HomeWatch LiveWLBT AppsSubmit Your PicsConnect. Shop. Support Local.ConversationsNewsNationalInvestigateCrimeMississippi StrongGood NewsInterviewsConsider This Editori...   \n",
       "119  Bugatti registers 2021 as best sales year in 112 years; Chiron, Bolide sold outSearchLog InMy Account Edit Profile Saved Articles LogoutHomeTrendingLatest NewsAuto NewsCar NewsBike NewsOffersnewFind CarsFind BikesCompareCompareCompare CarsCompare BikesToolsToolsEMI CalculatorDealersMoreMorePhotosVideosSaved ArticlesTop SectionsAuto NewsCar NewsBike NewsLatestAuto NewsPhotosVideosElectric VehiclesTrendingMy ReadsOffersnewFind carsFind bikesCompare carsCompare bikesEMI calculatorDealersExplore...   \n",
       "118  Lamborghini Huracan Sto Car Discount Offers in Malsiras for March 2022 Explore  Tuesday, 15 March 2022 Log in/Sign up SearchNotificationsTop SectionsAuto NewsCar NewsBike NewsLatestAuto NewsPhotosVideosElectric VehiclesTrendingMy ReadsOffersnewFind carsFind bikesCompare carsCompare bikesEMI calculatorDealersExplore AutoAbout UsContact UsSITEMAPRSSTerms of UsePrivacy PolicyCopyright © HT Media Limited All rights reserved.HomeOffersnewFind carsFind bikesCompare carsCompare bikesEMI calculatorD...   \n",
       "117  Motoring Review: The new Peugeot 2008 is a fanciful French SUV - Ireland Livewww.ireland-live.ieireland-live.ieireland-live.ieirelandliveIreland LiveAdvertise With UsSponsored ContentContributeContact UsSearchHomeNorth WestMidlandsEastSouth EastMid WestNewsSportEntertainmentReal LifeFinanceUpliftingSciTechLifestyleMotoringWeatherHoroscopePuzzlesSend Us Your NewsAdvertise With UsSponsored ContentContributeContact Us31 Jul 2022 HomeBringing you live local breaking news, sport, politics, weathe...   \n",
       "116  Joy E Bike Bikes Car Dealers - Joy E Bike Bikes Showrooms in India Explore  Friday, 7 January 2022 Log in/Sign up SearchNotificationsTop SectionsAuto NewsCar NewsBike NewsLatestAuto NewsPhotosVideosElectric VehiclesTrendingMy ReadsOffersnewFind carsFind bikesCompare carsCompare bikesEMI calculatorDealersExplore AutoAbout UsContact UsSITEMAPRSSTerms of UsePrivacy PolicyCopyright © HT Media Limited All rights reserved.HomeOffersnewFind carsFind bikesCompare carsCompare bikesEMI calculatorDeale...   \n",
       "115  A short guide to lighting up your vehicle with LED lights | Business Motoring  A short guide to lighting up your vehicle with LED lights | Business Motoring  Skip to content EV GUIDENewsReviewsAlfa Romeo ReviewsAston Martin ReviewsAudi ReviewsBentley ReviewsBMW ReviewsChrysler ReviewsCitroen ReviewsDacia ReviewsDS Automobiles ReviewsFerrari ReviewsFiat ReviewsFord ReviewsHonda ReviewsHyundai ReviewsInfiniti ReviewsIsuzu ReviewsJaguar ReviewsJeep ReviewsKia ReviewsLamborghini ReviewsLand Rove...   \n",
       "\n",
       "     distance_2 grams  \n",
       "124          1.000000  \n",
       "123          0.981818  \n",
       "122          0.981481  \n",
       "121          0.981132  \n",
       "120          0.980769  \n",
       "119          0.980392  \n",
       "118          0.980000  \n",
       "117          0.979592  \n",
       "116          0.979167  \n",
       "115          0.978723  "
      ]
     },
     "execution_count": 162,
     "metadata": {},
     "output_type": "execute_result"
    }
   ],
   "source": [
    "bottom10 = temp.groupby('distance_2 grams').first().reset_index()[['Tweet A', 'Tweet B', 'distance_2 grams']]\n",
    "bottom10 = bottom10.sort_values('distance_2 grams', ascending=False).head(10)\n",
    "bottom10[['Tweet A', 'Tweet B']] = bottom10[['Tweet A', 'Tweet B']].apply(lambda x: news_df.loc[x]['text'].values)\n",
    "bottom10.head(10)"
   ]
  },
  {
   "cell_type": "markdown",
   "metadata": {},
   "source": [
    "### Was the “n” identical or different for articles vs. tweets and why?\n",
    "\n",
    "In the case of comparing the n value of articles to tweets, the n value needed to be larger for the articles dataset. This is because the median length of the article text was considerably larger than that of a tweet, meaning that a larger n was required to capture a greater number of Jaccard similarities between the articles and tweets.\n",
    "\n",
    "If we had used the titles of the articles instead of the full text, we might have been able to achieve a similar n value. This is because article titles are generally shorter and more concise, which means that a smaller n value might be sufficient to capture a comparable number of similarities. Ultimately, the choice of n value depends on the length of the text and how much context capturing is deemed necessary."
   ]
  },
  {
   "cell_type": "code",
   "execution_count": null,
   "metadata": {},
   "outputs": [],
   "source": []
  }
 ],
 "metadata": {
  "kernelspec": {
   "display_name": "Python 3 (ipykernel)",
   "language": "python",
   "name": "python3"
  },
  "language_info": {
   "codemirror_mode": {
    "name": "ipython",
    "version": 3
   },
   "file_extension": ".py",
   "mimetype": "text/x-python",
   "name": "python",
   "nbconvert_exporter": "python",
   "pygments_lexer": "ipython3",
   "version": "3.9.12"
  }
 },
 "nbformat": 4,
 "nbformat_minor": 4
}
