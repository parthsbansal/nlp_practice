{
 "cells": [
  {
   "cell_type": "markdown",
   "id": "afe22db9",
   "metadata": {},
   "source": [
    "## Natural Language Processing - Assignment 01"
   ]
  },
  {
   "cell_type": "code",
   "execution_count": 1,
   "id": "08b7751a",
   "metadata": {},
   "outputs": [],
   "source": [
    "# Importing necessary modules/ libraries \n",
    "import pandas as pd \n",
    "import re\n",
    "import matplotlib.pyplot as plt\n",
    "import seaborn as sns"
   ]
  },
  {
   "cell_type": "code",
   "execution_count": 2,
   "id": "50c50806",
   "metadata": {},
   "outputs": [
    {
     "data": {
      "text/html": [
       "<div>\n",
       "<style scoped>\n",
       "    .dataframe tbody tr th:only-of-type {\n",
       "        vertical-align: middle;\n",
       "    }\n",
       "\n",
       "    .dataframe tbody tr th {\n",
       "        vertical-align: top;\n",
       "    }\n",
       "\n",
       "    .dataframe thead th {\n",
       "        text-align: right;\n",
       "    }\n",
       "</style>\n",
       "<table border=\"1\" class=\"dataframe\">\n",
       "  <thead>\n",
       "    <tr style=\"text-align: right;\">\n",
       "      <th></th>\n",
       "      <th>Inspection ID</th>\n",
       "      <th>DBA Name</th>\n",
       "      <th>AKA Name</th>\n",
       "      <th>License #</th>\n",
       "      <th>Facility Type</th>\n",
       "      <th>Risk</th>\n",
       "      <th>Address</th>\n",
       "      <th>City</th>\n",
       "      <th>State</th>\n",
       "      <th>Zip</th>\n",
       "      <th>Inspection Date</th>\n",
       "      <th>Inspection Type</th>\n",
       "      <th>Results</th>\n",
       "      <th>Violations</th>\n",
       "      <th>Latitude</th>\n",
       "      <th>Longitude</th>\n",
       "      <th>Location</th>\n",
       "    </tr>\n",
       "  </thead>\n",
       "  <tbody>\n",
       "    <tr>\n",
       "      <th>0</th>\n",
       "      <td>2573172</td>\n",
       "      <td>3 SAUCES</td>\n",
       "      <td>3 SAUCES</td>\n",
       "      <td>2835644.0</td>\n",
       "      <td>Restaurant</td>\n",
       "      <td>Risk 1 (High)</td>\n",
       "      <td>2002 S WENTWORTH AVE</td>\n",
       "      <td>CHICAGO</td>\n",
       "      <td>IL</td>\n",
       "      <td>60616.0</td>\n",
       "      <td>03/24/2023</td>\n",
       "      <td>Canvass</td>\n",
       "      <td>Pass</td>\n",
       "      <td>49. NON-FOOD/FOOD CONTACT SURFACES CLEAN - Com...</td>\n",
       "      <td>41.855282</td>\n",
       "      <td>-87.631993</td>\n",
       "      <td>(41.85528170377401, -87.63199264229414)</td>\n",
       "    </tr>\n",
       "    <tr>\n",
       "      <th>1</th>\n",
       "      <td>2573171</td>\n",
       "      <td>K G HALL</td>\n",
       "      <td>K G HALL</td>\n",
       "      <td>1887545.0</td>\n",
       "      <td>Banquet Hall</td>\n",
       "      <td>Risk 1 (High)</td>\n",
       "      <td>4235 W 47TH ST</td>\n",
       "      <td>CHICAGO</td>\n",
       "      <td>IL</td>\n",
       "      <td>60632.0</td>\n",
       "      <td>03/24/2023</td>\n",
       "      <td>Non-Inspection</td>\n",
       "      <td>No Entry</td>\n",
       "      <td>NaN</td>\n",
       "      <td>41.807682</td>\n",
       "      <td>-87.729847</td>\n",
       "      <td>(41.807682027157476, -87.72984725145503)</td>\n",
       "    </tr>\n",
       "    <tr>\n",
       "      <th>2</th>\n",
       "      <td>2573162</td>\n",
       "      <td>MARATHON</td>\n",
       "      <td>MARATHON</td>\n",
       "      <td>2900506.0</td>\n",
       "      <td>GAS STATION</td>\n",
       "      <td>Risk 3 (Low)</td>\n",
       "      <td>5800-5810 W BELMONT AVE</td>\n",
       "      <td>CHICAGO</td>\n",
       "      <td>IL</td>\n",
       "      <td>60634.0</td>\n",
       "      <td>03/24/2023</td>\n",
       "      <td>License</td>\n",
       "      <td>Not Ready</td>\n",
       "      <td>NaN</td>\n",
       "      <td>41.938620</td>\n",
       "      <td>-87.771420</td>\n",
       "      <td>(41.93861992874789, -87.77142033127757)</td>\n",
       "    </tr>\n",
       "    <tr>\n",
       "      <th>3</th>\n",
       "      <td>2573131</td>\n",
       "      <td>ANTEPRIMA</td>\n",
       "      <td>ANTEPRIMA</td>\n",
       "      <td>1770521.0</td>\n",
       "      <td>Restaurant</td>\n",
       "      <td>Risk 1 (High)</td>\n",
       "      <td>5316 N CLARK ST</td>\n",
       "      <td>CHICAGO</td>\n",
       "      <td>IL</td>\n",
       "      <td>60640.0</td>\n",
       "      <td>03/24/2023</td>\n",
       "      <td>Non-Inspection</td>\n",
       "      <td>No Entry</td>\n",
       "      <td>NaN</td>\n",
       "      <td>41.978616</td>\n",
       "      <td>-87.668470</td>\n",
       "      <td>(41.97861615439425, -87.66847038837432)</td>\n",
       "    </tr>\n",
       "    <tr>\n",
       "      <th>4</th>\n",
       "      <td>2573107</td>\n",
       "      <td>Cullen</td>\n",
       "      <td>Cullen</td>\n",
       "      <td>23891.0</td>\n",
       "      <td>School</td>\n",
       "      <td>Risk 1 (High)</td>\n",
       "      <td>10650 S Eberhart (500E)</td>\n",
       "      <td>CHICAGO</td>\n",
       "      <td>IL</td>\n",
       "      <td>60628.0</td>\n",
       "      <td>03/24/2023</td>\n",
       "      <td>Canvass</td>\n",
       "      <td>Pass</td>\n",
       "      <td>10. ADEQUATE HANDWASHING SINKS PROPERLY SUPPLI...</td>\n",
       "      <td>41.700361</td>\n",
       "      <td>-87.611282</td>\n",
       "      <td>(41.70036106831835, -87.611281758793)</td>\n",
       "    </tr>\n",
       "  </tbody>\n",
       "</table>\n",
       "</div>"
      ],
      "text/plain": [
       "   Inspection ID   DBA Name   AKA Name  License # Facility Type  \\\n",
       "0        2573172   3 SAUCES   3 SAUCES  2835644.0    Restaurant   \n",
       "1        2573171   K G HALL   K G HALL  1887545.0  Banquet Hall   \n",
       "2        2573162   MARATHON   MARATHON  2900506.0   GAS STATION   \n",
       "3        2573131  ANTEPRIMA  ANTEPRIMA  1770521.0    Restaurant   \n",
       "4        2573107     Cullen     Cullen    23891.0        School   \n",
       "\n",
       "            Risk                   Address     City State      Zip  \\\n",
       "0  Risk 1 (High)     2002 S WENTWORTH AVE   CHICAGO    IL  60616.0   \n",
       "1  Risk 1 (High)           4235 W 47TH ST   CHICAGO    IL  60632.0   \n",
       "2   Risk 3 (Low)  5800-5810 W BELMONT AVE   CHICAGO    IL  60634.0   \n",
       "3  Risk 1 (High)          5316 N CLARK ST   CHICAGO    IL  60640.0   \n",
       "4  Risk 1 (High)  10650 S Eberhart (500E)   CHICAGO    IL  60628.0   \n",
       "\n",
       "  Inspection Date Inspection Type    Results  \\\n",
       "0      03/24/2023         Canvass       Pass   \n",
       "1      03/24/2023  Non-Inspection   No Entry   \n",
       "2      03/24/2023         License  Not Ready   \n",
       "3      03/24/2023  Non-Inspection   No Entry   \n",
       "4      03/24/2023         Canvass       Pass   \n",
       "\n",
       "                                          Violations   Latitude  Longitude  \\\n",
       "0  49. NON-FOOD/FOOD CONTACT SURFACES CLEAN - Com...  41.855282 -87.631993   \n",
       "1                                                NaN  41.807682 -87.729847   \n",
       "2                                                NaN  41.938620 -87.771420   \n",
       "3                                                NaN  41.978616 -87.668470   \n",
       "4  10. ADEQUATE HANDWASHING SINKS PROPERLY SUPPLI...  41.700361 -87.611282   \n",
       "\n",
       "                                   Location  \n",
       "0   (41.85528170377401, -87.63199264229414)  \n",
       "1  (41.807682027157476, -87.72984725145503)  \n",
       "2   (41.93861992874789, -87.77142033127757)  \n",
       "3   (41.97861615439425, -87.66847038837432)  \n",
       "4     (41.70036106831835, -87.611281758793)  "
      ]
     },
     "execution_count": 2,
     "metadata": {},
     "output_type": "execute_result"
    }
   ],
   "source": [
    "# Reading the csv file \n",
    "df = pd.read_csv('/Users/parthbansal/Downloads/Food_Inspections.csv')\n",
    "data = df \n",
    "df.head()"
   ]
  },
  {
   "cell_type": "code",
   "execution_count": 3,
   "id": "194879ea",
   "metadata": {},
   "outputs": [
    {
     "data": {
      "text/plain": [
       "(251507, 17)"
      ]
     },
     "execution_count": 3,
     "metadata": {},
     "output_type": "execute_result"
    }
   ],
   "source": [
    "df.shape"
   ]
  },
  {
   "cell_type": "markdown",
   "id": "759eb333",
   "metadata": {},
   "source": [
    "#### 1. Select only the records corresponding to failed inspection (see \"Results\" column)"
   ]
  },
  {
   "cell_type": "code",
   "execution_count": 4,
   "id": "989f6fc7",
   "metadata": {},
   "outputs": [
    {
     "data": {
      "text/plain": [
       "array(['Pass', 'No Entry', 'Not Ready', 'Out of Business', 'Fail',\n",
       "       'Pass w/ Conditions', 'Business Not Located'], dtype=object)"
      ]
     },
     "execution_count": 4,
     "metadata": {},
     "output_type": "execute_result"
    }
   ],
   "source": [
    "df['Results'].unique()"
   ]
  },
  {
   "cell_type": "code",
   "execution_count": 5,
   "id": "4576492e",
   "metadata": {},
   "outputs": [],
   "source": [
    "# Dropping results column since all results are 'Fail'\n",
    "df = df[df['Results'] == 'Fail']\n",
    "df = df.drop('Results', axis = 1)"
   ]
  },
  {
   "cell_type": "markdown",
   "id": "5ebd6e3b",
   "metadata": {},
   "source": [
    "#### 2. Clean the data, making sure that there are no NaNs in \"Violations\" column"
   ]
  },
  {
   "cell_type": "code",
   "execution_count": 6,
   "id": "d31d7518",
   "metadata": {},
   "outputs": [],
   "source": [
    "df = df.dropna(subset = 'Violations')"
   ]
  },
  {
   "cell_type": "markdown",
   "id": "df6081e7",
   "metadata": {},
   "source": [
    "#### 3, 4. \"Violations\" column lists the reasons for inspection failure. Those reasons are separated by \"|\".  Each reason consists of a regulation code, regulation description, and comments describing how the regulation was violated. Using regular expression, parse \"Violations\" column to select only regulation descriptions, no code or comments."
   ]
  },
  {
   "cell_type": "code",
   "execution_count": 7,
   "id": "fa42d790",
   "metadata": {},
   "outputs": [],
   "source": [
    "df['Violations'] = df['Violations'].str.split('|')"
   ]
  },
  {
   "cell_type": "code",
   "execution_count": 8,
   "id": "f0bcab8c",
   "metadata": {},
   "outputs": [],
   "source": [
    "pattern = r'\\d+\\. (.+?) -'"
   ]
  },
  {
   "cell_type": "code",
   "execution_count": 9,
   "id": "c6eecd86",
   "metadata": {},
   "outputs": [],
   "source": [
    "df['Reason'] = df['Violations'].apply(lambda x: [re.findall(pattern, i) for i in x])"
   ]
  },
  {
   "cell_type": "code",
   "execution_count": 10,
   "id": "bec1090e",
   "metadata": {},
   "outputs": [
    {
     "data": {
      "text/html": [
       "<div>\n",
       "<style scoped>\n",
       "    .dataframe tbody tr th:only-of-type {\n",
       "        vertical-align: middle;\n",
       "    }\n",
       "\n",
       "    .dataframe tbody tr th {\n",
       "        vertical-align: top;\n",
       "    }\n",
       "\n",
       "    .dataframe thead th {\n",
       "        text-align: right;\n",
       "    }\n",
       "</style>\n",
       "<table border=\"1\" class=\"dataframe\">\n",
       "  <thead>\n",
       "    <tr style=\"text-align: right;\">\n",
       "      <th></th>\n",
       "      <th>Inspection ID</th>\n",
       "      <th>DBA Name</th>\n",
       "      <th>AKA Name</th>\n",
       "      <th>License #</th>\n",
       "      <th>Facility Type</th>\n",
       "      <th>Risk</th>\n",
       "      <th>Address</th>\n",
       "      <th>City</th>\n",
       "      <th>State</th>\n",
       "      <th>Zip</th>\n",
       "      <th>Inspection Date</th>\n",
       "      <th>Inspection Type</th>\n",
       "      <th>Violations</th>\n",
       "      <th>Latitude</th>\n",
       "      <th>Longitude</th>\n",
       "      <th>Location</th>\n",
       "      <th>Reason</th>\n",
       "    </tr>\n",
       "  </thead>\n",
       "  <tbody>\n",
       "    <tr>\n",
       "      <th>8</th>\n",
       "      <td>2573064</td>\n",
       "      <td>LITTLE LEADERS OF TOMORROW</td>\n",
       "      <td>LITTLE LEADERS OF TOMORROW</td>\n",
       "      <td>2215828.0</td>\n",
       "      <td>Daycare (Under 2 Years)</td>\n",
       "      <td>Risk 1 (High)</td>\n",
       "      <td>5153 W LAKE ST</td>\n",
       "      <td>CHICAGO</td>\n",
       "      <td>IL</td>\n",
       "      <td>60644.0</td>\n",
       "      <td>03/23/2023</td>\n",
       "      <td>License</td>\n",
       "      <td>[38. INSECTS, RODENTS, &amp; ANIMALS NOT PRESENT -...</td>\n",
       "      <td>41.887068</td>\n",
       "      <td>-87.755006</td>\n",
       "      <td>(41.887068052373245, -87.75500577147562)</td>\n",
       "      <td>[[INSECTS, RODENTS, &amp; ANIMALS NOT PRESENT], [T...</td>\n",
       "    </tr>\n",
       "    <tr>\n",
       "      <th>46</th>\n",
       "      <td>2572666</td>\n",
       "      <td>Sullivan  (H/S)</td>\n",
       "      <td>Sullivan  (H/S)</td>\n",
       "      <td>46301.0</td>\n",
       "      <td>School</td>\n",
       "      <td>Risk 1 (High)</td>\n",
       "      <td>6631 N BOSWORTH AVE</td>\n",
       "      <td>CHICAGO</td>\n",
       "      <td>IL</td>\n",
       "      <td>60626.0</td>\n",
       "      <td>03/16/2023</td>\n",
       "      <td>Canvass</td>\n",
       "      <td>[38. INSECTS, RODENTS, &amp; ANIMALS NOT PRESENT -...</td>\n",
       "      <td>42.002687</td>\n",
       "      <td>-87.669155</td>\n",
       "      <td>(42.00268693638941, -87.66915532539507)</td>\n",
       "      <td>[[INSECTS, RODENTS, &amp; ANIMALS NOT PRESENT], [I...</td>\n",
       "    </tr>\n",
       "    <tr>\n",
       "      <th>113</th>\n",
       "      <td>2571904</td>\n",
       "      <td>A CHILD'S WORLD EARLY LEARNING</td>\n",
       "      <td>A CHILD'S WORLD EARLY LEARNING</td>\n",
       "      <td>2215835.0</td>\n",
       "      <td>Daycare Above and Under 2 Years</td>\n",
       "      <td>Risk 1 (High)</td>\n",
       "      <td>2145 E 83RD ST</td>\n",
       "      <td>CHICAGO</td>\n",
       "      <td>IL</td>\n",
       "      <td>60617.0</td>\n",
       "      <td>03/01/2023</td>\n",
       "      <td>License</td>\n",
       "      <td>[1. PERSON IN CHARGE PRESENT, DEMONSTRATES KNO...</td>\n",
       "      <td>41.744280</td>\n",
       "      <td>-87.571635</td>\n",
       "      <td>(41.74427989606148, -87.5716351762223)</td>\n",
       "      <td>[[PERSON IN CHARGE PRESENT, DEMONSTRATES KNOWL...</td>\n",
       "    </tr>\n",
       "    <tr>\n",
       "      <th>133</th>\n",
       "      <td>2571806</td>\n",
       "      <td>DAIRY QUEEN</td>\n",
       "      <td>DAIRY QUEEN</td>\n",
       "      <td>2723927.0</td>\n",
       "      <td>Restaurant</td>\n",
       "      <td>Risk 2 (Medium)</td>\n",
       "      <td>2200 N LINCOLN AVE</td>\n",
       "      <td>CHICAGO</td>\n",
       "      <td>IL</td>\n",
       "      <td>60614.0</td>\n",
       "      <td>02/27/2023</td>\n",
       "      <td>Complaint</td>\n",
       "      <td>[1. PERSON IN CHARGE PRESENT, DEMONSTRATES KNO...</td>\n",
       "      <td>41.921897</td>\n",
       "      <td>-87.644013</td>\n",
       "      <td>(41.921896999082946, -87.64401334594686)</td>\n",
       "      <td>[[PERSON IN CHARGE PRESENT, DEMONSTRATES KNOWL...</td>\n",
       "    </tr>\n",
       "    <tr>\n",
       "      <th>135</th>\n",
       "      <td>2571798</td>\n",
       "      <td>SILVER SPOON RESTAURANT</td>\n",
       "      <td>SILVER SPOON RESTAURANT</td>\n",
       "      <td>1514664.0</td>\n",
       "      <td>Restaurant</td>\n",
       "      <td>Risk 1 (High)</td>\n",
       "      <td>710 N RUSH ST</td>\n",
       "      <td>CHICAGO</td>\n",
       "      <td>IL</td>\n",
       "      <td>60611.0</td>\n",
       "      <td>02/27/2023</td>\n",
       "      <td>Complaint</td>\n",
       "      <td>[1. PERSON IN CHARGE PRESENT, DEMONSTRATES KNO...</td>\n",
       "      <td>41.895321</td>\n",
       "      <td>-87.625620</td>\n",
       "      <td>(41.89532082029217, -87.62562009892783)</td>\n",
       "      <td>[[], [CITY OF CHICAGO FOOD SERVICE SANITATION ...</td>\n",
       "    </tr>\n",
       "  </tbody>\n",
       "</table>\n",
       "</div>"
      ],
      "text/plain": [
       "     Inspection ID                        DBA Name  \\\n",
       "8          2573064      LITTLE LEADERS OF TOMORROW   \n",
       "46         2572666                 Sullivan  (H/S)   \n",
       "113        2571904  A CHILD'S WORLD EARLY LEARNING   \n",
       "133        2571806                     DAIRY QUEEN   \n",
       "135        2571798         SILVER SPOON RESTAURANT   \n",
       "\n",
       "                           AKA Name  License #  \\\n",
       "8        LITTLE LEADERS OF TOMORROW  2215828.0   \n",
       "46                  Sullivan  (H/S)    46301.0   \n",
       "113  A CHILD'S WORLD EARLY LEARNING  2215835.0   \n",
       "133                     DAIRY QUEEN  2723927.0   \n",
       "135         SILVER SPOON RESTAURANT  1514664.0   \n",
       "\n",
       "                       Facility Type             Risk               Address  \\\n",
       "8            Daycare (Under 2 Years)    Risk 1 (High)       5153 W LAKE ST    \n",
       "46                            School    Risk 1 (High)  6631 N BOSWORTH AVE    \n",
       "113  Daycare Above and Under 2 Years    Risk 1 (High)       2145 E 83RD ST    \n",
       "133                       Restaurant  Risk 2 (Medium)   2200 N LINCOLN AVE    \n",
       "135                       Restaurant    Risk 1 (High)        710 N RUSH ST    \n",
       "\n",
       "        City State      Zip Inspection Date Inspection Type  \\\n",
       "8    CHICAGO    IL  60644.0      03/23/2023         License   \n",
       "46   CHICAGO    IL  60626.0      03/16/2023         Canvass   \n",
       "113  CHICAGO    IL  60617.0      03/01/2023         License   \n",
       "133  CHICAGO    IL  60614.0      02/27/2023       Complaint   \n",
       "135  CHICAGO    IL  60611.0      02/27/2023       Complaint   \n",
       "\n",
       "                                            Violations   Latitude  Longitude  \\\n",
       "8    [38. INSECTS, RODENTS, & ANIMALS NOT PRESENT -...  41.887068 -87.755006   \n",
       "46   [38. INSECTS, RODENTS, & ANIMALS NOT PRESENT -...  42.002687 -87.669155   \n",
       "113  [1. PERSON IN CHARGE PRESENT, DEMONSTRATES KNO...  41.744280 -87.571635   \n",
       "133  [1. PERSON IN CHARGE PRESENT, DEMONSTRATES KNO...  41.921897 -87.644013   \n",
       "135  [1. PERSON IN CHARGE PRESENT, DEMONSTRATES KNO...  41.895321 -87.625620   \n",
       "\n",
       "                                     Location  \\\n",
       "8    (41.887068052373245, -87.75500577147562)   \n",
       "46    (42.00268693638941, -87.66915532539507)   \n",
       "113    (41.74427989606148, -87.5716351762223)   \n",
       "133  (41.921896999082946, -87.64401334594686)   \n",
       "135   (41.89532082029217, -87.62562009892783)   \n",
       "\n",
       "                                                Reason  \n",
       "8    [[INSECTS, RODENTS, & ANIMALS NOT PRESENT], [T...  \n",
       "46   [[INSECTS, RODENTS, & ANIMALS NOT PRESENT], [I...  \n",
       "113  [[PERSON IN CHARGE PRESENT, DEMONSTRATES KNOWL...  \n",
       "133  [[PERSON IN CHARGE PRESENT, DEMONSTRATES KNOWL...  \n",
       "135  [[], [CITY OF CHICAGO FOOD SERVICE SANITATION ...  "
      ]
     },
     "execution_count": 10,
     "metadata": {},
     "output_type": "execute_result"
    }
   ],
   "source": [
    "# The dataframe below has a column 'Reason' that displays only violation descriptions that occured on a given inspection date \n",
    "df.head()"
   ]
  },
  {
   "cell_type": "markdown",
   "id": "d55820ac",
   "metadata": {},
   "source": [
    "#### 5. Count how many times each regulation description occurred in the table and visualize top-10 the most frequent regulation descriptions"
   ]
  },
  {
   "cell_type": "code",
   "execution_count": 11,
   "id": "400a3f45",
   "metadata": {},
   "outputs": [],
   "source": [
    "# Since column 'Reason' has nested list values, we're are exploding it to extract the strings in the lists\n",
    "reason = df['Reason'].explode('Reason').explode()"
   ]
  },
  {
   "cell_type": "code",
   "execution_count": 12,
   "id": "4e35ccfa",
   "metadata": {},
   "outputs": [],
   "source": [
    "counts = reason.value_counts().sort_values(ascending = False).head(10)"
   ]
  },
  {
   "cell_type": "code",
   "execution_count": 13,
   "id": "a673cdd1",
   "metadata": {},
   "outputs": [
    {
     "data": {
      "text/plain": [
       "Text(0.5, 1.0, 'Top 10 Most Frequent Regulation Descriptions')"
      ]
     },
     "execution_count": 13,
     "metadata": {},
     "output_type": "execute_result"
    },
    {
     "data": {
      "image/png": "[encoded data removed]",
      "text/plain": [
       "<Figure size 1080x864 with 1 Axes>"
      ]
     },
     "metadata": {
      "needs_background": "light"
     },
     "output_type": "display_data"
    }
   ],
   "source": [
    "plt.figure(figsize=(15, 12))\n",
    "\n",
    "plt.barh(counts.index, counts.values)\n",
    "plt.ylabel('Regulation Description', size = 20)\n",
    "plt.xlabel('Count', size = 20)\n",
    "plt.title('Top 10 Most Frequent Regulation Descriptions', size = 40)"
   ]
  },
  {
   "cell_type": "markdown",
   "id": "2c3cd4a2",
   "metadata": {},
   "source": [
    "#### 6. Identify whether any of these restaurants are repeat offenders (explore a combination of License; Business Name and Address variables to determine what is the best way to uniquely identify a business) and whether the violations are the same or different for these repeat offenses"
   ]
  },
  {
   "cell_type": "code",
   "execution_count": 14,
   "id": "cc20dff6",
   "metadata": {},
   "outputs": [
    {
     "data": {
      "text/plain": [
       "Index(['Inspection ID', 'DBA Name', 'AKA Name', 'License #', 'Facility Type',\n",
       "       'Risk', 'Address', 'City', 'State', 'Zip', 'Inspection Date',\n",
       "       'Inspection Type', 'Violations', 'Latitude', 'Longitude', 'Location',\n",
       "       'Reason'],\n",
       "      dtype='object')"
      ]
     },
     "execution_count": 14,
     "metadata": {},
     "output_type": "execute_result"
    }
   ],
   "source": [
    "df.columns"
   ]
  },
  {
   "cell_type": "code",
   "execution_count": 15,
   "id": "dceb3451",
   "metadata": {},
   "outputs": [],
   "source": [
    "# Creating new columns to explore a combination of variables to determine the best way to uniquely identify a business\n",
    "df['id_1'] = df['License #'].astype(str) + '_' + df['DBA Name']\n",
    "df['id_2'] = df['DBA Name'] + '_' + df['Address']\n",
    "df['id_3'] = df['License #'].astype(str) + df['Address']\n",
    "df['id_4'] = df['License #'].astype(str) + '_' + df['DBA Name'] + '_' + df['Address']"
   ]
  },
  {
   "cell_type": "code",
   "execution_count": 16,
   "id": "93259e68",
   "metadata": {},
   "outputs": [
    {
     "name": "stdout",
     "output_type": "stream",
     "text": [
      "Address: 13810\n",
      "License #: 20550\n",
      "DBA Name: 17385\n",
      "id_1: 21041\n",
      "id_2: 19612\n",
      "id_3: 20732\n",
      "id_4: 21062\n"
     ]
    }
   ],
   "source": [
    "for col in ['Address', 'License #', 'DBA Name', 'id_1', 'id_2', 'id_3', 'id_4']:\n",
    "    print(f\"{col}: {df[col].nunique()}\")"
   ]
  },
  {
   "cell_type": "markdown",
   "id": "7db320f8",
   "metadata": {},
   "source": [
    "### On inspecting various combinations of the above varibales, we see that the combination of all three variables creates the highest number of unique ids. However, combining License # and DBA Name generates only 21 identifiers lesser. Plus, it's cleaner. \n",
    "\n",
    "### Hence, we'll use a combination of DBA Name and License # as our identifier."
   ]
  },
  {
   "cell_type": "code",
   "execution_count": 17,
   "id": "4b856c01",
   "metadata": {},
   "outputs": [],
   "source": [
    "# Dropping redundant columns \n",
    "df = df.drop(columns= ['DBA Name', 'AKA Name', 'License #', 'Address', 'City', 'State', 'Zip', 'Violations', 'Latitude', 'Longitude', 'Location', 'id_2', 'id_3', 'id_4'])"
   ]
  },
  {
   "cell_type": "code",
   "execution_count": 18,
   "id": "02acda26",
   "metadata": {},
   "outputs": [
    {
     "data": {
      "text/html": [
       "<div>\n",
       "<style scoped>\n",
       "    .dataframe tbody tr th:only-of-type {\n",
       "        vertical-align: middle;\n",
       "    }\n",
       "\n",
       "    .dataframe tbody tr th {\n",
       "        vertical-align: top;\n",
       "    }\n",
       "\n",
       "    .dataframe thead th {\n",
       "        text-align: right;\n",
       "    }\n",
       "</style>\n",
       "<table border=\"1\" class=\"dataframe\">\n",
       "  <thead>\n",
       "    <tr style=\"text-align: right;\">\n",
       "      <th></th>\n",
       "      <th>id_1</th>\n",
       "      <th>count</th>\n",
       "    </tr>\n",
       "  </thead>\n",
       "  <tbody>\n",
       "    <tr>\n",
       "      <th>312</th>\n",
       "      <td>1095992.0_LAS ISLAS MARIAS</td>\n",
       "      <td>20</td>\n",
       "    </tr>\n",
       "    <tr>\n",
       "      <th>20431</th>\n",
       "      <td>60184.0_TAQUERIA EL RANCHITO</td>\n",
       "      <td>19</td>\n",
       "    </tr>\n",
       "    <tr>\n",
       "      <th>19786</th>\n",
       "      <td>39623.0_LUMES PANCAKE HOUSE</td>\n",
       "      <td>19</td>\n",
       "    </tr>\n",
       "    <tr>\n",
       "      <th>3901</th>\n",
       "      <td>1909713.0_IYANZE</td>\n",
       "      <td>19</td>\n",
       "    </tr>\n",
       "    <tr>\n",
       "      <th>1429</th>\n",
       "      <td>14616.0_ILLINOIS SPORTSERVICE INC</td>\n",
       "      <td>19</td>\n",
       "    </tr>\n",
       "    <tr>\n",
       "      <th>...</th>\n",
       "      <td>...</td>\n",
       "      <td>...</td>\n",
       "    </tr>\n",
       "    <tr>\n",
       "      <th>9254</th>\n",
       "      <td>22031.0_Louis J. Agassiz Elementary</td>\n",
       "      <td>2</td>\n",
       "    </tr>\n",
       "    <tr>\n",
       "      <th>9252</th>\n",
       "      <td>2203025.0_GRK GREEK KITCHEN</td>\n",
       "      <td>2</td>\n",
       "    </tr>\n",
       "    <tr>\n",
       "      <th>9250</th>\n",
       "      <td>2202944.0_Dunkin Donut</td>\n",
       "      <td>2</td>\n",
       "    </tr>\n",
       "    <tr>\n",
       "      <th>9245</th>\n",
       "      <td>2202881.0_Duran European Sandwiches Cafe</td>\n",
       "      <td>2</td>\n",
       "    </tr>\n",
       "    <tr>\n",
       "      <th>21040</th>\n",
       "      <td>nan_GOD'S BATTLE AXE PRAYER ACADEMY</td>\n",
       "      <td>2</td>\n",
       "    </tr>\n",
       "  </tbody>\n",
       "</table>\n",
       "<p>10300 rows × 2 columns</p>\n",
       "</div>"
      ],
      "text/plain": [
       "                                           id_1  count\n",
       "312                  1095992.0_LAS ISLAS MARIAS     20\n",
       "20431              60184.0_TAQUERIA EL RANCHITO     19\n",
       "19786               39623.0_LUMES PANCAKE HOUSE     19\n",
       "3901                           1909713.0_IYANZE     19\n",
       "1429          14616.0_ILLINOIS SPORTSERVICE INC     19\n",
       "...                                         ...    ...\n",
       "9254        22031.0_Louis J. Agassiz Elementary      2\n",
       "9252                2203025.0_GRK GREEK KITCHEN      2\n",
       "9250                     2202944.0_Dunkin Donut      2\n",
       "9245   2202881.0_Duran European Sandwiches Cafe      2\n",
       "21040       nan_GOD'S BATTLE AXE PRAYER ACADEMY      2\n",
       "\n",
       "[10300 rows x 2 columns]"
      ]
     },
     "execution_count": 18,
     "metadata": {},
     "output_type": "execute_result"
    }
   ],
   "source": [
    "# Identify repeat offenders. Note, to be a repeated offender, the offense should occur on two different dates\n",
    "# Displaying repeated offenders in descending order \n",
    "df_grouped = df.groupby('id_1').size().reset_index(name='count')\n",
    "df_grouped = df_grouped[df_grouped['count'] > 1].sort_values(by='count', ascending=False)\n",
    "df_grouped"
   ]
  },
  {
   "cell_type": "markdown",
   "id": "e8b3354f",
   "metadata": {},
   "source": [
    "### There are 10,300 restaurants that have repeated offenses."
   ]
  },
  {
   "cell_type": "code",
   "execution_count": 19,
   "id": "6b217b89",
   "metadata": {},
   "outputs": [
    {
     "data": {
      "text/html": [
       "<div>\n",
       "<style scoped>\n",
       "    .dataframe tbody tr th:only-of-type {\n",
       "        vertical-align: middle;\n",
       "    }\n",
       "\n",
       "    .dataframe tbody tr th {\n",
       "        vertical-align: top;\n",
       "    }\n",
       "\n",
       "    .dataframe thead th {\n",
       "        text-align: right;\n",
       "    }\n",
       "</style>\n",
       "<table border=\"1\" class=\"dataframe\">\n",
       "  <thead>\n",
       "    <tr style=\"text-align: right;\">\n",
       "      <th></th>\n",
       "      <th>Inspection ID</th>\n",
       "      <th>Facility Type</th>\n",
       "      <th>Risk</th>\n",
       "      <th>Inspection Date</th>\n",
       "      <th>Inspection Type</th>\n",
       "      <th>Reason</th>\n",
       "      <th>id_1</th>\n",
       "      <th>Repeated</th>\n",
       "    </tr>\n",
       "  </thead>\n",
       "  <tbody>\n",
       "    <tr>\n",
       "      <th>8</th>\n",
       "      <td>2573064</td>\n",
       "      <td>Daycare (Under 2 Years)</td>\n",
       "      <td>Risk 1 (High)</td>\n",
       "      <td>03/23/2023</td>\n",
       "      <td>License</td>\n",
       "      <td>[[INSECTS, RODENTS, &amp; ANIMALS NOT PRESENT], [T...</td>\n",
       "      <td>2215828.0_LITTLE LEADERS OF TOMORROW</td>\n",
       "      <td>True</td>\n",
       "    </tr>\n",
       "    <tr>\n",
       "      <th>46</th>\n",
       "      <td>2572666</td>\n",
       "      <td>School</td>\n",
       "      <td>Risk 1 (High)</td>\n",
       "      <td>03/16/2023</td>\n",
       "      <td>Canvass</td>\n",
       "      <td>[[INSECTS, RODENTS, &amp; ANIMALS NOT PRESENT], [I...</td>\n",
       "      <td>46301.0_Sullivan  (H/S)</td>\n",
       "      <td>True</td>\n",
       "    </tr>\n",
       "    <tr>\n",
       "      <th>113</th>\n",
       "      <td>2571904</td>\n",
       "      <td>Daycare Above and Under 2 Years</td>\n",
       "      <td>Risk 1 (High)</td>\n",
       "      <td>03/01/2023</td>\n",
       "      <td>License</td>\n",
       "      <td>[[PERSON IN CHARGE PRESENT, DEMONSTRATES KNOWL...</td>\n",
       "      <td>2215835.0_A CHILD'S WORLD EARLY LEARNING</td>\n",
       "      <td>True</td>\n",
       "    </tr>\n",
       "    <tr>\n",
       "      <th>133</th>\n",
       "      <td>2571806</td>\n",
       "      <td>Restaurant</td>\n",
       "      <td>Risk 2 (Medium)</td>\n",
       "      <td>02/27/2023</td>\n",
       "      <td>Complaint</td>\n",
       "      <td>[[PERSON IN CHARGE PRESENT, DEMONSTRATES KNOWL...</td>\n",
       "      <td>2723927.0_DAIRY QUEEN</td>\n",
       "      <td>False</td>\n",
       "    </tr>\n",
       "    <tr>\n",
       "      <th>135</th>\n",
       "      <td>2571798</td>\n",
       "      <td>Restaurant</td>\n",
       "      <td>Risk 1 (High)</td>\n",
       "      <td>02/27/2023</td>\n",
       "      <td>Complaint</td>\n",
       "      <td>[[], [CITY OF CHICAGO FOOD SERVICE SANITATION ...</td>\n",
       "      <td>1514664.0_SILVER SPOON RESTAURANT</td>\n",
       "      <td>True</td>\n",
       "    </tr>\n",
       "  </tbody>\n",
       "</table>\n",
       "</div>"
      ],
      "text/plain": [
       "     Inspection ID                    Facility Type             Risk  \\\n",
       "8          2573064          Daycare (Under 2 Years)    Risk 1 (High)   \n",
       "46         2572666                           School    Risk 1 (High)   \n",
       "113        2571904  Daycare Above and Under 2 Years    Risk 1 (High)   \n",
       "133        2571806                       Restaurant  Risk 2 (Medium)   \n",
       "135        2571798                       Restaurant    Risk 1 (High)   \n",
       "\n",
       "    Inspection Date Inspection Type  \\\n",
       "8        03/23/2023         License   \n",
       "46       03/16/2023         Canvass   \n",
       "113      03/01/2023         License   \n",
       "133      02/27/2023       Complaint   \n",
       "135      02/27/2023       Complaint   \n",
       "\n",
       "                                                Reason  \\\n",
       "8    [[INSECTS, RODENTS, & ANIMALS NOT PRESENT], [T...   \n",
       "46   [[INSECTS, RODENTS, & ANIMALS NOT PRESENT], [I...   \n",
       "113  [[PERSON IN CHARGE PRESENT, DEMONSTRATES KNOWL...   \n",
       "133  [[PERSON IN CHARGE PRESENT, DEMONSTRATES KNOWL...   \n",
       "135  [[], [CITY OF CHICAGO FOOD SERVICE SANITATION ...   \n",
       "\n",
       "                                         id_1  Repeated  \n",
       "8        2215828.0_LITTLE LEADERS OF TOMORROW      True  \n",
       "46                    46301.0_Sullivan  (H/S)      True  \n",
       "113  2215835.0_A CHILD'S WORLD EARLY LEARNING      True  \n",
       "133                     2723927.0_DAIRY QUEEN     False  \n",
       "135         1514664.0_SILVER SPOON RESTAURANT      True  "
      ]
     },
     "execution_count": 19,
     "metadata": {},
     "output_type": "execute_result"
    }
   ],
   "source": [
    "# Adding a Boolean column to main data frame to determine if the restaurnat is a repeat offender \n",
    "df['Repeated'] = df['id_1'].isin(df_grouped['id_1'])\n",
    "df.head()"
   ]
  },
  {
   "cell_type": "code",
   "execution_count": 20,
   "id": "ae79dd27",
   "metadata": {},
   "outputs": [
    {
     "data": {
      "text/html": [
       "<div>\n",
       "<style scoped>\n",
       "    .dataframe tbody tr th:only-of-type {\n",
       "        vertical-align: middle;\n",
       "    }\n",
       "\n",
       "    .dataframe tbody tr th {\n",
       "        vertical-align: top;\n",
       "    }\n",
       "\n",
       "    .dataframe thead th {\n",
       "        text-align: right;\n",
       "    }\n",
       "</style>\n",
       "<table border=\"1\" class=\"dataframe\">\n",
       "  <thead>\n",
       "    <tr style=\"text-align: right;\">\n",
       "      <th></th>\n",
       "      <th>id_1</th>\n",
       "      <th>count</th>\n",
       "    </tr>\n",
       "  </thead>\n",
       "  <tbody>\n",
       "    <tr>\n",
       "      <th>147</th>\n",
       "      <td>1095992.0_LAS ISLAS MARIAS</td>\n",
       "      <td>54</td>\n",
       "    </tr>\n",
       "    <tr>\n",
       "      <th>5479</th>\n",
       "      <td>2262538.0_ARAMARK-SOLDIER FIELD</td>\n",
       "      <td>53</td>\n",
       "    </tr>\n",
       "    <tr>\n",
       "      <th>47</th>\n",
       "      <td>1042888.0_DEVON MARKET</td>\n",
       "      <td>52</td>\n",
       "    </tr>\n",
       "    <tr>\n",
       "      <th>6197</th>\n",
       "      <td>2341764.0_DOLO GARDEN RESTAURANT &amp; BAR</td>\n",
       "      <td>52</td>\n",
       "    </tr>\n",
       "    <tr>\n",
       "      <th>9920</th>\n",
       "      <td>60184.0_TAQUERIA EL RANCHITO</td>\n",
       "      <td>51</td>\n",
       "    </tr>\n",
       "    <tr>\n",
       "      <th>...</th>\n",
       "      <td>...</td>\n",
       "      <td>...</td>\n",
       "    </tr>\n",
       "    <tr>\n",
       "      <th>4830</th>\n",
       "      <td>2202766.0_E&amp;C GROCERY STORE</td>\n",
       "      <td>1</td>\n",
       "    </tr>\n",
       "    <tr>\n",
       "      <th>7163</th>\n",
       "      <td>2457748.0_FIREFIN POKE SHOP</td>\n",
       "      <td>1</td>\n",
       "    </tr>\n",
       "    <tr>\n",
       "      <th>6464</th>\n",
       "      <td>2373667.0_HALSTED STREET DELI &amp; BAGEL</td>\n",
       "      <td>1</td>\n",
       "    </tr>\n",
       "    <tr>\n",
       "      <th>5437</th>\n",
       "      <td>2256167.0_Q SAZON MEXICAN RESTAURANT</td>\n",
       "      <td>1</td>\n",
       "    </tr>\n",
       "    <tr>\n",
       "      <th>2342</th>\n",
       "      <td>1922899.0_MOLADE' CHILD DEVELOPMENT CENTER</td>\n",
       "      <td>1</td>\n",
       "    </tr>\n",
       "  </tbody>\n",
       "</table>\n",
       "<p>10299 rows × 2 columns</p>\n",
       "</div>"
      ],
      "text/plain": [
       "                                            id_1  count\n",
       "147                   1095992.0_LAS ISLAS MARIAS     54\n",
       "5479             2262538.0_ARAMARK-SOLDIER FIELD     53\n",
       "47                        1042888.0_DEVON MARKET     52\n",
       "6197      2341764.0_DOLO GARDEN RESTAURANT & BAR     52\n",
       "9920                60184.0_TAQUERIA EL RANCHITO     51\n",
       "...                                          ...    ...\n",
       "4830                 2202766.0_E&C GROCERY STORE      1\n",
       "7163                 2457748.0_FIREFIN POKE SHOP      1\n",
       "6464       2373667.0_HALSTED STREET DELI & BAGEL      1\n",
       "5437        2256167.0_Q SAZON MEXICAN RESTAURANT      1\n",
       "2342  1922899.0_MOLADE' CHILD DEVELOPMENT CENTER      1\n",
       "\n",
       "[10299 rows x 2 columns]"
      ]
     },
     "execution_count": 20,
     "metadata": {},
     "output_type": "execute_result"
    }
   ],
   "source": [
    "# The following data frame displays a list of repeated offenders with count of unique offenses\n",
    "# If the count is one, the violations are the same else different\n",
    "temp_df = df[df['Repeated'] == True]\n",
    "temp_df = temp_df.explode('Reason').explode('Reason')\n",
    "temp_df = temp_df.groupby(['id_1', 'Reason']).size().reset_index(name='count')\n",
    "temp_df = temp_df.groupby('id_1').size().reset_index(name='count')\n",
    "temp_df = temp_df.sort_values(by='count', ascending=False)\n",
    "temp_df"
   ]
  },
  {
   "cell_type": "markdown",
   "id": "ba1efd05",
   "metadata": {},
   "source": [
    "### The dataframe above contains a list of repeated offenders. If the count is equal to 1, they have the same violations. If it is more than 1, they have different violations."
   ]
  },
  {
   "cell_type": "markdown",
   "id": "2ec20403",
   "metadata": {},
   "source": [
    "#### 7. Review the restaurants \"Out of Business\", is there an extended history of prior violations for these closed businesses?"
   ]
  },
  {
   "cell_type": "code",
   "execution_count": 21,
   "id": "87833316",
   "metadata": {},
   "outputs": [],
   "source": [
    "# Filtering the data to only hold info. about establishments that went out of business \n",
    "data = data[data['Results'] == 'Out of Business']\n",
    "data = data.drop('Results', axis = 1)"
   ]
  },
  {
   "cell_type": "code",
   "execution_count": 22,
   "id": "e67a9c86",
   "metadata": {},
   "outputs": [],
   "source": [
    "# Adding a unique identifier \n",
    "data['id_1'] = data['License #'].astype(str) + '_' + data['DBA Name']"
   ]
  },
  {
   "cell_type": "code",
   "execution_count": 23,
   "id": "c962b44e",
   "metadata": {},
   "outputs": [
    {
     "data": {
      "text/plain": [
       "20976"
      ]
     },
     "execution_count": 23,
     "metadata": {},
     "output_type": "execute_result"
    }
   ],
   "source": [
    "data['id_1'].nunique()"
   ]
  },
  {
   "cell_type": "code",
   "execution_count": 24,
   "id": "1441b7db",
   "metadata": {},
   "outputs": [
    {
     "data": {
      "text/html": [
       "<div>\n",
       "<style scoped>\n",
       "    .dataframe tbody tr th:only-of-type {\n",
       "        vertical-align: middle;\n",
       "    }\n",
       "\n",
       "    .dataframe tbody tr th {\n",
       "        vertical-align: top;\n",
       "    }\n",
       "\n",
       "    .dataframe thead th {\n",
       "        text-align: right;\n",
       "    }\n",
       "</style>\n",
       "<table border=\"1\" class=\"dataframe\">\n",
       "  <thead>\n",
       "    <tr style=\"text-align: right;\">\n",
       "      <th></th>\n",
       "      <th>id_1</th>\n",
       "      <th>count</th>\n",
       "    </tr>\n",
       "  </thead>\n",
       "  <tbody>\n",
       "    <tr>\n",
       "      <th>1830</th>\n",
       "      <td>1354323.0_SPORTSERVICE SOLDIER FIELD</td>\n",
       "      <td>57</td>\n",
       "    </tr>\n",
       "    <tr>\n",
       "      <th>8308</th>\n",
       "      <td>2013962.0_KENDALL COLLEGE</td>\n",
       "      <td>15</td>\n",
       "    </tr>\n",
       "    <tr>\n",
       "      <th>6821</th>\n",
       "      <td>1932251.0_MCCORMICK PLACE</td>\n",
       "      <td>12</td>\n",
       "    </tr>\n",
       "    <tr>\n",
       "      <th>8996</th>\n",
       "      <td>20481.0_THE GREAT STATE FARE</td>\n",
       "      <td>10</td>\n",
       "    </tr>\n",
       "    <tr>\n",
       "      <th>1826</th>\n",
       "      <td>1354323.0_SPORT SERVICE SOLDIER FIELD</td>\n",
       "      <td>5</td>\n",
       "    </tr>\n",
       "    <tr>\n",
       "      <th>...</th>\n",
       "      <td>...</td>\n",
       "      <td>...</td>\n",
       "    </tr>\n",
       "    <tr>\n",
       "      <th>6902</th>\n",
       "      <td>1937125.0_TOMATO HEAD</td>\n",
       "      <td>2</td>\n",
       "    </tr>\n",
       "    <tr>\n",
       "      <th>6778</th>\n",
       "      <td>1927637.0_EVERYDAY THAI</td>\n",
       "      <td>2</td>\n",
       "    </tr>\n",
       "    <tr>\n",
       "      <th>6686</th>\n",
       "      <td>1922019.0_THE FACTORY A GENTLEMEN'S CLUB</td>\n",
       "      <td>2</td>\n",
       "    </tr>\n",
       "    <tr>\n",
       "      <th>6640</th>\n",
       "      <td>1916361.0_JIMMY JOHN'S-JACKSON</td>\n",
       "      <td>2</td>\n",
       "    </tr>\n",
       "    <tr>\n",
       "      <th>20916</th>\n",
       "      <td>8987.0_TAYLOR ST SUB SHOP</td>\n",
       "      <td>2</td>\n",
       "    </tr>\n",
       "  </tbody>\n",
       "</table>\n",
       "<p>411 rows × 2 columns</p>\n",
       "</div>"
      ],
      "text/plain": [
       "                                           id_1  count\n",
       "1830       1354323.0_SPORTSERVICE SOLDIER FIELD     57\n",
       "8308                  2013962.0_KENDALL COLLEGE     15\n",
       "6821                  1932251.0_MCCORMICK PLACE     12\n",
       "8996               20481.0_THE GREAT STATE FARE     10\n",
       "1826      1354323.0_SPORT SERVICE SOLDIER FIELD      5\n",
       "...                                         ...    ...\n",
       "6902                      1937125.0_TOMATO HEAD      2\n",
       "6778                    1927637.0_EVERYDAY THAI      2\n",
       "6686   1922019.0_THE FACTORY A GENTLEMEN'S CLUB      2\n",
       "6640             1916361.0_JIMMY JOHN'S-JACKSON      2\n",
       "20916                 8987.0_TAYLOR ST SUB SHOP      2\n",
       "\n",
       "[411 rows x 2 columns]"
      ]
     },
     "execution_count": 24,
     "metadata": {},
     "output_type": "execute_result"
    }
   ],
   "source": [
    "# Disaplying 'Out of Business' restaurants with the most violations \n",
    "data_grouped = data.groupby('id_1').size().reset_index(name='count')\n",
    "data_grouped = data_grouped[data_grouped['count'] > 1].sort_values(by='count', ascending=False)\n",
    "data_grouped"
   ]
  },
  {
   "cell_type": "markdown",
   "id": "67c84370",
   "metadata": {},
   "source": [
    "### Of the 20,976 restaurants that went out of business, only 411 (1.96%) had prior violations. Therefore, having a history of previous violations does not seem to be a significant contributing factor to restaurant closures."
   ]
  },
  {
   "cell_type": "markdown",
   "id": "0173a1fa",
   "metadata": {},
   "source": [
    "#### 8. Food inspection data has 10+ years of history, do you see any changing trends in most common violations?  Plot the results for top-5 most frequent violations over time"
   ]
  },
  {
   "cell_type": "code",
   "execution_count": 25,
   "id": "84d1331e",
   "metadata": {},
   "outputs": [],
   "source": [
    "new_df = df.explode('Reason').explode('Reason')"
   ]
  },
  {
   "cell_type": "code",
   "execution_count": 26,
   "id": "264d4379",
   "metadata": {},
   "outputs": [],
   "source": [
    "new_df['Inspection Date'] = pd.to_datetime(new_df['Inspection Date'])\n",
    "new_df['Year'] = new_df['Inspection Date'].dt.year"
   ]
  },
  {
   "cell_type": "code",
   "execution_count": 27,
   "id": "c45d7e05",
   "metadata": {},
   "outputs": [],
   "source": [
    "counts = new_df.groupby(['Year', 'Reason']).size().reset_index(name='count')\n",
    "top5 = counts.groupby('Reason').sum().sort_values(by='count', ascending=False).head(5).index.tolist()\n",
    "top5 = counts[counts['Reason'].isin(top5)]"
   ]
  },
  {
   "cell_type": "code",
   "execution_count": 28,
   "id": "2017b26d",
   "metadata": {},
   "outputs": [],
   "source": [
    "# Finding out the top-5 violations in the data\n",
    "# temp = new_df.groupby(['Reason']).size().reset_index(name='count').sort_values(by='count', ascending=False)[:5]"
   ]
  },
  {
   "cell_type": "code",
   "execution_count": 29,
   "id": "c7946c2a",
   "metadata": {},
   "outputs": [
    {
     "data": {
      "text/plain": [
       "<module 'matplotlib.pyplot' from '/Users/parthbansal/opt/anaconda3/lib/python3.9/site-packages/matplotlib/pyplot.py'>"
      ]
     },
     "execution_count": 29,
     "metadata": {},
     "output_type": "execute_result"
    },
    {
     "data": {
      "image/png": "[encoded data removed]",
      "text/plain": [
       "<Figure size 1080x864 with 1 Axes>"
      ]
     },
     "metadata": {
      "needs_background": "light"
     },
     "output_type": "display_data"
    }
   ],
   "source": [
    "plt.figure(figsize=(15, 12))\n",
    "\n",
    "sns.set_style(\"whitegrid\")\n",
    "sns.lineplot(x='Year', y='count', hue='Reason', data=top5)\n",
    "\n",
    "plt.xlabel('Year', size = 20)\n",
    "plt.ylabel('Count', size = 20)\n",
    "plt.title('Top 5 Most Frequent Violations Over Time', size = 40)\n",
    "plt.legend(bbox_to_anchor=(1.01, 1),borderaxespad=0)\n",
    "plt"
   ]
  },
  {
   "cell_type": "markdown",
   "id": "fa497b26",
   "metadata": {},
   "source": [
    "#### 9, 10. Your final output should be a Jupyter notebook showing all your code and the results so that one can easily reproduce them. Remember: you are presenting it to your boss and have very limited amount of time to state your case. Your presentation (charts and explanations within Jupyter notebook) should be as clear and short as possible but complete."
   ]
  }
 ],
 "metadata": {
  "kernelspec": {
   "display_name": "Python 3 (ipykernel)",
   "language": "python",
   "name": "python3"
  },
  "language_info": {
   "codemirror_mode": {
    "name": "ipython",
    "version": 3
   },
   "file_extension": ".py",
   "mimetype": "text/x-python",
   "name": "python",
   "nbconvert_exporter": "python",
   "pygments_lexer": "ipython3",
   "version": "3.9.12"
  }
 },
 "nbformat": 4,
 "nbformat_minor": 5
}
