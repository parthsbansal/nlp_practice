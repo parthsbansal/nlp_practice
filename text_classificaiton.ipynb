{
 "cells": [
  {
   "cell_type": "markdown",
   "id": "1e6853b0",
   "metadata": {},
   "source": [
    "## Natural Language Processing - Assignment 04"
   ]
  },
  {
   "cell_type": "code",
   "execution_count": 1,
   "id": "82999fe3",
   "metadata": {},
   "outputs": [],
   "source": [
    "# Importing necessary modules/ libraries \n",
    "import pandas as pd \n",
    "import re\n",
    "import matplotlib.pyplot as plt\n",
    "import seaborn as sns\n",
    "import nltk\n",
    "import nltk.corpus  \n",
    "from nltk.text import Text\n",
    "from sklearn.model_selection import train_test_split\n",
    "from sklearn.feature_extraction.text import CountVectorizer, TfidfVectorizer\n",
    "from sklearn.linear_model import LogisticRegression\n",
    "from sklearn import svm\n",
    "from sklearn.naive_bayes import GaussianNB,MultinomialNB\n",
    "from sklearn.metrics import classification_report\n",
    "from sklearn import metrics\n",
    "from sklearn.metrics import roc_curve, auc, roc_auc_score\n",
    "\n",
    "import warnings\n",
    "warnings.filterwarnings('ignore')"
   ]
  },
  {
   "cell_type": "code",
   "execution_count": 2,
   "id": "165b5312",
   "metadata": {
    "scrolled": true
   },
   "outputs": [],
   "source": [
    "import multiprocessing \n",
    "num_processors = multiprocessing.cpu_count()"
   ]
  },
  {
   "cell_type": "markdown",
   "id": "106e6106",
   "metadata": {},
   "source": [
    "- Leverage the results of your homework from Week-1 and Week-2 to extract free-form text comments from inspectors\n",
    "- Discard the text from “Health Code” – only keep inspectors’ comments"
   ]
  },
  {
   "cell_type": "code",
   "execution_count": 3,
   "id": "c50aacb6",
   "metadata": {},
   "outputs": [
    {
     "data": {
      "text/html": [
       "<div>\n",
       "<style scoped>\n",
       "    .dataframe tbody tr th:only-of-type {\n",
       "        vertical-align: middle;\n",
       "    }\n",
       "\n",
       "    .dataframe tbody tr th {\n",
       "        vertical-align: top;\n",
       "    }\n",
       "\n",
       "    .dataframe thead th {\n",
       "        text-align: right;\n",
       "    }\n",
       "</style>\n",
       "<table border=\"1\" class=\"dataframe\">\n",
       "  <thead>\n",
       "    <tr style=\"text-align: right;\">\n",
       "      <th></th>\n",
       "      <th>Inspection ID</th>\n",
       "      <th>DBA Name</th>\n",
       "      <th>AKA Name</th>\n",
       "      <th>License #</th>\n",
       "      <th>Facility Type</th>\n",
       "      <th>Risk</th>\n",
       "      <th>Address</th>\n",
       "      <th>City</th>\n",
       "      <th>State</th>\n",
       "      <th>Zip</th>\n",
       "      <th>Inspection Date</th>\n",
       "      <th>Inspection Type</th>\n",
       "      <th>Results</th>\n",
       "      <th>Violations</th>\n",
       "      <th>Latitude</th>\n",
       "      <th>Longitude</th>\n",
       "      <th>Location</th>\n",
       "    </tr>\n",
       "  </thead>\n",
       "  <tbody>\n",
       "    <tr>\n",
       "      <th>0</th>\n",
       "      <td>2572252</td>\n",
       "      <td>Thomas, Velma ECC</td>\n",
       "      <td>Thomas, Velma ECC</td>\n",
       "      <td>26891.0</td>\n",
       "      <td>School</td>\n",
       "      <td>Risk 1 (High)</td>\n",
       "      <td>3625 S Hoyne (2100W) (St. Maurice)</td>\n",
       "      <td>CHICAGO</td>\n",
       "      <td>IL</td>\n",
       "      <td>60609.0</td>\n",
       "      <td>03/09/2023</td>\n",
       "      <td>Canvass</td>\n",
       "      <td>Pass</td>\n",
       "      <td>NaN</td>\n",
       "      <td>NaN</td>\n",
       "      <td>NaN</td>\n",
       "      <td>NaN</td>\n",
       "    </tr>\n",
       "    <tr>\n",
       "      <th>1</th>\n",
       "      <td>2571519</td>\n",
       "      <td>DINKY DONUTS, INC</td>\n",
       "      <td>DINKY DONUTS, INC</td>\n",
       "      <td>2262653.0</td>\n",
       "      <td>Shared Kitchen User (Long Term)</td>\n",
       "      <td>Risk 2 (Medium)</td>\n",
       "      <td>1223 N ROSSELL</td>\n",
       "      <td>OAK PARK</td>\n",
       "      <td>IL</td>\n",
       "      <td>60302.0</td>\n",
       "      <td>02/21/2023</td>\n",
       "      <td>Canvass</td>\n",
       "      <td>Pass</td>\n",
       "      <td>NaN</td>\n",
       "      <td>NaN</td>\n",
       "      <td>NaN</td>\n",
       "      <td>NaN</td>\n",
       "    </tr>\n",
       "    <tr>\n",
       "      <th>2</th>\n",
       "      <td>2569647</td>\n",
       "      <td>Sauganash Elementary School</td>\n",
       "      <td>Sauganash Elementary School</td>\n",
       "      <td>25211.0</td>\n",
       "      <td>School</td>\n",
       "      <td>Risk 1 (High)</td>\n",
       "      <td>6040 N Kilpatrick (4700W) AVE</td>\n",
       "      <td>CHICAGO</td>\n",
       "      <td>IL</td>\n",
       "      <td>60646.0</td>\n",
       "      <td>01/13/2023</td>\n",
       "      <td>Canvass</td>\n",
       "      <td>Pass</td>\n",
       "      <td>NaN</td>\n",
       "      <td>NaN</td>\n",
       "      <td>NaN</td>\n",
       "      <td>NaN</td>\n",
       "    </tr>\n",
       "    <tr>\n",
       "      <th>3</th>\n",
       "      <td>2569435</td>\n",
       "      <td>BODEGA BAY MART</td>\n",
       "      <td>BODEGA BAY MART</td>\n",
       "      <td>2868379.0</td>\n",
       "      <td>Grocery Store</td>\n",
       "      <td>Risk 2 (Medium)</td>\n",
       "      <td>2007 W NORTH AVE</td>\n",
       "      <td>CHICAGO</td>\n",
       "      <td>IL</td>\n",
       "      <td>60647.0</td>\n",
       "      <td>01/10/2023</td>\n",
       "      <td>License</td>\n",
       "      <td>Pass</td>\n",
       "      <td>NaN</td>\n",
       "      <td>41.910364</td>\n",
       "      <td>-87.677919</td>\n",
       "      <td>(41.91036370650572, -87.67791864931262)</td>\n",
       "    </tr>\n",
       "    <tr>\n",
       "      <th>4</th>\n",
       "      <td>2568832</td>\n",
       "      <td>CHECKERS</td>\n",
       "      <td>CHECKERS</td>\n",
       "      <td>2808225.0</td>\n",
       "      <td>Restaurant</td>\n",
       "      <td>Risk 1 (High)</td>\n",
       "      <td>107 E 95TH ST</td>\n",
       "      <td>CHICAGO</td>\n",
       "      <td>IL</td>\n",
       "      <td>60619.0</td>\n",
       "      <td>12/21/2022</td>\n",
       "      <td>Canvass</td>\n",
       "      <td>Out of Business</td>\n",
       "      <td>NaN</td>\n",
       "      <td>41.721678</td>\n",
       "      <td>-87.620237</td>\n",
       "      <td>(41.72167844703262, -87.62023668969535)</td>\n",
       "    </tr>\n",
       "  </tbody>\n",
       "</table>\n",
       "</div>"
      ],
      "text/plain": [
       "   Inspection ID                     DBA Name                     AKA Name  \\\n",
       "0        2572252            Thomas, Velma ECC            Thomas, Velma ECC   \n",
       "1        2571519            DINKY DONUTS, INC            DINKY DONUTS, INC   \n",
       "2        2569647  Sauganash Elementary School  Sauganash Elementary School   \n",
       "3        2569435              BODEGA BAY MART              BODEGA BAY MART   \n",
       "4        2568832                     CHECKERS                     CHECKERS   \n",
       "\n",
       "   License #                    Facility Type             Risk  \\\n",
       "0    26891.0                           School    Risk 1 (High)   \n",
       "1  2262653.0  Shared Kitchen User (Long Term)  Risk 2 (Medium)   \n",
       "2    25211.0                           School    Risk 1 (High)   \n",
       "3  2868379.0                    Grocery Store  Risk 2 (Medium)   \n",
       "4  2808225.0                       Restaurant    Risk 1 (High)   \n",
       "\n",
       "                               Address      City State      Zip  \\\n",
       "0  3625 S Hoyne (2100W) (St. Maurice)    CHICAGO    IL  60609.0   \n",
       "1                      1223 N ROSSELL   OAK PARK    IL  60302.0   \n",
       "2       6040 N Kilpatrick (4700W) AVE    CHICAGO    IL  60646.0   \n",
       "3                    2007 W NORTH AVE    CHICAGO    IL  60647.0   \n",
       "4                       107 E 95TH ST    CHICAGO    IL  60619.0   \n",
       "\n",
       "  Inspection Date Inspection Type          Results Violations   Latitude  \\\n",
       "0      03/09/2023         Canvass             Pass        NaN        NaN   \n",
       "1      02/21/2023         Canvass             Pass        NaN        NaN   \n",
       "2      01/13/2023         Canvass             Pass        NaN        NaN   \n",
       "3      01/10/2023         License             Pass        NaN  41.910364   \n",
       "4      12/21/2022         Canvass  Out of Business        NaN  41.721678   \n",
       "\n",
       "   Longitude                                 Location  \n",
       "0        NaN                                      NaN  \n",
       "1        NaN                                      NaN  \n",
       "2        NaN                                      NaN  \n",
       "3 -87.677919  (41.91036370650572, -87.67791864931262)  \n",
       "4 -87.620237  (41.72167844703262, -87.62023668969535)  "
      ]
     },
     "execution_count": 3,
     "metadata": {},
     "output_type": "execute_result"
    }
   ],
   "source": [
    "# Reading the csv file \n",
    "df = pd.read_csv('/Users/parthbansal/Downloads/Food_Inspections.csv')\n",
    "df.head()"
   ]
  },
  {
   "cell_type": "code",
   "execution_count": 4,
   "id": "6cb758a5",
   "metadata": {},
   "outputs": [
    {
     "name": "stdout",
     "output_type": "stream",
     "text": [
      "<class 'pandas.core.frame.DataFrame'>\n",
      "RangeIndex: 252478 entries, 0 to 252477\n",
      "Data columns (total 17 columns):\n",
      " #   Column           Non-Null Count   Dtype  \n",
      "---  ------           --------------   -----  \n",
      " 0   Inspection ID    252478 non-null  int64  \n",
      " 1   DBA Name         252478 non-null  object \n",
      " 2   AKA Name         249989 non-null  object \n",
      " 3   License #        252470 non-null  float64\n",
      " 4   Facility Type    247418 non-null  object \n",
      " 5   Risk             252403 non-null  object \n",
      " 6   Address          252478 non-null  object \n",
      " 7   City             252304 non-null  object \n",
      " 8   State            252428 non-null  object \n",
      " 9   Zip              252401 non-null  float64\n",
      " 10  Inspection Date  252478 non-null  object \n",
      " 11  Inspection Type  252477 non-null  object \n",
      " 12  Results          252478 non-null  object \n",
      " 13  Violations       183692 non-null  object \n",
      " 14  Latitude         251609 non-null  float64\n",
      " 15  Longitude        251609 non-null  float64\n",
      " 16  Location         251609 non-null  object \n",
      "dtypes: float64(4), int64(1), object(12)\n",
      "memory usage: 32.7+ MB\n"
     ]
    }
   ],
   "source": [
    "df.info()"
   ]
  },
  {
   "cell_type": "code",
   "execution_count": 5,
   "id": "5cd4e6f7",
   "metadata": {},
   "outputs": [
    {
     "data": {
      "text/plain": [
       "(183692, 17)"
      ]
     },
     "execution_count": 5,
     "metadata": {},
     "output_type": "execute_result"
    }
   ],
   "source": [
    "df = df.dropna(subset = 'Violations')\n",
    "df.shape"
   ]
  },
  {
   "cell_type": "code",
   "execution_count": 6,
   "id": "0cfcb45f",
   "metadata": {},
   "outputs": [
    {
     "data": {
      "text/html": [
       "<div>\n",
       "<style scoped>\n",
       "    .dataframe tbody tr th:only-of-type {\n",
       "        vertical-align: middle;\n",
       "    }\n",
       "\n",
       "    .dataframe tbody tr th {\n",
       "        vertical-align: top;\n",
       "    }\n",
       "\n",
       "    .dataframe thead th {\n",
       "        text-align: right;\n",
       "    }\n",
       "</style>\n",
       "<table border=\"1\" class=\"dataframe\">\n",
       "  <thead>\n",
       "    <tr style=\"text-align: right;\">\n",
       "      <th></th>\n",
       "      <th>Results</th>\n",
       "      <th>Violations</th>\n",
       "    </tr>\n",
       "  </thead>\n",
       "  <tbody>\n",
       "    <tr>\n",
       "      <th>50373</th>\n",
       "      <td>Fail</td>\n",
       "      <td>5. PROCEDURES FOR RESPONDING TO VOMITING AND D...</td>\n",
       "    </tr>\n",
       "    <tr>\n",
       "      <th>3580</th>\n",
       "      <td>Fail</td>\n",
       "      <td>1. SOURCE SOUND CONDITION, NO SPOILAGE, FOODS ...</td>\n",
       "    </tr>\n",
       "    <tr>\n",
       "      <th>46265</th>\n",
       "      <td>Fail</td>\n",
       "      <td>3. MANAGEMENT, FOOD EMPLOYEE AND CONDITIONAL E...</td>\n",
       "    </tr>\n",
       "    <tr>\n",
       "      <th>42805</th>\n",
       "      <td>Fail</td>\n",
       "      <td>3. MANAGEMENT, FOOD EMPLOYEE AND CONDITIONAL E...</td>\n",
       "    </tr>\n",
       "    <tr>\n",
       "      <th>244218</th>\n",
       "      <td>Pass</td>\n",
       "      <td>32. FOOD AND NON-FOOD CONTACT SURFACES PROPERL...</td>\n",
       "    </tr>\n",
       "  </tbody>\n",
       "</table>\n",
       "</div>"
      ],
      "text/plain": [
       "       Results                                         Violations\n",
       "50373     Fail  5. PROCEDURES FOR RESPONDING TO VOMITING AND D...\n",
       "3580      Fail  1. SOURCE SOUND CONDITION, NO SPOILAGE, FOODS ...\n",
       "46265     Fail  3. MANAGEMENT, FOOD EMPLOYEE AND CONDITIONAL E...\n",
       "42805     Fail  3. MANAGEMENT, FOOD EMPLOYEE AND CONDITIONAL E...\n",
       "244218    Pass  32. FOOD AND NON-FOOD CONTACT SURFACES PROPERL..."
      ]
     },
     "execution_count": 6,
     "metadata": {},
     "output_type": "execute_result"
    }
   ],
   "source": [
    "df = df[['Results', 'Violations']]\n",
    "df.sample(5, random_state = 42)"
   ]
  },
  {
   "cell_type": "code",
   "execution_count": 7,
   "id": "925bf95d",
   "metadata": {},
   "outputs": [
    {
     "data": {
      "text/plain": [
       "Pass                  99163\n",
       "Fail                  45694\n",
       "Pass w/ Conditions    38103\n",
       "No Entry                620\n",
       "Not Ready                71\n",
       "Out of Business          41\n",
       "Name: Results, dtype: int64"
      ]
     },
     "execution_count": 7,
     "metadata": {},
     "output_type": "execute_result"
    }
   ],
   "source": [
    "df[\"Results\"].value_counts()"
   ]
  },
  {
   "cell_type": "code",
   "execution_count": 8,
   "id": "270685b1",
   "metadata": {},
   "outputs": [
    {
     "data": {
      "text/plain": [
       "(182960, 2)"
      ]
     },
     "execution_count": 8,
     "metadata": {},
     "output_type": "execute_result"
    }
   ],
   "source": [
    "# Only keeping rows with values Pass, Fail and Pass w/ Conditions\n",
    "df = df[~df['Results'].isin(['No Entry', 'Not Ready', 'Out of Business'])]\n",
    "df.shape"
   ]
  },
  {
   "cell_type": "code",
   "execution_count": 9,
   "id": "72ba3f05",
   "metadata": {},
   "outputs": [
    {
     "data": {
      "text/html": [
       "<div>\n",
       "<style scoped>\n",
       "    .dataframe tbody tr th:only-of-type {\n",
       "        vertical-align: middle;\n",
       "    }\n",
       "\n",
       "    .dataframe tbody tr th {\n",
       "        vertical-align: top;\n",
       "    }\n",
       "\n",
       "    .dataframe thead th {\n",
       "        text-align: right;\n",
       "    }\n",
       "</style>\n",
       "<table border=\"1\" class=\"dataframe\">\n",
       "  <thead>\n",
       "    <tr style=\"text-align: right;\">\n",
       "      <th></th>\n",
       "      <th>Violations</th>\n",
       "      <th>Result</th>\n",
       "    </tr>\n",
       "  </thead>\n",
       "  <tbody>\n",
       "    <tr>\n",
       "      <th>52828</th>\n",
       "      <td>37. FOOD PROPERLY LABELED; ORIGINAL CONTAINER ...</td>\n",
       "      <td>0</td>\n",
       "    </tr>\n",
       "    <tr>\n",
       "      <th>74125</th>\n",
       "      <td>3. MANAGEMENT, FOOD EMPLOYEE AND CONDITIONAL E...</td>\n",
       "      <td>0</td>\n",
       "    </tr>\n",
       "    <tr>\n",
       "      <th>87000</th>\n",
       "      <td>3. POTENTIALLY HAZARDOUS FOOD MEETS TEMPERATUR...</td>\n",
       "      <td>0</td>\n",
       "    </tr>\n",
       "    <tr>\n",
       "      <th>173671</th>\n",
       "      <td>21. * CERTIFIED FOOD MANAGER ON SITE WHEN POTE...</td>\n",
       "      <td>0</td>\n",
       "    </tr>\n",
       "    <tr>\n",
       "      <th>137684</th>\n",
       "      <td>33. FOOD AND NON-FOOD CONTACT EQUIPMENT UTENSI...</td>\n",
       "      <td>0</td>\n",
       "    </tr>\n",
       "  </tbody>\n",
       "</table>\n",
       "</div>"
      ],
      "text/plain": [
       "                                               Violations  Result\n",
       "52828   37. FOOD PROPERLY LABELED; ORIGINAL CONTAINER ...       0\n",
       "74125   3. MANAGEMENT, FOOD EMPLOYEE AND CONDITIONAL E...       0\n",
       "87000   3. POTENTIALLY HAZARDOUS FOOD MEETS TEMPERATUR...       0\n",
       "173671  21. * CERTIFIED FOOD MANAGER ON SITE WHEN POTE...       0\n",
       "137684  33. FOOD AND NON-FOOD CONTACT EQUIPMENT UTENSI...       0"
      ]
     },
     "execution_count": 9,
     "metadata": {},
     "output_type": "execute_result"
    }
   ],
   "source": [
    "# 0 if Results == Pass or Pass w/ Conditions, 1 if Results == Fail\n",
    "df['Result'] = df['Results'].apply(lambda x: 0 if x in ['Pass', 'Pass w/ Conditions'] else 1)\n",
    "df.drop('Results', axis=1, inplace=True)\n",
    "df.sample(5, random_state = 42)"
   ]
  },
  {
   "cell_type": "code",
   "execution_count": 10,
   "id": "6df12532",
   "metadata": {},
   "outputs": [
    {
     "data": {
      "text/plain": [
       "0    137266\n",
       "1     45694\n",
       "Name: Result, dtype: int64"
      ]
     },
     "execution_count": 10,
     "metadata": {},
     "output_type": "execute_result"
    }
   ],
   "source": [
    "df['Result'].value_counts()"
   ]
  },
  {
   "cell_type": "code",
   "execution_count": 11,
   "id": "516eec4b",
   "metadata": {},
   "outputs": [],
   "source": [
    "df['Comments'] = df['Violations'].apply(lambda x : re.sub(r'[0-9#\\-]+\\.[0-9]+\\s+','',x))\n",
    "df['Comments'] = df['Comments'].apply(lambda x : re.findall(r'(?<=Comments: )[^|]*(?=\\||$)',x))\n",
    "df['Comments'] = df['Comments'].apply(lambda x: ' '.join(str(i) for i in x))"
   ]
  },
  {
   "cell_type": "code",
   "execution_count": 12,
   "id": "06573a25",
   "metadata": {},
   "outputs": [
    {
     "data": {
      "text/html": [
       "<div>\n",
       "<style scoped>\n",
       "    .dataframe tbody tr th:only-of-type {\n",
       "        vertical-align: middle;\n",
       "    }\n",
       "\n",
       "    .dataframe tbody tr th {\n",
       "        vertical-align: top;\n",
       "    }\n",
       "\n",
       "    .dataframe thead th {\n",
       "        text-align: right;\n",
       "    }\n",
       "</style>\n",
       "<table border=\"1\" class=\"dataframe\">\n",
       "  <thead>\n",
       "    <tr style=\"text-align: right;\">\n",
       "      <th></th>\n",
       "      <th>Result</th>\n",
       "      <th>Comments</th>\n",
       "    </tr>\n",
       "  </thead>\n",
       "  <tbody>\n",
       "    <tr>\n",
       "      <th>52828</th>\n",
       "      <td>0</td>\n",
       "      <td>INSTRUCTED TO LABEL THE WHITE ROLLING BULK FOO...</td>\n",
       "    </tr>\n",
       "    <tr>\n",
       "      <th>74125</th>\n",
       "      <td>0</td>\n",
       "      <td>NOTED NO EMPLOYEE HEALTH POLICY ON SITE AT THE...</td>\n",
       "    </tr>\n",
       "    <tr>\n",
       "      <th>87000</th>\n",
       "      <td>0</td>\n",
       "      <td>Found the following potentially hazardous food...</td>\n",
       "    </tr>\n",
       "    <tr>\n",
       "      <th>173671</th>\n",
       "      <td>0</td>\n",
       "      <td>FOUND NO CITY OF CHICAGO CERTIFIED FOOD MANAGE...</td>\n",
       "    </tr>\n",
       "    <tr>\n",
       "      <th>137684</th>\n",
       "      <td>0</td>\n",
       "      <td>OBSERVED THE REAR SLISER NOT CLEAN, INNSTRUCTE...</td>\n",
       "    </tr>\n",
       "  </tbody>\n",
       "</table>\n",
       "</div>"
      ],
      "text/plain": [
       "        Result                                           Comments\n",
       "52828        0  INSTRUCTED TO LABEL THE WHITE ROLLING BULK FOO...\n",
       "74125        0  NOTED NO EMPLOYEE HEALTH POLICY ON SITE AT THE...\n",
       "87000        0  Found the following potentially hazardous food...\n",
       "173671       0  FOUND NO CITY OF CHICAGO CERTIFIED FOOD MANAGE...\n",
       "137684       0  OBSERVED THE REAR SLISER NOT CLEAN, INNSTRUCTE..."
      ]
     },
     "execution_count": 12,
     "metadata": {},
     "output_type": "execute_result"
    }
   ],
   "source": [
    "df.drop('Violations', axis=1, inplace=True)\n",
    "df.sample(5, random_state = 42)"
   ]
  },
  {
   "cell_type": "markdown",
   "id": "939b4520",
   "metadata": {},
   "source": [
    "- Build classification model, predicting the outcome of inspection – your target variable is “Results”\n",
    "- Explain why you selected a particular text pre-processing technique\n",
    "- Visualize results of at least two text classifiers and select the most robust one\n",
    "- You can choose to build a binary classifier (limiting your data to Pass / Fail) or multinomial classifier with all available values in Results"
   ]
  },
  {
   "cell_type": "code",
   "execution_count": 13,
   "id": "c505a473",
   "metadata": {},
   "outputs": [],
   "source": [
    "# Train_test_split\n",
    "X = df['Comments']\n",
    "y = df['Result']\n",
    "X_train, X_test, y_train, y_test = train_test_split(X, y,test_size=0.3, random_state=42)"
   ]
  },
  {
   "cell_type": "code",
   "execution_count": 14,
   "id": "e83c180a",
   "metadata": {},
   "outputs": [
    {
     "name": "stdout",
     "output_type": "stream",
     "text": [
      "CPU times: user 26.6 s, sys: 628 ms, total: 27.3 s\n",
      "Wall time: 27.3 s\n"
     ]
    }
   ],
   "source": [
    "# Applying text preprocessing techniques\n",
    "cv = CountVectorizer(stop_words='english', ngram_range=(1,3))\n",
    "%time X_train_cv = cv.fit_transform(X_train)"
   ]
  },
  {
   "cell_type": "code",
   "execution_count": 15,
   "id": "d126d488",
   "metadata": {},
   "outputs": [
    {
     "name": "stdout",
     "output_type": "stream",
     "text": [
      "CPU times: user 28.8 s, sys: 767 ms, total: 29.6 s\n",
      "Wall time: 29.6 s\n"
     ]
    }
   ],
   "source": [
    "tfidf = TfidfVectorizer(stop_words=\"english\",ngram_range=(1,3))\n",
    "%time X_train_tfidf = tfidf.fit_transform(X_train)"
   ]
  },
  {
   "cell_type": "code",
   "execution_count": 16,
   "id": "d72cc3f9",
   "metadata": {},
   "outputs": [],
   "source": [
    "X_test_cv = cv.transform(X_test)\n",
    "X_test_tfidf = tfidf.transform(X_test)"
   ]
  },
  {
   "cell_type": "markdown",
   "id": "37bb128a",
   "metadata": {},
   "source": [
    "#### I decided to use the TFIDF Vectorizer because it has two key advantages. Firstly, it is generally faster to use in the model training process. Secondly, it captures the context of the text and also takes into account the frequency of a particular word in the text, regardless of whether the word occurs frequently or infrequently. In other words, the TFIDF Vectorizer is able to identify both high and low frequency words.\n",
    "\n",
    "#### Note: I did plan on making use of lemmatization. However, I was getting a runtime error and so, I decided on running the models without it. For future extensions, I might make use of it. "
   ]
  },
  {
   "cell_type": "code",
   "execution_count": 17,
   "id": "7c1507e6",
   "metadata": {},
   "outputs": [],
   "source": [
    "# Building varied classification models"
   ]
  },
  {
   "cell_type": "code",
   "execution_count": 18,
   "id": "41db6d48",
   "metadata": {},
   "outputs": [
    {
     "name": "stdout",
     "output_type": "stream",
     "text": [
      "CPU times: user 2min 8s, sys: 36.1 s, total: 2min 44s\n",
      "Wall time: 33.1 s\n"
     ]
    },
    {
     "data": {
      "text/plain": [
       "LogisticRegression()"
      ]
     },
     "execution_count": 18,
     "metadata": {},
     "output_type": "execute_result"
    }
   ],
   "source": [
    "# Logistic Regression with Count Vectorizer\n",
    "logreg_cv = LogisticRegression()\n",
    "%time logreg_cv.fit(X_train_cv, y_train)"
   ]
  },
  {
   "cell_type": "code",
   "execution_count": 19,
   "id": "13eeaedd",
   "metadata": {},
   "outputs": [],
   "source": [
    "y_pred_cv = logreg_cv.predict(X_test_cv)"
   ]
  },
  {
   "cell_type": "code",
   "execution_count": 20,
   "id": "66361b56",
   "metadata": {},
   "outputs": [
    {
     "name": "stdout",
     "output_type": "stream",
     "text": [
      "              precision    recall  f1-score   support\n",
      "\n",
      "           0       0.95      0.97      0.96     41101\n",
      "           1       0.92      0.86      0.89     13787\n",
      "\n",
      "    accuracy                           0.94     54888\n",
      "   macro avg       0.93      0.92      0.92     54888\n",
      "weighted avg       0.94      0.94      0.94     54888\n",
      "\n"
     ]
    }
   ],
   "source": [
    "print(classification_report(y_test, y_pred_cv))"
   ]
  },
  {
   "cell_type": "code",
   "execution_count": 21,
   "id": "01e01b04",
   "metadata": {},
   "outputs": [
    {
     "name": "stdout",
     "output_type": "stream",
     "text": [
      "Test Accuracy: 94.5%\n"
     ]
    }
   ],
   "source": [
    "print(f\"Test Accuracy: {metrics.accuracy_score(y_test, y_pred_cv) * 100:.1f}%\")"
   ]
  },
  {
   "cell_type": "code",
   "execution_count": 22,
   "id": "0646f722",
   "metadata": {},
   "outputs": [
    {
     "name": "stdout",
     "output_type": "stream",
     "text": [
      "[[40012  1089]\n",
      " [ 1947 11840]]\n"
     ]
    }
   ],
   "source": [
    "print(metrics.confusion_matrix(y_test, y_pred_cv))"
   ]
  },
  {
   "cell_type": "code",
   "execution_count": 23,
   "id": "5c0ef522",
   "metadata": {},
   "outputs": [
    {
     "data": {
      "text/plain": [
       "0.9715054527976164"
      ]
     },
     "execution_count": 23,
     "metadata": {},
     "output_type": "execute_result"
    }
   ],
   "source": [
    "y_pred_prob_cv = logreg_cv.predict_proba(X_test_cv)\n",
    "roc_auc_score(y_test, y_pred_prob_cv[:,1])"
   ]
  },
  {
   "cell_type": "code",
   "execution_count": 24,
   "id": "b9dc8c4d",
   "metadata": {},
   "outputs": [
    {
     "data": {
      "image/png": "[encoded data removed]",
      "text/plain": [
       "<Figure size 1080x720 with 1 Axes>"
      ]
     },
     "metadata": {
      "needs_background": "light"
     },
     "output_type": "display_data"
    }
   ],
   "source": [
    "def roc_curve_plot(y_test_, y_pred_prob_):\n",
    "    roc_score = roc_auc_score(y_test_, y_pred_prob_)\n",
    "    fpr, tpr, thresholds = roc_curve(y_test_, y_pred_prob_)\n",
    "    plt.figure(figsize=(15, 10))   \n",
    "    lw = 2\n",
    "    plt.plot(fpr, tpr, color='red',\n",
    "             lw=lw, label='ROC curve (area = %0.2f)' % roc_score)\n",
    "    plt.plot([0, 1], [0, 1], color='navy', lw=lw, linestyle='--')\n",
    "    plt.xlim([0.0, 1.05])\n",
    "    plt.ylim([0.0, 1.05])\n",
    "    plt.xlabel('False Positive Rate')\n",
    "    plt.ylabel('True Positive Rate')\n",
    "    plt.title('ROC Curve')\n",
    "    plt.legend(loc=\"lower right\")\n",
    "    plt.show()\n",
    "    \n",
    "roc_curve_plot(y_test, y_pred_prob_cv[:,1])"
   ]
  },
  {
   "cell_type": "code",
   "execution_count": 25,
   "id": "c54a1d5e",
   "metadata": {},
   "outputs": [
    {
     "name": "stdout",
     "output_type": "stream",
     "text": [
      "CPU times: user 1min 57s, sys: 32.8 s, total: 2min 29s\n",
      "Wall time: 30.2 s\n"
     ]
    }
   ],
   "source": [
    "# Logistic Regression with Tfidf Vectorizer\n",
    "logreg_tfidf = LogisticRegression()\n",
    "%time logreg_tfidf.fit(X_train_tfidf, y_train)\n",
    "y_pred_tfidf = logreg_tfidf.predict(X_test_tfidf)"
   ]
  },
  {
   "cell_type": "code",
   "execution_count": 26,
   "id": "f91b1923",
   "metadata": {},
   "outputs": [
    {
     "name": "stdout",
     "output_type": "stream",
     "text": [
      "              precision    recall  f1-score   support\n",
      "\n",
      "           0       0.95      0.97      0.96     41101\n",
      "           1       0.91      0.85      0.88     13787\n",
      "\n",
      "    accuracy                           0.94     54888\n",
      "   macro avg       0.93      0.91      0.92     54888\n",
      "weighted avg       0.94      0.94      0.94     54888\n",
      "\n"
     ]
    }
   ],
   "source": [
    "print(classification_report(y_test, y_pred_tfidf))"
   ]
  },
  {
   "cell_type": "code",
   "execution_count": 27,
   "id": "b9a067b5",
   "metadata": {},
   "outputs": [
    {
     "name": "stdout",
     "output_type": "stream",
     "text": [
      "Test Accuracy: 94.0%\n",
      "Test Precision: 90.5%\n",
      "Test Recall: 85.0%\n"
     ]
    }
   ],
   "source": [
    "print(f\"Test Accuracy: {metrics.accuracy_score(y_test, y_pred_tfidf) * 100:.1f}%\")\n",
    "print(f\"Test Precision: {metrics.precision_score(y_test, y_pred_tfidf) * 100:.1f}%\")\n",
    "print(f\"Test Recall: {metrics.recall_score(y_test, y_pred_tfidf) * 100:.1f}%\")"
   ]
  },
  {
   "cell_type": "code",
   "execution_count": 28,
   "id": "36f33de7",
   "metadata": {},
   "outputs": [
    {
     "name": "stdout",
     "output_type": "stream",
     "text": [
      "[[39877  1224]\n",
      " [ 2066 11721]]\n"
     ]
    }
   ],
   "source": [
    "print(metrics.confusion_matrix(y_test, y_pred_tfidf))"
   ]
  },
  {
   "cell_type": "code",
   "execution_count": 29,
   "id": "1ba9f7e8",
   "metadata": {},
   "outputs": [
    {
     "data": {
      "text/plain": [
       "0.911975719732369"
      ]
     },
     "execution_count": 29,
     "metadata": {},
     "output_type": "execute_result"
    }
   ],
   "source": [
    "y_pred_prob_tfidf = logreg_cv.predict_proba(X_test_tfidf)\n",
    "roc_auc_score(y_test, y_pred_prob_tfidf[:,1])"
   ]
  },
  {
   "cell_type": "code",
   "execution_count": 30,
   "id": "3b7b7220",
   "metadata": {},
   "outputs": [
    {
     "data": {
      "image/png": "[encoded data removed]",
      "text/plain": [
       "<Figure size 1080x720 with 1 Axes>"
      ]
     },
     "metadata": {
      "needs_background": "light"
     },
     "output_type": "display_data"
    }
   ],
   "source": [
    "roc_curve_plot(y_test, y_pred_prob_tfidf[:,1])"
   ]
  },
  {
   "cell_type": "code",
   "execution_count": 31,
   "id": "66328321",
   "metadata": {},
   "outputs": [
    {
     "name": "stdout",
     "output_type": "stream",
     "text": [
      "CPU times: user 1min, sys: 607 ms, total: 1min 1s\n",
      "Wall time: 1min 1s\n"
     ]
    }
   ],
   "source": [
    "# Support Vector Machine with Count Vectorizer\n",
    "sv= svm.LinearSVC()\n",
    "%time sv.fit(X_train_cv,y_train)\n",
    "y_pred_cv_svm = sv.predict(X_test_cv)"
   ]
  },
  {
   "cell_type": "code",
   "execution_count": 32,
   "id": "0d125a8d",
   "metadata": {},
   "outputs": [
    {
     "name": "stdout",
     "output_type": "stream",
     "text": [
      "              precision    recall  f1-score   support\n",
      "\n",
      "           0       0.95      0.97      0.96     41101\n",
      "           1       0.90      0.86      0.88     13787\n",
      "\n",
      "    accuracy                           0.94     54888\n",
      "   macro avg       0.93      0.91      0.92     54888\n",
      "weighted avg       0.94      0.94      0.94     54888\n",
      "\n"
     ]
    }
   ],
   "source": [
    "print(classification_report(y_test, y_pred_cv_svm))"
   ]
  },
  {
   "cell_type": "code",
   "execution_count": 33,
   "id": "d83289b1",
   "metadata": {},
   "outputs": [
    {
     "name": "stdout",
     "output_type": "stream",
     "text": [
      "Test Accuracy: 94.2%\n"
     ]
    }
   ],
   "source": [
    "print(f\"Test Accuracy: {metrics.accuracy_score(y_test, y_pred_cv_svm) * 100:.1f}%\")"
   ]
  },
  {
   "cell_type": "code",
   "execution_count": 34,
   "id": "c4d5d5f4",
   "metadata": {},
   "outputs": [
    {
     "name": "stdout",
     "output_type": "stream",
     "text": [
      "[[39839  1262]\n",
      " [ 1931 11856]]\n"
     ]
    }
   ],
   "source": [
    "print(metrics.confusion_matrix(y_test, y_pred_cv_svm))"
   ]
  },
  {
   "cell_type": "code",
   "execution_count": 35,
   "id": "4786d67e",
   "metadata": {},
   "outputs": [
    {
     "data": {
      "text/plain": [
       "0.9146178373256458"
      ]
     },
     "execution_count": 35,
     "metadata": {},
     "output_type": "execute_result"
    }
   ],
   "source": [
    "metrics.roc_auc_score(y_test,y_pred_cv_svm)"
   ]
  },
  {
   "cell_type": "code",
   "execution_count": 36,
   "id": "18384cfb",
   "metadata": {},
   "outputs": [
    {
     "name": "stdout",
     "output_type": "stream",
     "text": [
      "CPU times: user 3.61 s, sys: 106 ms, total: 3.72 s\n",
      "Wall time: 3.72 s\n"
     ]
    }
   ],
   "source": [
    "# Support Vector Machine with Tfidf Vectorizer \n",
    "%time sv.fit(X_train_tfidf, y_train)\n",
    "y_pred_tfidf_svm = sv.predict(X_test_tfidf)"
   ]
  },
  {
   "cell_type": "code",
   "execution_count": 37,
   "id": "06c73391",
   "metadata": {},
   "outputs": [
    {
     "name": "stdout",
     "output_type": "stream",
     "text": [
      "              precision    recall  f1-score   support\n",
      "\n",
      "           0       0.96      0.97      0.97     41101\n",
      "           1       0.91      0.89      0.90     13787\n",
      "\n",
      "    accuracy                           0.95     54888\n",
      "   macro avg       0.94      0.93      0.94     54888\n",
      "weighted avg       0.95      0.95      0.95     54888\n",
      "\n"
     ]
    }
   ],
   "source": [
    "print(classification_report(y_test, y_pred_tfidf_svm))"
   ]
  },
  {
   "cell_type": "code",
   "execution_count": 38,
   "id": "e67e5df9",
   "metadata": {},
   "outputs": [
    {
     "name": "stdout",
     "output_type": "stream",
     "text": [
      "Test Accuracy: 95.2%\n",
      "Test Precision: 91.3%\n",
      "Test Recall: 89.3%\n"
     ]
    }
   ],
   "source": [
    "print(f\"Test Accuracy: {metrics.accuracy_score(y_test, y_pred_tfidf_svm) * 100:.1f}%\")\n",
    "print(f\"Test Precision: {metrics.precision_score(y_test, y_pred_tfidf_svm) * 100:.1f}%\")\n",
    "print(f\"Test Recall: {metrics.recall_score(y_test, y_pred_tfidf_svm) * 100:.1f}%\")"
   ]
  },
  {
   "cell_type": "code",
   "execution_count": 39,
   "id": "0febca5c",
   "metadata": {
    "scrolled": true
   },
   "outputs": [
    {
     "name": "stdout",
     "output_type": "stream",
     "text": [
      "[[39927  1174]\n",
      " [ 1476 12311]]\n"
     ]
    }
   ],
   "source": [
    "print(metrics.confusion_matrix(y_test, y_pred_tfidf_svm))"
   ]
  },
  {
   "cell_type": "code",
   "execution_count": 40,
   "id": "00425128",
   "metadata": {},
   "outputs": [
    {
     "data": {
      "text/plain": [
       "0.9321894226046902"
      ]
     },
     "execution_count": 40,
     "metadata": {},
     "output_type": "execute_result"
    }
   ],
   "source": [
    "metrics.roc_auc_score(y_test,y_pred_tfidf_svm)"
   ]
  },
  {
   "cell_type": "code",
   "execution_count": 41,
   "id": "2c652c47",
   "metadata": {},
   "outputs": [
    {
     "name": "stdout",
     "output_type": "stream",
     "text": [
      "CPU times: user 289 ms, sys: 51.7 ms, total: 340 ms\n",
      "Wall time: 339 ms\n"
     ]
    }
   ],
   "source": [
    "# Naive Baye with Count Vectorizer \n",
    "nb = MultinomialNB()\n",
    "%time nb.fit(X_train_cv,y_train)\n",
    "y_pred_cv_nb= nb.predict(X_test_cv)"
   ]
  },
  {
   "cell_type": "code",
   "execution_count": 42,
   "id": "67b8faa7",
   "metadata": {},
   "outputs": [
    {
     "name": "stdout",
     "output_type": "stream",
     "text": [
      "              precision    recall  f1-score   support\n",
      "\n",
      "           0       0.94      0.90      0.92     41101\n",
      "           1       0.74      0.82      0.78     13787\n",
      "\n",
      "    accuracy                           0.88     54888\n",
      "   macro avg       0.84      0.86      0.85     54888\n",
      "weighted avg       0.89      0.88      0.88     54888\n",
      "\n"
     ]
    }
   ],
   "source": [
    "print(classification_report(y_test,y_pred_cv_nb))"
   ]
  },
  {
   "cell_type": "code",
   "execution_count": 43,
   "id": "a8f38ec3",
   "metadata": {},
   "outputs": [
    {
     "name": "stdout",
     "output_type": "stream",
     "text": [
      "Test Accuracy: 88.2%\n"
     ]
    }
   ],
   "source": [
    "print(f\"Test Accuracy: {metrics.accuracy_score(y_test, y_pred_cv_nb) * 100:.1f}%\")"
   ]
  },
  {
   "cell_type": "code",
   "execution_count": 44,
   "id": "ec0a2505",
   "metadata": {},
   "outputs": [
    {
     "name": "stdout",
     "output_type": "stream",
     "text": [
      "[[37081  4020]\n",
      " [ 2431 11356]]\n"
     ]
    }
   ],
   "source": [
    "print(metrics.confusion_matrix(y_test, y_pred_cv_nb))"
   ]
  },
  {
   "cell_type": "code",
   "execution_count": 45,
   "id": "643a9eb1",
   "metadata": {},
   "outputs": [
    {
     "data": {
      "text/plain": [
       "0.8922401920361743"
      ]
     },
     "execution_count": 45,
     "metadata": {},
     "output_type": "execute_result"
    }
   ],
   "source": [
    "y_pred_cv_nb_prob= nb.predict_proba(X_test_cv)\n",
    "roc_auc_score(y_test, y_pred_cv_nb_prob[:,1])"
   ]
  },
  {
   "cell_type": "code",
   "execution_count": 46,
   "id": "c0499e7c",
   "metadata": {},
   "outputs": [
    {
     "data": {
      "image/png": "[encoded data removed]",
      "text/plain": [
       "<Figure size 1080x720 with 1 Axes>"
      ]
     },
     "metadata": {
      "needs_background": "light"
     },
     "output_type": "display_data"
    }
   ],
   "source": [
    "roc_curve_plot(y_test, y_pred_cv_nb_prob[:,1])"
   ]
  },
  {
   "cell_type": "code",
   "execution_count": 47,
   "id": "cee504fc",
   "metadata": {},
   "outputs": [
    {
     "name": "stdout",
     "output_type": "stream",
     "text": [
      "CPU times: user 183 ms, sys: 8.81 ms, total: 192 ms\n",
      "Wall time: 191 ms\n"
     ]
    }
   ],
   "source": [
    "# Naive Bayes on Tfidf Vectorizer\n",
    "%time nb.fit(X_train_tfidf,y_train)\n",
    "y_pred_tfidf_nb= nb.predict(X_test_tfidf)"
   ]
  },
  {
   "cell_type": "code",
   "execution_count": 48,
   "id": "d9af2e75",
   "metadata": {},
   "outputs": [
    {
     "name": "stdout",
     "output_type": "stream",
     "text": [
      "              precision    recall  f1-score   support\n",
      "\n",
      "           0       0.80      1.00      0.89     41101\n",
      "           1       0.95      0.25      0.40     13787\n",
      "\n",
      "    accuracy                           0.81     54888\n",
      "   macro avg       0.88      0.62      0.64     54888\n",
      "weighted avg       0.84      0.81      0.76     54888\n",
      "\n"
     ]
    }
   ],
   "source": [
    "print(classification_report(y_test,y_pred_tfidf_nb))"
   ]
  },
  {
   "cell_type": "code",
   "execution_count": 49,
   "id": "31c9adde",
   "metadata": {},
   "outputs": [
    {
     "name": "stdout",
     "output_type": "stream",
     "text": [
      "Test Accuracy: 80.9%\n",
      "Test Precision: 95.1%\n",
      "Test Recall: 25.3%\n"
     ]
    }
   ],
   "source": [
    "print(f\"Test Accuracy: {metrics.accuracy_score(y_test, y_pred_tfidf_nb) * 100:.1f}%\")\n",
    "print(f\"Test Precision: {metrics.precision_score(y_test, y_pred_tfidf_nb) * 100:.1f}%\")\n",
    "print(f\"Test Recall: {metrics.recall_score(y_test, y_pred_tfidf_nb) * 100:.1f}%\")"
   ]
  },
  {
   "cell_type": "code",
   "execution_count": 50,
   "id": "3591e6a4",
   "metadata": {},
   "outputs": [
    {
     "name": "stdout",
     "output_type": "stream",
     "text": [
      "[[40922   179]\n",
      " [10295  3492]]\n"
     ]
    }
   ],
   "source": [
    "print(metrics.confusion_matrix(y_test, y_pred_tfidf_nb))"
   ]
  },
  {
   "cell_type": "code",
   "execution_count": 51,
   "id": "ef7654fc",
   "metadata": {},
   "outputs": [
    {
     "data": {
      "text/plain": [
       "0.5833521931311105"
      ]
     },
     "execution_count": 51,
     "metadata": {},
     "output_type": "execute_result"
    }
   ],
   "source": [
    "y_pred_tfidf_nb_prob= nb.predict_proba(X_test_cv)\n",
    "roc_auc_score(y_test, y_pred_tfidf_nb_prob[:,1])"
   ]
  },
  {
   "cell_type": "code",
   "execution_count": 52,
   "id": "b1a77360",
   "metadata": {},
   "outputs": [
    {
     "data": {
      "image/png": "[encoded data removed]",
      "text/plain": [
       "<Figure size 1080x720 with 1 Axes>"
      ]
     },
     "metadata": {
      "needs_background": "light"
     },
     "output_type": "display_data"
    }
   ],
   "source": [
    "roc_curve_plot(y_test, y_pred_tfidf_nb_prob[:,1])"
   ]
  },
  {
   "cell_type": "markdown",
   "id": "ae73b2e8",
   "metadata": {},
   "source": [
    "#### After comparing the performance of the three classifiers, it can be seen that the Support Vector Machine (SVM) performs the best overall. Specifically, SVM outperforms the other two classifiers in terms of accuracy, precision, and recall for both majority and minority classes. Additionally, SVM has a good AUC_ROC_score, which is an important measure of how well the minority class has been predicted. Compared to logistic regression, SVM takes less time to execute, while Naive Bayes takes the least time but its performance is lower than SVM. Therefore, overall, SVM is the best choice among the three classifiers based on these factors.\n",
    "- Test Accuracy: 95.2%\n",
    "- Test Precision: 91.3%\n",
    "- Test Recall: 89.3%"
   ]
  },
  {
   "cell_type": "code",
   "execution_count": null,
   "id": "7318d39a",
   "metadata": {},
   "outputs": [],
   "source": []
  }
 ],
 "metadata": {
  "kernelspec": {
   "display_name": "Python 3 (ipykernel)",
   "language": "python",
   "name": "python3"
  },
  "language_info": {
   "codemirror_mode": {
    "name": "ipython",
    "version": 3
   },
   "file_extension": ".py",
   "mimetype": "text/x-python",
   "name": "python",
   "nbconvert_exporter": "python",
   "pygments_lexer": "ipython3",
   "version": "3.9.12"
  }
 },
 "nbformat": 4,
 "nbformat_minor": 5
}
